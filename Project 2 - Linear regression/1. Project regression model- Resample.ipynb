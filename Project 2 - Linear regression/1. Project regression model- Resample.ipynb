{
 "cells": [
  {
   "cell_type": "markdown",
   "metadata": {},
   "source": [
    "## 1. Build regression model on the employee attrition dataset"
   ]
  },
  {
   "cell_type": "markdown",
   "metadata": {},
   "source": [
    "### Apply differents models on the 1st dataframe (with 19 variables)\n",
    "1. Logfit \n",
    "2. Logistic Regression \n",
    "3. Apply Multicollinearity on both models\n",
    "4. Oversampling : to have the same proportion of Yes/No (45% / 55%)\n",
    "\n",
    "\n",
    "cf. Google Slides Presentation with all the scores of differents models "
   ]
  },
  {
   "cell_type": "code",
   "execution_count": 2,
   "metadata": {},
   "outputs": [],
   "source": [
    "import pandas as pd"
   ]
  },
  {
   "cell_type": "code",
   "execution_count": 3,
   "metadata": {},
   "outputs": [],
   "source": [
    "df=pd.read_csv('EmployeeAttritionv2.csv')"
   ]
  },
  {
   "cell_type": "code",
   "execution_count": 4,
   "metadata": {},
   "outputs": [],
   "source": [
    "df.Cat_Age=df.Cat_Age.map({'41-50':3, '31-40':2, '18-30':1, '51-60':4})"
   ]
  },
  {
   "cell_type": "code",
   "execution_count": 5,
   "metadata": {},
   "outputs": [
    {
     "data": {
      "text/html": [
       "<div>\n",
       "<style scoped>\n",
       "    .dataframe tbody tr th:only-of-type {\n",
       "        vertical-align: middle;\n",
       "    }\n",
       "\n",
       "    .dataframe tbody tr th {\n",
       "        vertical-align: top;\n",
       "    }\n",
       "\n",
       "    .dataframe thead th {\n",
       "        text-align: right;\n",
       "    }\n",
       "</style>\n",
       "<table border=\"1\" class=\"dataframe\">\n",
       "  <thead>\n",
       "    <tr style=\"text-align: right;\">\n",
       "      <th></th>\n",
       "      <th>Unnamed: 0</th>\n",
       "      <th>Gender</th>\n",
       "      <th>Age</th>\n",
       "      <th>Cat_Age</th>\n",
       "      <th>Attrition</th>\n",
       "      <th>Attrition_bol</th>\n",
       "      <th>Department</th>\n",
       "      <th>JobRole</th>\n",
       "      <th>JobInvolvement</th>\n",
       "      <th>JobLevel</th>\n",
       "      <th>...</th>\n",
       "      <th>RelationshipSatisfaction</th>\n",
       "      <th>NumCompaniesWorked</th>\n",
       "      <th>StockOptionLevel</th>\n",
       "      <th>TotalWorkingYears</th>\n",
       "      <th>TrainingTimesLastYear</th>\n",
       "      <th>WorkLifeBalance</th>\n",
       "      <th>YearsAtCompany</th>\n",
       "      <th>YearsInCurrentRole</th>\n",
       "      <th>YearsSinceLastPromotion</th>\n",
       "      <th>YearsWithCurrManager</th>\n",
       "    </tr>\n",
       "  </thead>\n",
       "  <tbody>\n",
       "    <tr>\n",
       "      <th>0</th>\n",
       "      <td>0</td>\n",
       "      <td>Female</td>\n",
       "      <td>41</td>\n",
       "      <td>3</td>\n",
       "      <td>Yes</td>\n",
       "      <td>1</td>\n",
       "      <td>Sales</td>\n",
       "      <td>Sales Executive</td>\n",
       "      <td>3</td>\n",
       "      <td>2</td>\n",
       "      <td>...</td>\n",
       "      <td>1</td>\n",
       "      <td>8</td>\n",
       "      <td>0</td>\n",
       "      <td>8</td>\n",
       "      <td>0</td>\n",
       "      <td>1</td>\n",
       "      <td>6</td>\n",
       "      <td>4</td>\n",
       "      <td>0</td>\n",
       "      <td>5</td>\n",
       "    </tr>\n",
       "    <tr>\n",
       "      <th>1</th>\n",
       "      <td>1</td>\n",
       "      <td>Male</td>\n",
       "      <td>49</td>\n",
       "      <td>3</td>\n",
       "      <td>No</td>\n",
       "      <td>0</td>\n",
       "      <td>Research &amp; Development</td>\n",
       "      <td>Research Scientist</td>\n",
       "      <td>2</td>\n",
       "      <td>2</td>\n",
       "      <td>...</td>\n",
       "      <td>4</td>\n",
       "      <td>1</td>\n",
       "      <td>1</td>\n",
       "      <td>10</td>\n",
       "      <td>3</td>\n",
       "      <td>3</td>\n",
       "      <td>10</td>\n",
       "      <td>7</td>\n",
       "      <td>1</td>\n",
       "      <td>7</td>\n",
       "    </tr>\n",
       "    <tr>\n",
       "      <th>2</th>\n",
       "      <td>2</td>\n",
       "      <td>Male</td>\n",
       "      <td>37</td>\n",
       "      <td>2</td>\n",
       "      <td>Yes</td>\n",
       "      <td>1</td>\n",
       "      <td>Research &amp; Development</td>\n",
       "      <td>Laboratory Technician</td>\n",
       "      <td>2</td>\n",
       "      <td>1</td>\n",
       "      <td>...</td>\n",
       "      <td>2</td>\n",
       "      <td>6</td>\n",
       "      <td>0</td>\n",
       "      <td>7</td>\n",
       "      <td>3</td>\n",
       "      <td>3</td>\n",
       "      <td>0</td>\n",
       "      <td>0</td>\n",
       "      <td>0</td>\n",
       "      <td>0</td>\n",
       "    </tr>\n",
       "    <tr>\n",
       "      <th>3</th>\n",
       "      <td>3</td>\n",
       "      <td>Female</td>\n",
       "      <td>33</td>\n",
       "      <td>2</td>\n",
       "      <td>No</td>\n",
       "      <td>0</td>\n",
       "      <td>Research &amp; Development</td>\n",
       "      <td>Research Scientist</td>\n",
       "      <td>3</td>\n",
       "      <td>1</td>\n",
       "      <td>...</td>\n",
       "      <td>3</td>\n",
       "      <td>1</td>\n",
       "      <td>0</td>\n",
       "      <td>8</td>\n",
       "      <td>3</td>\n",
       "      <td>3</td>\n",
       "      <td>8</td>\n",
       "      <td>7</td>\n",
       "      <td>3</td>\n",
       "      <td>0</td>\n",
       "    </tr>\n",
       "    <tr>\n",
       "      <th>4</th>\n",
       "      <td>4</td>\n",
       "      <td>Male</td>\n",
       "      <td>27</td>\n",
       "      <td>1</td>\n",
       "      <td>No</td>\n",
       "      <td>0</td>\n",
       "      <td>Research &amp; Development</td>\n",
       "      <td>Laboratory Technician</td>\n",
       "      <td>3</td>\n",
       "      <td>1</td>\n",
       "      <td>...</td>\n",
       "      <td>4</td>\n",
       "      <td>9</td>\n",
       "      <td>1</td>\n",
       "      <td>6</td>\n",
       "      <td>3</td>\n",
       "      <td>3</td>\n",
       "      <td>2</td>\n",
       "      <td>2</td>\n",
       "      <td>2</td>\n",
       "      <td>2</td>\n",
       "    </tr>\n",
       "  </tbody>\n",
       "</table>\n",
       "<p>5 rows × 32 columns</p>\n",
       "</div>"
      ],
      "text/plain": [
       "   Unnamed: 0  Gender  Age  Cat_Age Attrition  Attrition_bol  \\\n",
       "0           0  Female   41        3       Yes              1   \n",
       "1           1    Male   49        3        No              0   \n",
       "2           2    Male   37        2       Yes              1   \n",
       "3           3  Female   33        2        No              0   \n",
       "4           4    Male   27        1        No              0   \n",
       "\n",
       "               Department                JobRole  JobInvolvement  JobLevel  \\\n",
       "0                   Sales        Sales Executive               3         2   \n",
       "1  Research & Development     Research Scientist               2         2   \n",
       "2  Research & Development  Laboratory Technician               2         1   \n",
       "3  Research & Development     Research Scientist               3         1   \n",
       "4  Research & Development  Laboratory Technician               3         1   \n",
       "\n",
       "   ...  RelationshipSatisfaction NumCompaniesWorked  StockOptionLevel  \\\n",
       "0  ...                         1                  8                 0   \n",
       "1  ...                         4                  1                 1   \n",
       "2  ...                         2                  6                 0   \n",
       "3  ...                         3                  1                 0   \n",
       "4  ...                         4                  9                 1   \n",
       "\n",
       "   TotalWorkingYears  TrainingTimesLastYear  WorkLifeBalance  YearsAtCompany  \\\n",
       "0                  8                      0                1               6   \n",
       "1                 10                      3                3              10   \n",
       "2                  7                      3                3               0   \n",
       "3                  8                      3                3               8   \n",
       "4                  6                      3                3               2   \n",
       "\n",
       "  YearsInCurrentRole  YearsSinceLastPromotion YearsWithCurrManager  \n",
       "0                  4                        0                    5  \n",
       "1                  7                        1                    7  \n",
       "2                  0                        0                    0  \n",
       "3                  7                        3                    0  \n",
       "4                  2                        2                    2  \n",
       "\n",
       "[5 rows x 32 columns]"
      ]
     },
     "execution_count": 5,
     "metadata": {},
     "output_type": "execute_result"
    }
   ],
   "source": [
    "df.head()"
   ]
  },
  {
   "cell_type": "code",
   "execution_count": 6,
   "metadata": {},
   "outputs": [],
   "source": [
    "y=df.Attrition_bol\n",
    "X=df.drop(['Attrition_bol','Unnamed: 0','DistanceFromHome','Age'],axis=1)._get_numeric_data()"
   ]
  },
  {
   "cell_type": "code",
   "execution_count": 178,
   "metadata": {
    "scrolled": true
   },
   "outputs": [
    {
     "data": {
      "text/html": [
       "<div>\n",
       "<style scoped>\n",
       "    .dataframe tbody tr th:only-of-type {\n",
       "        vertical-align: middle;\n",
       "    }\n",
       "\n",
       "    .dataframe tbody tr th {\n",
       "        vertical-align: top;\n",
       "    }\n",
       "\n",
       "    .dataframe thead th {\n",
       "        text-align: right;\n",
       "    }\n",
       "</style>\n",
       "<table border=\"1\" class=\"dataframe\">\n",
       "  <thead>\n",
       "    <tr style=\"text-align: right;\">\n",
       "      <th></th>\n",
       "      <th>count</th>\n",
       "      <th>mean</th>\n",
       "      <th>std</th>\n",
       "      <th>min</th>\n",
       "      <th>25%</th>\n",
       "      <th>50%</th>\n",
       "      <th>75%</th>\n",
       "      <th>max</th>\n",
       "    </tr>\n",
       "  </thead>\n",
       "  <tbody>\n",
       "    <tr>\n",
       "      <th>Cat_Age</th>\n",
       "      <td>1470.0</td>\n",
       "      <td>2.151020</td>\n",
       "      <td>0.921151</td>\n",
       "      <td>1.0</td>\n",
       "      <td>1.0</td>\n",
       "      <td>2.0</td>\n",
       "      <td>3.0</td>\n",
       "      <td>4.0</td>\n",
       "    </tr>\n",
       "    <tr>\n",
       "      <th>JobInvolvement</th>\n",
       "      <td>1470.0</td>\n",
       "      <td>2.729932</td>\n",
       "      <td>0.711561</td>\n",
       "      <td>1.0</td>\n",
       "      <td>2.0</td>\n",
       "      <td>3.0</td>\n",
       "      <td>3.0</td>\n",
       "      <td>4.0</td>\n",
       "    </tr>\n",
       "    <tr>\n",
       "      <th>JobLevel</th>\n",
       "      <td>1470.0</td>\n",
       "      <td>2.063946</td>\n",
       "      <td>1.106940</td>\n",
       "      <td>1.0</td>\n",
       "      <td>1.0</td>\n",
       "      <td>2.0</td>\n",
       "      <td>3.0</td>\n",
       "      <td>5.0</td>\n",
       "    </tr>\n",
       "    <tr>\n",
       "      <th>JobSatisfaction</th>\n",
       "      <td>1470.0</td>\n",
       "      <td>2.728571</td>\n",
       "      <td>1.102846</td>\n",
       "      <td>1.0</td>\n",
       "      <td>2.0</td>\n",
       "      <td>3.0</td>\n",
       "      <td>4.0</td>\n",
       "      <td>4.0</td>\n",
       "    </tr>\n",
       "    <tr>\n",
       "      <th>Distance_Home</th>\n",
       "      <td>1470.0</td>\n",
       "      <td>1.827891</td>\n",
       "      <td>1.039537</td>\n",
       "      <td>1.0</td>\n",
       "      <td>1.0</td>\n",
       "      <td>1.0</td>\n",
       "      <td>2.0</td>\n",
       "      <td>4.0</td>\n",
       "    </tr>\n",
       "    <tr>\n",
       "      <th>MonthlyIncome</th>\n",
       "      <td>1470.0</td>\n",
       "      <td>6502.931293</td>\n",
       "      <td>4707.956783</td>\n",
       "      <td>1009.0</td>\n",
       "      <td>2911.0</td>\n",
       "      <td>4919.0</td>\n",
       "      <td>8379.0</td>\n",
       "      <td>19999.0</td>\n",
       "    </tr>\n",
       "    <tr>\n",
       "      <th>PercentSalaryHike</th>\n",
       "      <td>1470.0</td>\n",
       "      <td>15.209524</td>\n",
       "      <td>3.659938</td>\n",
       "      <td>11.0</td>\n",
       "      <td>12.0</td>\n",
       "      <td>14.0</td>\n",
       "      <td>18.0</td>\n",
       "      <td>25.0</td>\n",
       "    </tr>\n",
       "    <tr>\n",
       "      <th>PerformanceRating</th>\n",
       "      <td>1470.0</td>\n",
       "      <td>3.153741</td>\n",
       "      <td>0.360824</td>\n",
       "      <td>3.0</td>\n",
       "      <td>3.0</td>\n",
       "      <td>3.0</td>\n",
       "      <td>3.0</td>\n",
       "      <td>4.0</td>\n",
       "    </tr>\n",
       "    <tr>\n",
       "      <th>Education</th>\n",
       "      <td>1470.0</td>\n",
       "      <td>2.912925</td>\n",
       "      <td>1.024165</td>\n",
       "      <td>1.0</td>\n",
       "      <td>2.0</td>\n",
       "      <td>3.0</td>\n",
       "      <td>4.0</td>\n",
       "      <td>5.0</td>\n",
       "    </tr>\n",
       "    <tr>\n",
       "      <th>EnvironmentSatisfaction</th>\n",
       "      <td>1470.0</td>\n",
       "      <td>2.721769</td>\n",
       "      <td>1.093082</td>\n",
       "      <td>1.0</td>\n",
       "      <td>2.0</td>\n",
       "      <td>3.0</td>\n",
       "      <td>4.0</td>\n",
       "      <td>4.0</td>\n",
       "    </tr>\n",
       "    <tr>\n",
       "      <th>RelationshipSatisfaction</th>\n",
       "      <td>1470.0</td>\n",
       "      <td>2.712245</td>\n",
       "      <td>1.081209</td>\n",
       "      <td>1.0</td>\n",
       "      <td>2.0</td>\n",
       "      <td>3.0</td>\n",
       "      <td>4.0</td>\n",
       "      <td>4.0</td>\n",
       "    </tr>\n",
       "    <tr>\n",
       "      <th>NumCompaniesWorked</th>\n",
       "      <td>1470.0</td>\n",
       "      <td>2.693197</td>\n",
       "      <td>2.498009</td>\n",
       "      <td>0.0</td>\n",
       "      <td>1.0</td>\n",
       "      <td>2.0</td>\n",
       "      <td>4.0</td>\n",
       "      <td>9.0</td>\n",
       "    </tr>\n",
       "    <tr>\n",
       "      <th>StockOptionLevel</th>\n",
       "      <td>1470.0</td>\n",
       "      <td>0.793878</td>\n",
       "      <td>0.852077</td>\n",
       "      <td>0.0</td>\n",
       "      <td>0.0</td>\n",
       "      <td>1.0</td>\n",
       "      <td>1.0</td>\n",
       "      <td>3.0</td>\n",
       "    </tr>\n",
       "    <tr>\n",
       "      <th>TotalWorkingYears</th>\n",
       "      <td>1470.0</td>\n",
       "      <td>11.279592</td>\n",
       "      <td>7.780782</td>\n",
       "      <td>0.0</td>\n",
       "      <td>6.0</td>\n",
       "      <td>10.0</td>\n",
       "      <td>15.0</td>\n",
       "      <td>40.0</td>\n",
       "    </tr>\n",
       "    <tr>\n",
       "      <th>TrainingTimesLastYear</th>\n",
       "      <td>1470.0</td>\n",
       "      <td>2.799320</td>\n",
       "      <td>1.289271</td>\n",
       "      <td>0.0</td>\n",
       "      <td>2.0</td>\n",
       "      <td>3.0</td>\n",
       "      <td>3.0</td>\n",
       "      <td>6.0</td>\n",
       "    </tr>\n",
       "    <tr>\n",
       "      <th>WorkLifeBalance</th>\n",
       "      <td>1470.0</td>\n",
       "      <td>2.761224</td>\n",
       "      <td>0.706476</td>\n",
       "      <td>1.0</td>\n",
       "      <td>2.0</td>\n",
       "      <td>3.0</td>\n",
       "      <td>3.0</td>\n",
       "      <td>4.0</td>\n",
       "    </tr>\n",
       "    <tr>\n",
       "      <th>YearsAtCompany</th>\n",
       "      <td>1470.0</td>\n",
       "      <td>7.008163</td>\n",
       "      <td>6.126525</td>\n",
       "      <td>0.0</td>\n",
       "      <td>3.0</td>\n",
       "      <td>5.0</td>\n",
       "      <td>9.0</td>\n",
       "      <td>40.0</td>\n",
       "    </tr>\n",
       "    <tr>\n",
       "      <th>YearsInCurrentRole</th>\n",
       "      <td>1470.0</td>\n",
       "      <td>4.229252</td>\n",
       "      <td>3.623137</td>\n",
       "      <td>0.0</td>\n",
       "      <td>2.0</td>\n",
       "      <td>3.0</td>\n",
       "      <td>7.0</td>\n",
       "      <td>18.0</td>\n",
       "    </tr>\n",
       "    <tr>\n",
       "      <th>YearsSinceLastPromotion</th>\n",
       "      <td>1470.0</td>\n",
       "      <td>2.187755</td>\n",
       "      <td>3.222430</td>\n",
       "      <td>0.0</td>\n",
       "      <td>0.0</td>\n",
       "      <td>1.0</td>\n",
       "      <td>3.0</td>\n",
       "      <td>15.0</td>\n",
       "    </tr>\n",
       "    <tr>\n",
       "      <th>YearsWithCurrManager</th>\n",
       "      <td>1470.0</td>\n",
       "      <td>4.123129</td>\n",
       "      <td>3.568136</td>\n",
       "      <td>0.0</td>\n",
       "      <td>2.0</td>\n",
       "      <td>3.0</td>\n",
       "      <td>7.0</td>\n",
       "      <td>17.0</td>\n",
       "    </tr>\n",
       "  </tbody>\n",
       "</table>\n",
       "</div>"
      ],
      "text/plain": [
       "                           count         mean          std     min     25%  \\\n",
       "Cat_Age                   1470.0     2.151020     0.921151     1.0     1.0   \n",
       "JobInvolvement            1470.0     2.729932     0.711561     1.0     2.0   \n",
       "JobLevel                  1470.0     2.063946     1.106940     1.0     1.0   \n",
       "JobSatisfaction           1470.0     2.728571     1.102846     1.0     2.0   \n",
       "Distance_Home             1470.0     1.827891     1.039537     1.0     1.0   \n",
       "MonthlyIncome             1470.0  6502.931293  4707.956783  1009.0  2911.0   \n",
       "PercentSalaryHike         1470.0    15.209524     3.659938    11.0    12.0   \n",
       "PerformanceRating         1470.0     3.153741     0.360824     3.0     3.0   \n",
       "Education                 1470.0     2.912925     1.024165     1.0     2.0   \n",
       "EnvironmentSatisfaction   1470.0     2.721769     1.093082     1.0     2.0   \n",
       "RelationshipSatisfaction  1470.0     2.712245     1.081209     1.0     2.0   \n",
       "NumCompaniesWorked        1470.0     2.693197     2.498009     0.0     1.0   \n",
       "StockOptionLevel          1470.0     0.793878     0.852077     0.0     0.0   \n",
       "TotalWorkingYears         1470.0    11.279592     7.780782     0.0     6.0   \n",
       "TrainingTimesLastYear     1470.0     2.799320     1.289271     0.0     2.0   \n",
       "WorkLifeBalance           1470.0     2.761224     0.706476     1.0     2.0   \n",
       "YearsAtCompany            1470.0     7.008163     6.126525     0.0     3.0   \n",
       "YearsInCurrentRole        1470.0     4.229252     3.623137     0.0     2.0   \n",
       "YearsSinceLastPromotion   1470.0     2.187755     3.222430     0.0     0.0   \n",
       "YearsWithCurrManager      1470.0     4.123129     3.568136     0.0     2.0   \n",
       "\n",
       "                             50%     75%      max  \n",
       "Cat_Age                      2.0     3.0      4.0  \n",
       "JobInvolvement               3.0     3.0      4.0  \n",
       "JobLevel                     2.0     3.0      5.0  \n",
       "JobSatisfaction              3.0     4.0      4.0  \n",
       "Distance_Home                1.0     2.0      4.0  \n",
       "MonthlyIncome             4919.0  8379.0  19999.0  \n",
       "PercentSalaryHike           14.0    18.0     25.0  \n",
       "PerformanceRating            3.0     3.0      4.0  \n",
       "Education                    3.0     4.0      5.0  \n",
       "EnvironmentSatisfaction      3.0     4.0      4.0  \n",
       "RelationshipSatisfaction     3.0     4.0      4.0  \n",
       "NumCompaniesWorked           2.0     4.0      9.0  \n",
       "StockOptionLevel             1.0     1.0      3.0  \n",
       "TotalWorkingYears           10.0    15.0     40.0  \n",
       "TrainingTimesLastYear        3.0     3.0      6.0  \n",
       "WorkLifeBalance              3.0     3.0      4.0  \n",
       "YearsAtCompany               5.0     9.0     40.0  \n",
       "YearsInCurrentRole           3.0     7.0     18.0  \n",
       "YearsSinceLastPromotion      1.0     3.0     15.0  \n",
       "YearsWithCurrManager         3.0     7.0     17.0  "
      ]
     },
     "execution_count": 178,
     "metadata": {},
     "output_type": "execute_result"
    }
   ],
   "source": [
    "X.describe().T"
   ]
  },
  {
   "cell_type": "code",
   "execution_count": 179,
   "metadata": {},
   "outputs": [
    {
     "data": {
      "text/plain": [
       "(1470, 20)"
      ]
     },
     "execution_count": 179,
     "metadata": {},
     "output_type": "execute_result"
    }
   ],
   "source": [
    "X.shape"
   ]
  },
  {
   "cell_type": "code",
   "execution_count": 180,
   "metadata": {},
   "outputs": [],
   "source": [
    "import numpy as np\n",
    "X.MonthlyIncome=np.log(X.MonthlyIncome)"
   ]
  },
  {
   "cell_type": "code",
   "execution_count": 181,
   "metadata": {},
   "outputs": [],
   "source": [
    "import statsmodels.api as sm"
   ]
  },
  {
   "cell_type": "code",
   "execution_count": 182,
   "metadata": {},
   "outputs": [],
   "source": [
    "X.drop(['Education','PerformanceRating','PercentSalaryHike','Cat_Age'],axis=1,inplace=True)"
   ]
  },
  {
   "cell_type": "code",
   "execution_count": 183,
   "metadata": {},
   "outputs": [
    {
     "data": {
      "text/html": [
       "<div>\n",
       "<style scoped>\n",
       "    .dataframe tbody tr th:only-of-type {\n",
       "        vertical-align: middle;\n",
       "    }\n",
       "\n",
       "    .dataframe tbody tr th {\n",
       "        vertical-align: top;\n",
       "    }\n",
       "\n",
       "    .dataframe thead th {\n",
       "        text-align: right;\n",
       "    }\n",
       "</style>\n",
       "<table border=\"1\" class=\"dataframe\">\n",
       "  <thead>\n",
       "    <tr style=\"text-align: right;\">\n",
       "      <th></th>\n",
       "      <th>count</th>\n",
       "      <th>mean</th>\n",
       "      <th>std</th>\n",
       "      <th>min</th>\n",
       "      <th>25%</th>\n",
       "      <th>50%</th>\n",
       "      <th>75%</th>\n",
       "      <th>max</th>\n",
       "    </tr>\n",
       "  </thead>\n",
       "  <tbody>\n",
       "    <tr>\n",
       "      <th>JobInvolvement</th>\n",
       "      <td>1470.0</td>\n",
       "      <td>2.729932</td>\n",
       "      <td>0.711561</td>\n",
       "      <td>1.000000</td>\n",
       "      <td>2.000000</td>\n",
       "      <td>3.000000</td>\n",
       "      <td>3.000000</td>\n",
       "      <td>4.000000</td>\n",
       "    </tr>\n",
       "    <tr>\n",
       "      <th>JobLevel</th>\n",
       "      <td>1470.0</td>\n",
       "      <td>2.063946</td>\n",
       "      <td>1.106940</td>\n",
       "      <td>1.000000</td>\n",
       "      <td>1.000000</td>\n",
       "      <td>2.000000</td>\n",
       "      <td>3.000000</td>\n",
       "      <td>5.000000</td>\n",
       "    </tr>\n",
       "    <tr>\n",
       "      <th>JobSatisfaction</th>\n",
       "      <td>1470.0</td>\n",
       "      <td>2.728571</td>\n",
       "      <td>1.102846</td>\n",
       "      <td>1.000000</td>\n",
       "      <td>2.000000</td>\n",
       "      <td>3.000000</td>\n",
       "      <td>4.000000</td>\n",
       "      <td>4.000000</td>\n",
       "    </tr>\n",
       "    <tr>\n",
       "      <th>Distance_Home</th>\n",
       "      <td>1470.0</td>\n",
       "      <td>1.827891</td>\n",
       "      <td>1.039537</td>\n",
       "      <td>1.000000</td>\n",
       "      <td>1.000000</td>\n",
       "      <td>1.000000</td>\n",
       "      <td>2.000000</td>\n",
       "      <td>4.000000</td>\n",
       "    </tr>\n",
       "    <tr>\n",
       "      <th>MonthlyIncome</th>\n",
       "      <td>1470.0</td>\n",
       "      <td>8.552515</td>\n",
       "      <td>0.664450</td>\n",
       "      <td>6.916715</td>\n",
       "      <td>7.976252</td>\n",
       "      <td>8.500858</td>\n",
       "      <td>9.033484</td>\n",
       "      <td>9.903438</td>\n",
       "    </tr>\n",
       "    <tr>\n",
       "      <th>EnvironmentSatisfaction</th>\n",
       "      <td>1470.0</td>\n",
       "      <td>2.721769</td>\n",
       "      <td>1.093082</td>\n",
       "      <td>1.000000</td>\n",
       "      <td>2.000000</td>\n",
       "      <td>3.000000</td>\n",
       "      <td>4.000000</td>\n",
       "      <td>4.000000</td>\n",
       "    </tr>\n",
       "    <tr>\n",
       "      <th>RelationshipSatisfaction</th>\n",
       "      <td>1470.0</td>\n",
       "      <td>2.712245</td>\n",
       "      <td>1.081209</td>\n",
       "      <td>1.000000</td>\n",
       "      <td>2.000000</td>\n",
       "      <td>3.000000</td>\n",
       "      <td>4.000000</td>\n",
       "      <td>4.000000</td>\n",
       "    </tr>\n",
       "    <tr>\n",
       "      <th>NumCompaniesWorked</th>\n",
       "      <td>1470.0</td>\n",
       "      <td>2.693197</td>\n",
       "      <td>2.498009</td>\n",
       "      <td>0.000000</td>\n",
       "      <td>1.000000</td>\n",
       "      <td>2.000000</td>\n",
       "      <td>4.000000</td>\n",
       "      <td>9.000000</td>\n",
       "    </tr>\n",
       "    <tr>\n",
       "      <th>StockOptionLevel</th>\n",
       "      <td>1470.0</td>\n",
       "      <td>0.793878</td>\n",
       "      <td>0.852077</td>\n",
       "      <td>0.000000</td>\n",
       "      <td>0.000000</td>\n",
       "      <td>1.000000</td>\n",
       "      <td>1.000000</td>\n",
       "      <td>3.000000</td>\n",
       "    </tr>\n",
       "    <tr>\n",
       "      <th>TotalWorkingYears</th>\n",
       "      <td>1470.0</td>\n",
       "      <td>11.279592</td>\n",
       "      <td>7.780782</td>\n",
       "      <td>0.000000</td>\n",
       "      <td>6.000000</td>\n",
       "      <td>10.000000</td>\n",
       "      <td>15.000000</td>\n",
       "      <td>40.000000</td>\n",
       "    </tr>\n",
       "    <tr>\n",
       "      <th>TrainingTimesLastYear</th>\n",
       "      <td>1470.0</td>\n",
       "      <td>2.799320</td>\n",
       "      <td>1.289271</td>\n",
       "      <td>0.000000</td>\n",
       "      <td>2.000000</td>\n",
       "      <td>3.000000</td>\n",
       "      <td>3.000000</td>\n",
       "      <td>6.000000</td>\n",
       "    </tr>\n",
       "    <tr>\n",
       "      <th>WorkLifeBalance</th>\n",
       "      <td>1470.0</td>\n",
       "      <td>2.761224</td>\n",
       "      <td>0.706476</td>\n",
       "      <td>1.000000</td>\n",
       "      <td>2.000000</td>\n",
       "      <td>3.000000</td>\n",
       "      <td>3.000000</td>\n",
       "      <td>4.000000</td>\n",
       "    </tr>\n",
       "    <tr>\n",
       "      <th>YearsAtCompany</th>\n",
       "      <td>1470.0</td>\n",
       "      <td>7.008163</td>\n",
       "      <td>6.126525</td>\n",
       "      <td>0.000000</td>\n",
       "      <td>3.000000</td>\n",
       "      <td>5.000000</td>\n",
       "      <td>9.000000</td>\n",
       "      <td>40.000000</td>\n",
       "    </tr>\n",
       "    <tr>\n",
       "      <th>YearsInCurrentRole</th>\n",
       "      <td>1470.0</td>\n",
       "      <td>4.229252</td>\n",
       "      <td>3.623137</td>\n",
       "      <td>0.000000</td>\n",
       "      <td>2.000000</td>\n",
       "      <td>3.000000</td>\n",
       "      <td>7.000000</td>\n",
       "      <td>18.000000</td>\n",
       "    </tr>\n",
       "    <tr>\n",
       "      <th>YearsSinceLastPromotion</th>\n",
       "      <td>1470.0</td>\n",
       "      <td>2.187755</td>\n",
       "      <td>3.222430</td>\n",
       "      <td>0.000000</td>\n",
       "      <td>0.000000</td>\n",
       "      <td>1.000000</td>\n",
       "      <td>3.000000</td>\n",
       "      <td>15.000000</td>\n",
       "    </tr>\n",
       "    <tr>\n",
       "      <th>YearsWithCurrManager</th>\n",
       "      <td>1470.0</td>\n",
       "      <td>4.123129</td>\n",
       "      <td>3.568136</td>\n",
       "      <td>0.000000</td>\n",
       "      <td>2.000000</td>\n",
       "      <td>3.000000</td>\n",
       "      <td>7.000000</td>\n",
       "      <td>17.000000</td>\n",
       "    </tr>\n",
       "  </tbody>\n",
       "</table>\n",
       "</div>"
      ],
      "text/plain": [
       "                           count       mean       std       min       25%  \\\n",
       "JobInvolvement            1470.0   2.729932  0.711561  1.000000  2.000000   \n",
       "JobLevel                  1470.0   2.063946  1.106940  1.000000  1.000000   \n",
       "JobSatisfaction           1470.0   2.728571  1.102846  1.000000  2.000000   \n",
       "Distance_Home             1470.0   1.827891  1.039537  1.000000  1.000000   \n",
       "MonthlyIncome             1470.0   8.552515  0.664450  6.916715  7.976252   \n",
       "EnvironmentSatisfaction   1470.0   2.721769  1.093082  1.000000  2.000000   \n",
       "RelationshipSatisfaction  1470.0   2.712245  1.081209  1.000000  2.000000   \n",
       "NumCompaniesWorked        1470.0   2.693197  2.498009  0.000000  1.000000   \n",
       "StockOptionLevel          1470.0   0.793878  0.852077  0.000000  0.000000   \n",
       "TotalWorkingYears         1470.0  11.279592  7.780782  0.000000  6.000000   \n",
       "TrainingTimesLastYear     1470.0   2.799320  1.289271  0.000000  2.000000   \n",
       "WorkLifeBalance           1470.0   2.761224  0.706476  1.000000  2.000000   \n",
       "YearsAtCompany            1470.0   7.008163  6.126525  0.000000  3.000000   \n",
       "YearsInCurrentRole        1470.0   4.229252  3.623137  0.000000  2.000000   \n",
       "YearsSinceLastPromotion   1470.0   2.187755  3.222430  0.000000  0.000000   \n",
       "YearsWithCurrManager      1470.0   4.123129  3.568136  0.000000  2.000000   \n",
       "\n",
       "                                50%        75%        max  \n",
       "JobInvolvement             3.000000   3.000000   4.000000  \n",
       "JobLevel                   2.000000   3.000000   5.000000  \n",
       "JobSatisfaction            3.000000   4.000000   4.000000  \n",
       "Distance_Home              1.000000   2.000000   4.000000  \n",
       "MonthlyIncome              8.500858   9.033484   9.903438  \n",
       "EnvironmentSatisfaction    3.000000   4.000000   4.000000  \n",
       "RelationshipSatisfaction   3.000000   4.000000   4.000000  \n",
       "NumCompaniesWorked         2.000000   4.000000   9.000000  \n",
       "StockOptionLevel           1.000000   1.000000   3.000000  \n",
       "TotalWorkingYears         10.000000  15.000000  40.000000  \n",
       "TrainingTimesLastYear      3.000000   3.000000   6.000000  \n",
       "WorkLifeBalance            3.000000   3.000000   4.000000  \n",
       "YearsAtCompany             5.000000   9.000000  40.000000  \n",
       "YearsInCurrentRole         3.000000   7.000000  18.000000  \n",
       "YearsSinceLastPromotion    1.000000   3.000000  15.000000  \n",
       "YearsWithCurrManager       3.000000   7.000000  17.000000  "
      ]
     },
     "execution_count": 183,
     "metadata": {},
     "output_type": "execute_result"
    }
   ],
   "source": [
    "X.describe().T"
   ]
  },
  {
   "cell_type": "code",
   "execution_count": 184,
   "metadata": {},
   "outputs": [],
   "source": [
    "from statsmodels.tools.tools import add_constant\n",
    "X=add_constant(X)"
   ]
  },
  {
   "cell_type": "markdown",
   "metadata": {},
   "source": [
    "### Model 1 - Logfit"
   ]
  },
  {
   "cell_type": "code",
   "execution_count": 743,
   "metadata": {
    "scrolled": true
   },
   "outputs": [
    {
     "name": "stderr",
     "output_type": "stream",
     "text": [
      "C:\\Users\\Lenovo\\Anaconda3\\lib\\site-packages\\numpy\\core\\fromnumeric.py:2389: FutureWarning: Method .ptp is deprecated and will be removed in a future version. Use numpy.ptp instead.\n",
      "  return ptp(axis=axis, out=out, **kwargs)\n"
     ]
    }
   ],
   "source": [
    "#from statsmodels.tools.tools import add_constant\n",
    "#X=add_constant(X)\n",
    "model_1=sm.Logit(y,X)"
   ]
  },
  {
   "cell_type": "code",
   "execution_count": 744,
   "metadata": {},
   "outputs": [
    {
     "data": {
      "text/plain": [
       "(1470, 17)"
      ]
     },
     "execution_count": 744,
     "metadata": {},
     "output_type": "execute_result"
    }
   ],
   "source": [
    "X.shape"
   ]
  },
  {
   "cell_type": "code",
   "execution_count": 745,
   "metadata": {},
   "outputs": [
    {
     "name": "stdout",
     "output_type": "stream",
     "text": [
      "Optimization terminated successfully.\n",
      "         Current function value: 0.363441\n",
      "         Iterations 7\n"
     ]
    },
    {
     "data": {
      "text/html": [
       "<table class=\"simpletable\">\n",
       "<caption>Logit Regression Results</caption>\n",
       "<tr>\n",
       "  <th>Dep. Variable:</th>     <td>Attrition_bol</td>  <th>  No. Observations:  </th>  <td>  1470</td>  \n",
       "</tr>\n",
       "<tr>\n",
       "  <th>Model:</th>                 <td>Logit</td>      <th>  Df Residuals:      </th>  <td>  1453</td>  \n",
       "</tr>\n",
       "<tr>\n",
       "  <th>Method:</th>                 <td>MLE</td>       <th>  Df Model:          </th>  <td>    16</td>  \n",
       "</tr>\n",
       "<tr>\n",
       "  <th>Date:</th>            <td>Fri, 22 Nov 2019</td> <th>  Pseudo R-squ.:     </th>  <td>0.1772</td>  \n",
       "</tr>\n",
       "<tr>\n",
       "  <th>Time:</th>                <td>11:24:20</td>     <th>  Log-Likelihood:    </th> <td> -534.26</td> \n",
       "</tr>\n",
       "<tr>\n",
       "  <th>converged:</th>             <td>True</td>       <th>  LL-Null:           </th> <td> -649.29</td> \n",
       "</tr>\n",
       "<tr>\n",
       "  <th>Covariance Type:</th>     <td>nonrobust</td>    <th>  LLR p-value:       </th> <td>6.199e-40</td>\n",
       "</tr>\n",
       "</table>\n",
       "<table class=\"simpletable\">\n",
       "<tr>\n",
       "              <td></td>                <th>coef</th>     <th>std err</th>      <th>z</th>      <th>P>|z|</th>  <th>[0.025</th>    <th>0.975]</th>  \n",
       "</tr>\n",
       "<tr>\n",
       "  <th>const</th>                    <td>   11.4090</td> <td>    2.340</td> <td>    4.876</td> <td> 0.000</td> <td>    6.823</td> <td>   15.995</td>\n",
       "</tr>\n",
       "<tr>\n",
       "  <th>JobInvolvement</th>           <td>   -0.5093</td> <td>    0.109</td> <td>   -4.694</td> <td> 0.000</td> <td>   -0.722</td> <td>   -0.297</td>\n",
       "</tr>\n",
       "<tr>\n",
       "  <th>JobLevel</th>                 <td>    0.2824</td> <td>    0.213</td> <td>    1.326</td> <td> 0.185</td> <td>   -0.135</td> <td>    0.700</td>\n",
       "</tr>\n",
       "<tr>\n",
       "  <th>JobSatisfaction</th>          <td>   -0.3088</td> <td>    0.071</td> <td>   -4.345</td> <td> 0.000</td> <td>   -0.448</td> <td>   -0.170</td>\n",
       "</tr>\n",
       "<tr>\n",
       "  <th>Distance_Home</th>            <td>    0.2503</td> <td>    0.072</td> <td>    3.462</td> <td> 0.001</td> <td>    0.109</td> <td>    0.392</td>\n",
       "</tr>\n",
       "<tr>\n",
       "  <th>MonthlyIncome</th>            <td>   -1.0434</td> <td>    0.303</td> <td>   -3.448</td> <td> 0.001</td> <td>   -1.636</td> <td>   -0.450</td>\n",
       "</tr>\n",
       "<tr>\n",
       "  <th>EnvironmentSatisfaction</th>  <td>   -0.3120</td> <td>    0.071</td> <td>   -4.384</td> <td> 0.000</td> <td>   -0.451</td> <td>   -0.172</td>\n",
       "</tr>\n",
       "<tr>\n",
       "  <th>RelationshipSatisfaction</th> <td>   -0.1792</td> <td>    0.072</td> <td>   -2.484</td> <td> 0.013</td> <td>   -0.321</td> <td>   -0.038</td>\n",
       "</tr>\n",
       "<tr>\n",
       "  <th>NumCompaniesWorked</th>       <td>    0.1381</td> <td>    0.033</td> <td>    4.168</td> <td> 0.000</td> <td>    0.073</td> <td>    0.203</td>\n",
       "</tr>\n",
       "<tr>\n",
       "  <th>StockOptionLevel</th>         <td>   -0.5362</td> <td>    0.104</td> <td>   -5.135</td> <td> 0.000</td> <td>   -0.741</td> <td>   -0.332</td>\n",
       "</tr>\n",
       "<tr>\n",
       "  <th>TotalWorkingYears</th>        <td>   -0.0710</td> <td>    0.023</td> <td>   -3.144</td> <td> 0.002</td> <td>   -0.115</td> <td>   -0.027</td>\n",
       "</tr>\n",
       "<tr>\n",
       "  <th>TrainingTimesLastYear</th>    <td>   -0.1702</td> <td>    0.063</td> <td>   -2.704</td> <td> 0.007</td> <td>   -0.294</td> <td>   -0.047</td>\n",
       "</tr>\n",
       "<tr>\n",
       "  <th>WorkLifeBalance</th>          <td>   -0.2281</td> <td>    0.107</td> <td>   -2.137</td> <td> 0.033</td> <td>   -0.437</td> <td>   -0.019</td>\n",
       "</tr>\n",
       "<tr>\n",
       "  <th>YearsAtCompany</th>           <td>    0.0640</td> <td>    0.034</td> <td>    1.874</td> <td> 0.061</td> <td>   -0.003</td> <td>    0.131</td>\n",
       "</tr>\n",
       "<tr>\n",
       "  <th>YearsInCurrentRole</th>       <td>   -0.1041</td> <td>    0.041</td> <td>   -2.566</td> <td> 0.010</td> <td>   -0.184</td> <td>   -0.025</td>\n",
       "</tr>\n",
       "<tr>\n",
       "  <th>YearsSinceLastPromotion</th>  <td>    0.1424</td> <td>    0.037</td> <td>    3.874</td> <td> 0.000</td> <td>    0.070</td> <td>    0.214</td>\n",
       "</tr>\n",
       "<tr>\n",
       "  <th>YearsWithCurrManager</th>     <td>   -0.1055</td> <td>    0.041</td> <td>   -2.601</td> <td> 0.009</td> <td>   -0.185</td> <td>   -0.026</td>\n",
       "</tr>\n",
       "</table>"
      ],
      "text/plain": [
       "<class 'statsmodels.iolib.summary.Summary'>\n",
       "\"\"\"\n",
       "                           Logit Regression Results                           \n",
       "==============================================================================\n",
       "Dep. Variable:          Attrition_bol   No. Observations:                 1470\n",
       "Model:                          Logit   Df Residuals:                     1453\n",
       "Method:                           MLE   Df Model:                           16\n",
       "Date:                Fri, 22 Nov 2019   Pseudo R-squ.:                  0.1772\n",
       "Time:                        11:24:20   Log-Likelihood:                -534.26\n",
       "converged:                       True   LL-Null:                       -649.29\n",
       "Covariance Type:            nonrobust   LLR p-value:                 6.199e-40\n",
       "============================================================================================\n",
       "                               coef    std err          z      P>|z|      [0.025      0.975]\n",
       "--------------------------------------------------------------------------------------------\n",
       "const                       11.4090      2.340      4.876      0.000       6.823      15.995\n",
       "JobInvolvement              -0.5093      0.109     -4.694      0.000      -0.722      -0.297\n",
       "JobLevel                     0.2824      0.213      1.326      0.185      -0.135       0.700\n",
       "JobSatisfaction             -0.3088      0.071     -4.345      0.000      -0.448      -0.170\n",
       "Distance_Home                0.2503      0.072      3.462      0.001       0.109       0.392\n",
       "MonthlyIncome               -1.0434      0.303     -3.448      0.001      -1.636      -0.450\n",
       "EnvironmentSatisfaction     -0.3120      0.071     -4.384      0.000      -0.451      -0.172\n",
       "RelationshipSatisfaction    -0.1792      0.072     -2.484      0.013      -0.321      -0.038\n",
       "NumCompaniesWorked           0.1381      0.033      4.168      0.000       0.073       0.203\n",
       "StockOptionLevel            -0.5362      0.104     -5.135      0.000      -0.741      -0.332\n",
       "TotalWorkingYears           -0.0710      0.023     -3.144      0.002      -0.115      -0.027\n",
       "TrainingTimesLastYear       -0.1702      0.063     -2.704      0.007      -0.294      -0.047\n",
       "WorkLifeBalance             -0.2281      0.107     -2.137      0.033      -0.437      -0.019\n",
       "YearsAtCompany               0.0640      0.034      1.874      0.061      -0.003       0.131\n",
       "YearsInCurrentRole          -0.1041      0.041     -2.566      0.010      -0.184      -0.025\n",
       "YearsSinceLastPromotion      0.1424      0.037      3.874      0.000       0.070       0.214\n",
       "YearsWithCurrManager        -0.1055      0.041     -2.601      0.009      -0.185      -0.026\n",
       "============================================================================================\n",
       "\"\"\""
      ]
     },
     "execution_count": 745,
     "metadata": {},
     "output_type": "execute_result"
    }
   ],
   "source": [
    "res_1=model_1.fit()\n",
    "res_1.summary()"
   ]
  },
  {
   "cell_type": "code",
   "execution_count": 746,
   "metadata": {},
   "outputs": [],
   "source": [
    "from sklearn.metrics import confusion_matrix"
   ]
  },
  {
   "cell_type": "code",
   "execution_count": 747,
   "metadata": {},
   "outputs": [
    {
     "data": {
      "text/plain": [
       "(1470, 17)"
      ]
     },
     "execution_count": 747,
     "metadata": {},
     "output_type": "execute_result"
    }
   ],
   "source": [
    "X.shape"
   ]
  },
  {
   "cell_type": "code",
   "execution_count": 748,
   "metadata": {
    "scrolled": true
   },
   "outputs": [
    {
     "data": {
      "text/plain": [
       "array([[1212,   21],\n",
       "       [ 189,   48]], dtype=int64)"
      ]
     },
     "execution_count": 748,
     "metadata": {},
     "output_type": "execute_result"
    }
   ],
   "source": [
    "pred_1=round(res_1.predict(X))\n",
    "confusion_matrix(y,pred_1)"
   ]
  },
  {
   "cell_type": "markdown",
   "metadata": {},
   "source": [
    "#### Score_model_1 Logfit"
   ]
  },
  {
   "cell_type": "code",
   "execution_count": 749,
   "metadata": {},
   "outputs": [
    {
     "data": {
      "text/plain": [
       "0.20253164556962025"
      ]
     },
     "execution_count": 749,
     "metadata": {},
     "output_type": "execute_result"
    }
   ],
   "source": [
    "m.recall_score(y,pred_1)"
   ]
  },
  {
   "cell_type": "code",
   "execution_count": 468,
   "metadata": {
    "scrolled": true
   },
   "outputs": [
    {
     "data": {
      "text/plain": [
       "0    1233\n",
       "1     237\n",
       "Name: Attrition_bol, dtype: int64"
      ]
     },
     "execution_count": 468,
     "metadata": {},
     "output_type": "execute_result"
    }
   ],
   "source": [
    "y.value_counts()"
   ]
  },
  {
   "cell_type": "markdown",
   "metadata": {},
   "source": [
    "### Model 2 - Logistic Regression "
   ]
  },
  {
   "cell_type": "code",
   "execution_count": 750,
   "metadata": {},
   "outputs": [],
   "source": [
    "from sklearn.linear_model import LogisticRegression"
   ]
  },
  {
   "cell_type": "code",
   "execution_count": 751,
   "metadata": {},
   "outputs": [],
   "source": [
    "? LogisticRegression"
   ]
  },
  {
   "cell_type": "code",
   "execution_count": 752,
   "metadata": {},
   "outputs": [
    {
     "name": "stderr",
     "output_type": "stream",
     "text": [
      "C:\\Users\\Lenovo\\Anaconda3\\lib\\site-packages\\sklearn\\linear_model\\logistic.py:432: FutureWarning: Default solver will be changed to 'lbfgs' in 0.22. Specify a solver to silence this warning.\n",
      "  FutureWarning)\n"
     ]
    }
   ],
   "source": [
    "model_2=LogisticRegression(class_weight='balanced').fit(X,y)"
   ]
  },
  {
   "cell_type": "code",
   "execution_count": 753,
   "metadata": {},
   "outputs": [],
   "source": [
    "pred_2=model_2.predict(X)"
   ]
  },
  {
   "cell_type": "code",
   "execution_count": 754,
   "metadata": {
    "scrolled": true
   },
   "outputs": [
    {
     "data": {
      "text/plain": [
       "array([[836, 397],\n",
       "       [ 70, 167]], dtype=int64)"
      ]
     },
     "execution_count": 754,
     "metadata": {},
     "output_type": "execute_result"
    }
   ],
   "source": [
    "confusion_matrix(y,pred_2)"
   ]
  },
  {
   "cell_type": "markdown",
   "metadata": {},
   "source": [
    "#### Score Modele_2 LogisticRegression"
   ]
  },
  {
   "cell_type": "code",
   "execution_count": 756,
   "metadata": {},
   "outputs": [
    {
     "data": {
      "text/plain": [
       "0.7046413502109705"
      ]
     },
     "execution_count": 756,
     "metadata": {},
     "output_type": "execute_result"
    }
   ],
   "source": [
    "m.recall_score(y,pred_2)"
   ]
  },
  {
   "cell_type": "code",
   "execution_count": 757,
   "metadata": {
    "scrolled": true
   },
   "outputs": [
    {
     "data": {
      "text/plain": [
       "array([[ 2.3882586 , -0.42227147, -0.25547676, -0.24908216,  0.2531403 ,\n",
       "        -0.06862075, -0.26691397, -0.13233689,  0.12312928, -0.43806569,\n",
       "        -0.06620568, -0.14879252, -0.12334816,  0.08617347, -0.12314878,\n",
       "         0.14034325, -0.11811728]])"
      ]
     },
     "execution_count": 757,
     "metadata": {},
     "output_type": "execute_result"
    }
   ],
   "source": [
    "model_2.coef_ "
   ]
  },
  {
   "cell_type": "code",
   "execution_count": 758,
   "metadata": {},
   "outputs": [
    {
     "data": {
      "image/png": "[encoded data removed]",
      "text/plain": [
       "<Figure size 432x288 with 1 Axes>"
      ]
     },
     "metadata": {
      "needs_background": "light"
     },
     "output_type": "display_data"
    }
   ],
   "source": [
    "import sklearn.metrics as metrics\n",
    "# calculate the fpr and tpr for all thresholds of the classification\n",
    "probs = model_2.predict(X)\n",
    "preds = probs\n",
    "fpr, tpr, threshold = metrics.roc_curve(y, preds)\n",
    "roc_auc = metrics.auc(fpr, tpr)\n",
    "# method I: plt\n",
    "import matplotlib.pyplot as plt\n",
    "plt.title('Receiver Operating Characteristic')\n",
    "plt.plot(fpr, tpr, 'b', label = 'AUC = %0.2f' % roc_auc)\n",
    "plt.legend(loc = 'lower right')\n",
    "plt.plot([0, 1], [0, 1],'r--')\n",
    "plt.xlim([0, 1])\n",
    "plt.ylim([0, 1])\n",
    "plt.ylabel('True Positive Rate')\n",
    "plt.xlabel('False Positive Rate')\n",
    "plt.show()"
   ]
  },
  {
   "cell_type": "markdown",
   "metadata": {},
   "source": [
    "### Multicollinearity (Model1 & Model2)"
   ]
  },
  {
   "cell_type": "code",
   "execution_count": 759,
   "metadata": {},
   "outputs": [],
   "source": [
    "from statsmodels.stats.outliers_influence import variance_inflation_factor as VIF"
   ]
  },
  {
   "cell_type": "code",
   "execution_count": 760,
   "metadata": {
    "scrolled": true
   },
   "outputs": [],
   "source": [
    "X.drop(['const','MonthlyIncome','JobInvolvement','WorkLifeBalance','YearsAtCompany'],axis=1,inplace=True)"
   ]
  },
  {
   "cell_type": "code",
   "execution_count": 761,
   "metadata": {},
   "outputs": [
    {
     "data": {
      "text/plain": [
       "JobSatisfaction             5.671683\n",
       "Distance_Home               3.673113\n",
       "EnvironmentSatisfaction     5.800342\n",
       "RelationshipSatisfaction    6.008467\n",
       "NumCompaniesWorked          2.413350\n",
       "StockOptionLevel            1.847114\n",
       "TotalWorkingYears           4.732680\n",
       "TrainingTimesLastYear       4.756000\n",
       "YearsInCurrentRole          5.508090\n",
       "YearsSinceLastPromotion     2.244474\n",
       "YearsWithCurrManager        5.186840\n",
       "dtype: float64"
      ]
     },
     "execution_count": 761,
     "metadata": {},
     "output_type": "execute_result"
    }
   ],
   "source": [
    "X.drop(['JobLevel'],axis=1,inplace=True)\n",
    "pd.Series([VIF(X.values,i) for i in range(X.shape[1])],index=X.columns)"
   ]
  },
  {
   "cell_type": "code",
   "execution_count": 762,
   "metadata": {},
   "outputs": [
    {
     "data": {
      "text/plain": [
       "(1470, 11)"
      ]
     },
     "execution_count": 762,
     "metadata": {},
     "output_type": "execute_result"
    }
   ],
   "source": [
    "X.shape"
   ]
  },
  {
   "cell_type": "markdown",
   "metadata": {},
   "source": [
    "### Model 1m - Multicollinearity"
   ]
  },
  {
   "cell_type": "code",
   "execution_count": 763,
   "metadata": {
    "scrolled": false
   },
   "outputs": [
    {
     "name": "stdout",
     "output_type": "stream",
     "text": [
      "Optimization terminated successfully.\n",
      "         Current function value: 0.380048\n",
      "         Iterations 7\n"
     ]
    },
    {
     "name": "stderr",
     "output_type": "stream",
     "text": [
      "C:\\Users\\Lenovo\\Anaconda3\\lib\\site-packages\\numpy\\core\\fromnumeric.py:2389: FutureWarning: Method .ptp is deprecated and will be removed in a future version. Use numpy.ptp instead.\n",
      "  return ptp(axis=axis, out=out, **kwargs)\n"
     ]
    },
    {
     "data": {
      "text/html": [
       "<table class=\"simpletable\">\n",
       "<caption>Logit Regression Results</caption>\n",
       "<tr>\n",
       "  <th>Dep. Variable:</th>     <td>Attrition_bol</td>  <th>  No. Observations:  </th>  <td>  1470</td>  \n",
       "</tr>\n",
       "<tr>\n",
       "  <th>Model:</th>                 <td>Logit</td>      <th>  Df Residuals:      </th>  <td>  1458</td>  \n",
       "</tr>\n",
       "<tr>\n",
       "  <th>Method:</th>                 <td>MLE</td>       <th>  Df Model:          </th>  <td>    11</td>  \n",
       "</tr>\n",
       "<tr>\n",
       "  <th>Date:</th>            <td>Fri, 22 Nov 2019</td> <th>  Pseudo R-squ.:     </th>  <td>0.1396</td>  \n",
       "</tr>\n",
       "<tr>\n",
       "  <th>Time:</th>                <td>11:27:57</td>     <th>  Log-Likelihood:    </th> <td> -558.67</td> \n",
       "</tr>\n",
       "<tr>\n",
       "  <th>converged:</th>             <td>True</td>       <th>  LL-Null:           </th> <td> -649.29</td> \n",
       "</tr>\n",
       "<tr>\n",
       "  <th>Covariance Type:</th>     <td>nonrobust</td>    <th>  LLR p-value:       </th> <td>5.679e-33</td>\n",
       "</tr>\n",
       "</table>\n",
       "<table class=\"simpletable\">\n",
       "<tr>\n",
       "              <td></td>                <th>coef</th>     <th>std err</th>      <th>z</th>      <th>P>|z|</th>  <th>[0.025</th>    <th>0.975]</th>  \n",
       "</tr>\n",
       "<tr>\n",
       "  <th>const</th>                    <td>    1.4898</td> <td>    0.426</td> <td>    3.498</td> <td> 0.000</td> <td>    0.655</td> <td>    2.325</td>\n",
       "</tr>\n",
       "<tr>\n",
       "  <th>JobSatisfaction</th>          <td>   -0.2890</td> <td>    0.069</td> <td>   -4.196</td> <td> 0.000</td> <td>   -0.424</td> <td>   -0.154</td>\n",
       "</tr>\n",
       "<tr>\n",
       "  <th>Distance_Home</th>            <td>    0.2473</td> <td>    0.071</td> <td>    3.503</td> <td> 0.000</td> <td>    0.109</td> <td>    0.386</td>\n",
       "</tr>\n",
       "<tr>\n",
       "  <th>EnvironmentSatisfaction</th>  <td>   -0.2929</td> <td>    0.069</td> <td>   -4.228</td> <td> 0.000</td> <td>   -0.429</td> <td>   -0.157</td>\n",
       "</tr>\n",
       "<tr>\n",
       "  <th>RelationshipSatisfaction</th> <td>   -0.1756</td> <td>    0.070</td> <td>   -2.510</td> <td> 0.012</td> <td>   -0.313</td> <td>   -0.038</td>\n",
       "</tr>\n",
       "<tr>\n",
       "  <th>NumCompaniesWorked</th>       <td>    0.1033</td> <td>    0.031</td> <td>    3.303</td> <td> 0.001</td> <td>    0.042</td> <td>    0.165</td>\n",
       "</tr>\n",
       "<tr>\n",
       "  <th>StockOptionLevel</th>         <td>   -0.5487</td> <td>    0.104</td> <td>   -5.297</td> <td> 0.000</td> <td>   -0.752</td> <td>   -0.346</td>\n",
       "</tr>\n",
       "<tr>\n",
       "  <th>TotalWorkingYears</th>        <td>   -0.0858</td> <td>    0.016</td> <td>   -5.374</td> <td> 0.000</td> <td>   -0.117</td> <td>   -0.055</td>\n",
       "</tr>\n",
       "<tr>\n",
       "  <th>TrainingTimesLastYear</th>    <td>   -0.1526</td> <td>    0.060</td> <td>   -2.537</td> <td> 0.011</td> <td>   -0.271</td> <td>   -0.035</td>\n",
       "</tr>\n",
       "<tr>\n",
       "  <th>YearsInCurrentRole</th>       <td>   -0.1007</td> <td>    0.038</td> <td>   -2.651</td> <td> 0.008</td> <td>   -0.175</td> <td>   -0.026</td>\n",
       "</tr>\n",
       "<tr>\n",
       "  <th>YearsSinceLastPromotion</th>  <td>    0.1730</td> <td>    0.035</td> <td>    4.986</td> <td> 0.000</td> <td>    0.105</td> <td>    0.241</td>\n",
       "</tr>\n",
       "<tr>\n",
       "  <th>YearsWithCurrManager</th>     <td>   -0.0782</td> <td>    0.037</td> <td>   -2.093</td> <td> 0.036</td> <td>   -0.151</td> <td>   -0.005</td>\n",
       "</tr>\n",
       "</table>"
      ],
      "text/plain": [
       "<class 'statsmodels.iolib.summary.Summary'>\n",
       "\"\"\"\n",
       "                           Logit Regression Results                           \n",
       "==============================================================================\n",
       "Dep. Variable:          Attrition_bol   No. Observations:                 1470\n",
       "Model:                          Logit   Df Residuals:                     1458\n",
       "Method:                           MLE   Df Model:                           11\n",
       "Date:                Fri, 22 Nov 2019   Pseudo R-squ.:                  0.1396\n",
       "Time:                        11:27:57   Log-Likelihood:                -558.67\n",
       "converged:                       True   LL-Null:                       -649.29\n",
       "Covariance Type:            nonrobust   LLR p-value:                 5.679e-33\n",
       "============================================================================================\n",
       "                               coef    std err          z      P>|z|      [0.025      0.975]\n",
       "--------------------------------------------------------------------------------------------\n",
       "const                        1.4898      0.426      3.498      0.000       0.655       2.325\n",
       "JobSatisfaction             -0.2890      0.069     -4.196      0.000      -0.424      -0.154\n",
       "Distance_Home                0.2473      0.071      3.503      0.000       0.109       0.386\n",
       "EnvironmentSatisfaction     -0.2929      0.069     -4.228      0.000      -0.429      -0.157\n",
       "RelationshipSatisfaction    -0.1756      0.070     -2.510      0.012      -0.313      -0.038\n",
       "NumCompaniesWorked           0.1033      0.031      3.303      0.001       0.042       0.165\n",
       "StockOptionLevel            -0.5487      0.104     -5.297      0.000      -0.752      -0.346\n",
       "TotalWorkingYears           -0.0858      0.016     -5.374      0.000      -0.117      -0.055\n",
       "TrainingTimesLastYear       -0.1526      0.060     -2.537      0.011      -0.271      -0.035\n",
       "YearsInCurrentRole          -0.1007      0.038     -2.651      0.008      -0.175      -0.026\n",
       "YearsSinceLastPromotion      0.1730      0.035      4.986      0.000       0.105       0.241\n",
       "YearsWithCurrManager        -0.0782      0.037     -2.093      0.036      -0.151      -0.005\n",
       "============================================================================================\n",
       "\"\"\""
      ]
     },
     "execution_count": 763,
     "metadata": {},
     "output_type": "execute_result"
    }
   ],
   "source": [
    "X=add_constant(X)\n",
    "model_1m=sm.Logit(y,X)\n",
    "\n",
    "res_1m=model_1m.fit()\n",
    "res_1m.summary()"
   ]
  },
  {
   "cell_type": "code",
   "execution_count": 764,
   "metadata": {},
   "outputs": [
    {
     "data": {
      "text/plain": [
       "array([[1225,    8],\n",
       "       [ 212,   25]], dtype=int64)"
      ]
     },
     "execution_count": 764,
     "metadata": {},
     "output_type": "execute_result"
    }
   ],
   "source": [
    "pred_1m=round(res_1m.predict(X))\n",
    "confusion_matrix(y,pred_1m)"
   ]
  },
  {
   "cell_type": "markdown",
   "metadata": {},
   "source": [
    "#### Score Model_1m Logit & Multicollinearity"
   ]
  },
  {
   "cell_type": "code",
   "execution_count": 765,
   "metadata": {},
   "outputs": [
    {
     "data": {
      "text/plain": [
       "0.10548523206751055"
      ]
     },
     "execution_count": 765,
     "metadata": {},
     "output_type": "execute_result"
    }
   ],
   "source": [
    "m.recall_score(y,pred_11)"
   ]
  },
  {
   "cell_type": "code",
   "execution_count": 766,
   "metadata": {},
   "outputs": [
    {
     "data": {
      "text/plain": [
       "0.7575757575757576"
      ]
     },
     "execution_count": 766,
     "metadata": {},
     "output_type": "execute_result"
    }
   ],
   "source": [
    "m.precision_score(y,pred_11)"
   ]
  },
  {
   "cell_type": "code",
   "execution_count": 767,
   "metadata": {},
   "outputs": [
    {
     "data": {
      "text/plain": [
       "0.1851851851851852"
      ]
     },
     "execution_count": 767,
     "metadata": {},
     "output_type": "execute_result"
    }
   ],
   "source": [
    "m.f1_score(y,pred_11)"
   ]
  },
  {
   "cell_type": "code",
   "execution_count": 768,
   "metadata": {},
   "outputs": [
    {
     "data": {
      "image/png": "[encoded data removed]",
      "text/plain": [
       "<Figure size 432x288 with 1 Axes>"
      ]
     },
     "metadata": {
      "needs_background": "light"
     },
     "output_type": "display_data"
    }
   ],
   "source": [
    "import sklearn.metrics as metrics\n",
    "# calculate the fpr and tpr for all thresholds of the classification\n",
    "probs = res_11.predict(X)\n",
    "preds = probs\n",
    "fpr, tpr, threshold = metrics.roc_curve(y, preds)\n",
    "roc_auc = metrics.auc(fpr, tpr)\n",
    "# method I: plt\n",
    "import matplotlib.pyplot as plt\n",
    "plt.title('Receiver Operating Characteristic')\n",
    "plt.plot(fpr, tpr, 'b', label = 'AUC = %0.2f' % roc_auc)\n",
    "plt.legend(loc = 'lower right')\n",
    "plt.plot([0, 1], [0, 1],'r--')\n",
    "plt.xlim([0, 1])\n",
    "plt.ylim([0, 1])\n",
    "plt.ylabel('True Positive Rate')\n",
    "plt.xlabel('False Positive Rate')\n",
    "plt.show()"
   ]
  },
  {
   "cell_type": "markdown",
   "metadata": {},
   "source": [
    "### Modele 2 - LogisticRegression & Multicollinearity"
   ]
  },
  {
   "cell_type": "code",
   "execution_count": 771,
   "metadata": {},
   "outputs": [
    {
     "name": "stderr",
     "output_type": "stream",
     "text": [
      "C:\\Users\\Lenovo\\Anaconda3\\lib\\site-packages\\sklearn\\linear_model\\logistic.py:432: FutureWarning: Default solver will be changed to 'lbfgs' in 0.22. Specify a solver to silence this warning.\n",
      "  FutureWarning)\n"
     ]
    }
   ],
   "source": [
    "model_2m=LogisticRegression(class_weight='balanced').fit(X,y)"
   ]
  },
  {
   "cell_type": "code",
   "execution_count": 772,
   "metadata": {},
   "outputs": [],
   "source": [
    "pred_2m=model_2m.predict(X)"
   ]
  },
  {
   "cell_type": "markdown",
   "metadata": {},
   "source": [
    "#### Score Modele 2m "
   ]
  },
  {
   "cell_type": "code",
   "execution_count": 776,
   "metadata": {},
   "outputs": [
    {
     "data": {
      "text/plain": [
       "array([[811, 422],\n",
       "       [ 68, 169]], dtype=int64)"
      ]
     },
     "execution_count": 776,
     "metadata": {},
     "output_type": "execute_result"
    }
   ],
   "source": [
    "confusion_matrix(y,pred_2m)"
   ]
  },
  {
   "cell_type": "code",
   "execution_count": 777,
   "metadata": {},
   "outputs": [
    {
     "data": {
      "text/plain": [
       "0.7130801687763713"
      ]
     },
     "execution_count": 777,
     "metadata": {},
     "output_type": "execute_result"
    }
   ],
   "source": [
    "m.recall_score(y,pred_2m)"
   ]
  },
  {
   "cell_type": "code",
   "execution_count": 778,
   "metadata": {},
   "outputs": [
    {
     "data": {
      "text/plain": [
       "0.2859560067681895"
      ]
     },
     "execution_count": 778,
     "metadata": {},
     "output_type": "execute_result"
    }
   ],
   "source": [
    "m.precision_score(y,pred_2m)"
   ]
  },
  {
   "cell_type": "code",
   "execution_count": 779,
   "metadata": {},
   "outputs": [
    {
     "data": {
      "text/plain": [
       "0.41697877652933835"
      ]
     },
     "execution_count": 779,
     "metadata": {},
     "output_type": "execute_result"
    }
   ],
   "source": [
    "m.f1_score(y,pred_22)"
   ]
  },
  {
   "cell_type": "code",
   "execution_count": 780,
   "metadata": {},
   "outputs": [
    {
     "data": {
      "image/png": "[encoded data removed]",
      "text/plain": [
       "<Figure size 432x288 with 1 Axes>"
      ]
     },
     "metadata": {
      "needs_background": "light"
     },
     "output_type": "display_data"
    }
   ],
   "source": [
    "import sklearn.metrics as metrics\n",
    "# calculate the fpr and tpr for all thresholds of the classification\n",
    "probs = model_22.predict(X)\n",
    "preds = probs\n",
    "fpr, tpr, threshold = metrics.roc_curve(y, preds)\n",
    "roc_auc = metrics.auc(fpr, tpr)\n",
    "# method I: plt\n",
    "import matplotlib.pyplot as plt\n",
    "plt.title('Receiver Operating Characteristic')\n",
    "plt.plot(fpr, tpr, 'b', label = 'AUC = %0.2f' % roc_auc)\n",
    "plt.legend(loc = 'lower right')\n",
    "plt.plot([0, 1], [0, 1],'r--')\n",
    "plt.xlim([0, 1])\n",
    "plt.ylim([0, 1])\n",
    "plt.ylabel('True Positive Rate')\n",
    "plt.xlabel('False Positive Rate')\n",
    "plt.show()"
   ]
  },
  {
   "cell_type": "markdown",
   "metadata": {},
   "source": [
    "#### Modele Logistic Regression - with different parameters"
   ]
  },
  {
   "cell_type": "code",
   "execution_count": 782,
   "metadata": {},
   "outputs": [
    {
     "name": "stdout",
     "output_type": "stream",
     "text": [
      "[LibLinear]"
     ]
    }
   ],
   "source": [
    "model_22=LogisticRegression(class_weight='balanced',verbose=50,solver='liblinear').fit(X,y)"
   ]
  },
  {
   "cell_type": "code",
   "execution_count": 783,
   "metadata": {},
   "outputs": [],
   "source": [
    "pred_22=model_22.predict(X)"
   ]
  },
  {
   "cell_type": "code",
   "execution_count": 784,
   "metadata": {},
   "outputs": [
    {
     "data": {
      "text/plain": [
       "array([[811, 422],\n",
       "       [ 68, 169]], dtype=int64)"
      ]
     },
     "execution_count": 784,
     "metadata": {},
     "output_type": "execute_result"
    }
   ],
   "source": [
    "confusion_matrix(y,pred_22)"
   ]
  },
  {
   "cell_type": "code",
   "execution_count": 785,
   "metadata": {},
   "outputs": [
    {
     "data": {
      "text/plain": [
       "0.7130801687763713"
      ]
     },
     "execution_count": 785,
     "metadata": {},
     "output_type": "execute_result"
    }
   ],
   "source": [
    "m.recall_score(y,pred_22)"
   ]
  },
  {
   "cell_type": "markdown",
   "metadata": {},
   "source": [
    "# Resampling\n",
    "Modele 3 & 4"
   ]
  },
  {
   "cell_type": "code",
   "execution_count": 154,
   "metadata": {},
   "outputs": [],
   "source": [
    "dfyes=df.loc[df.Attrition=='Yes']"
   ]
  },
  {
   "cell_type": "code",
   "execution_count": 159,
   "metadata": {},
   "outputs": [],
   "source": [
    "df_sample=dfyes.sample(n=800,random_state=1,replace=True)"
   ]
  },
  {
   "cell_type": "code",
   "execution_count": 160,
   "metadata": {},
   "outputs": [],
   "source": [
    "df_new=df.append(df_sample)"
   ]
  },
  {
   "cell_type": "code",
   "execution_count": 7,
   "metadata": {},
   "outputs": [
    {
     "data": {
      "text/plain": [
       "No     1233\n",
       "Yes     237\n",
       "Name: Attrition, dtype: int64"
      ]
     },
     "execution_count": 7,
     "metadata": {},
     "output_type": "execute_result"
    }
   ],
   "source": [
    "df.Attrition.value_counts()"
   ]
  },
  {
   "cell_type": "code",
   "execution_count": 162,
   "metadata": {},
   "outputs": [
    {
     "data": {
      "text/plain": [
       "No     1233\n",
       "Yes    1037\n",
       "Name: Attrition, dtype: int64"
      ]
     },
     "execution_count": 162,
     "metadata": {},
     "output_type": "execute_result"
    }
   ],
   "source": [
    "df_new.Attrition.value_counts()"
   ]
  },
  {
   "cell_type": "code",
   "execution_count": null,
   "metadata": {},
   "outputs": [],
   "source": []
  },
  {
   "cell_type": "code",
   "execution_count": 163,
   "metadata": {},
   "outputs": [],
   "source": [
    "y_new=df_new.Attrition_bol\n",
    "X_new=df_new.drop(['Attrition_bol','Unnamed: 0','DistanceFromHome','Age'],axis=1)._get_numeric_data()"
   ]
  },
  {
   "cell_type": "code",
   "execution_count": 164,
   "metadata": {},
   "outputs": [],
   "source": [
    "X_new.MonthlyIncome=np.log(X_new.MonthlyIncome)"
   ]
  },
  {
   "cell_type": "code",
   "execution_count": 165,
   "metadata": {},
   "outputs": [
    {
     "data": {
      "text/plain": [
       "(2270, 20)"
      ]
     },
     "execution_count": 165,
     "metadata": {},
     "output_type": "execute_result"
    }
   ],
   "source": [
    "X_new.shape"
   ]
  },
  {
   "cell_type": "markdown",
   "metadata": {},
   "source": [
    "### Modele_3 Logfit"
   ]
  },
  {
   "cell_type": "code",
   "execution_count": 166,
   "metadata": {},
   "outputs": [],
   "source": [
    "# X.drop(['Education','PerformanceRating','PercentSalaryHike','Cat_Age','JobLevel'],axis=1,inplace=True)\n",
    "#drop[,]\n",
    "X_new.drop(['Education','PerformanceRating','PercentSalaryHike','Cat_Age'],axis=1,inplace=True)"
   ]
  },
  {
   "cell_type": "code",
   "execution_count": 167,
   "metadata": {},
   "outputs": [
    {
     "name": "stderr",
     "output_type": "stream",
     "text": [
      "C:\\Users\\Lenovo\\Anaconda3\\lib\\site-packages\\numpy\\core\\fromnumeric.py:2389: FutureWarning: Method .ptp is deprecated and will be removed in a future version. Use numpy.ptp instead.\n",
      "  return ptp(axis=axis, out=out, **kwargs)\n"
     ]
    }
   ],
   "source": [
    "X_new=add_constant(X_new)\n",
    "model_3=sm.Logit(y_new,X_new)"
   ]
  },
  {
   "cell_type": "code",
   "execution_count": 168,
   "metadata": {},
   "outputs": [
    {
     "name": "stdout",
     "output_type": "stream",
     "text": [
      "Optimization terminated successfully.\n",
      "         Current function value: 0.565437\n",
      "         Iterations 6\n"
     ]
    },
    {
     "data": {
      "text/html": [
       "<table class=\"simpletable\">\n",
       "<caption>Logit Regression Results</caption>\n",
       "<tr>\n",
       "  <th>Dep. Variable:</th>     <td>Attrition_bol</td>  <th>  No. Observations:  </th>   <td>  2270</td>  \n",
       "</tr>\n",
       "<tr>\n",
       "  <th>Model:</th>                 <td>Logit</td>      <th>  Df Residuals:      </th>   <td>  2253</td>  \n",
       "</tr>\n",
       "<tr>\n",
       "  <th>Method:</th>                 <td>MLE</td>       <th>  Df Model:          </th>   <td>    16</td>  \n",
       "</tr>\n",
       "<tr>\n",
       "  <th>Date:</th>            <td>Fri, 22 Nov 2019</td> <th>  Pseudo R-squ.:     </th>   <td>0.1798</td>  \n",
       "</tr>\n",
       "<tr>\n",
       "  <th>Time:</th>                <td>15:37:46</td>     <th>  Log-Likelihood:    </th>  <td> -1283.5</td> \n",
       "</tr>\n",
       "<tr>\n",
       "  <th>converged:</th>             <td>True</td>       <th>  LL-Null:           </th>  <td> -1565.0</td> \n",
       "</tr>\n",
       "<tr>\n",
       "  <th>Covariance Type:</th>     <td>nonrobust</td>    <th>  LLR p-value:       </th> <td>1.702e-109</td>\n",
       "</tr>\n",
       "</table>\n",
       "<table class=\"simpletable\">\n",
       "<tr>\n",
       "              <td></td>                <th>coef</th>     <th>std err</th>      <th>z</th>      <th>P>|z|</th>  <th>[0.025</th>    <th>0.975]</th>  \n",
       "</tr>\n",
       "<tr>\n",
       "  <th>const</th>                    <td>   12.2788</td> <td>    1.439</td> <td>    8.533</td> <td> 0.000</td> <td>    9.458</td> <td>   15.099</td>\n",
       "</tr>\n",
       "<tr>\n",
       "  <th>JobInvolvement</th>           <td>   -0.4542</td> <td>    0.068</td> <td>   -6.708</td> <td> 0.000</td> <td>   -0.587</td> <td>   -0.322</td>\n",
       "</tr>\n",
       "<tr>\n",
       "  <th>JobLevel</th>                 <td>    0.3928</td> <td>    0.125</td> <td>    3.138</td> <td> 0.002</td> <td>    0.147</td> <td>    0.638</td>\n",
       "</tr>\n",
       "<tr>\n",
       "  <th>JobSatisfaction</th>          <td>   -0.2497</td> <td>    0.044</td> <td>   -5.709</td> <td> 0.000</td> <td>   -0.335</td> <td>   -0.164</td>\n",
       "</tr>\n",
       "<tr>\n",
       "  <th>Distance_Home</th>            <td>    0.2816</td> <td>    0.045</td> <td>    6.237</td> <td> 0.000</td> <td>    0.193</td> <td>    0.370</td>\n",
       "</tr>\n",
       "<tr>\n",
       "  <th>MonthlyIncome</th>            <td>   -1.0484</td> <td>    0.186</td> <td>   -5.627</td> <td> 0.000</td> <td>   -1.414</td> <td>   -0.683</td>\n",
       "</tr>\n",
       "<tr>\n",
       "  <th>EnvironmentSatisfaction</th>  <td>   -0.3197</td> <td>    0.044</td> <td>   -7.350</td> <td> 0.000</td> <td>   -0.405</td> <td>   -0.234</td>\n",
       "</tr>\n",
       "<tr>\n",
       "  <th>RelationshipSatisfaction</th> <td>   -0.1607</td> <td>    0.044</td> <td>   -3.639</td> <td> 0.000</td> <td>   -0.247</td> <td>   -0.074</td>\n",
       "</tr>\n",
       "<tr>\n",
       "  <th>NumCompaniesWorked</th>       <td>    0.1231</td> <td>    0.021</td> <td>    5.824</td> <td> 0.000</td> <td>    0.082</td> <td>    0.164</td>\n",
       "</tr>\n",
       "<tr>\n",
       "  <th>StockOptionLevel</th>         <td>   -0.4261</td> <td>    0.058</td> <td>   -7.354</td> <td> 0.000</td> <td>   -0.540</td> <td>   -0.313</td>\n",
       "</tr>\n",
       "<tr>\n",
       "  <th>TotalWorkingYears</th>        <td>   -0.0818</td> <td>    0.013</td> <td>   -6.141</td> <td> 0.000</td> <td>   -0.108</td> <td>   -0.056</td>\n",
       "</tr>\n",
       "<tr>\n",
       "  <th>TrainingTimesLastYear</th>    <td>   -0.1656</td> <td>    0.038</td> <td>   -4.352</td> <td> 0.000</td> <td>   -0.240</td> <td>   -0.091</td>\n",
       "</tr>\n",
       "<tr>\n",
       "  <th>WorkLifeBalance</th>          <td>   -0.2238</td> <td>    0.066</td> <td>   -3.400</td> <td> 0.001</td> <td>   -0.353</td> <td>   -0.095</td>\n",
       "</tr>\n",
       "<tr>\n",
       "  <th>YearsAtCompany</th>           <td>    0.0688</td> <td>    0.019</td> <td>    3.586</td> <td> 0.000</td> <td>    0.031</td> <td>    0.106</td>\n",
       "</tr>\n",
       "<tr>\n",
       "  <th>YearsInCurrentRole</th>       <td>   -0.0915</td> <td>    0.025</td> <td>   -3.683</td> <td> 0.000</td> <td>   -0.140</td> <td>   -0.043</td>\n",
       "</tr>\n",
       "<tr>\n",
       "  <th>YearsSinceLastPromotion</th>  <td>    0.1348</td> <td>    0.021</td> <td>    6.542</td> <td> 0.000</td> <td>    0.094</td> <td>    0.175</td>\n",
       "</tr>\n",
       "<tr>\n",
       "  <th>YearsWithCurrManager</th>     <td>   -0.0876</td> <td>    0.024</td> <td>   -3.690</td> <td> 0.000</td> <td>   -0.134</td> <td>   -0.041</td>\n",
       "</tr>\n",
       "</table>"
      ],
      "text/plain": [
       "<class 'statsmodels.iolib.summary.Summary'>\n",
       "\"\"\"\n",
       "                           Logit Regression Results                           \n",
       "==============================================================================\n",
       "Dep. Variable:          Attrition_bol   No. Observations:                 2270\n",
       "Model:                          Logit   Df Residuals:                     2253\n",
       "Method:                           MLE   Df Model:                           16\n",
       "Date:                Fri, 22 Nov 2019   Pseudo R-squ.:                  0.1798\n",
       "Time:                        15:37:46   Log-Likelihood:                -1283.5\n",
       "converged:                       True   LL-Null:                       -1565.0\n",
       "Covariance Type:            nonrobust   LLR p-value:                1.702e-109\n",
       "============================================================================================\n",
       "                               coef    std err          z      P>|z|      [0.025      0.975]\n",
       "--------------------------------------------------------------------------------------------\n",
       "const                       12.2788      1.439      8.533      0.000       9.458      15.099\n",
       "JobInvolvement              -0.4542      0.068     -6.708      0.000      -0.587      -0.322\n",
       "JobLevel                     0.3928      0.125      3.138      0.002       0.147       0.638\n",
       "JobSatisfaction             -0.2497      0.044     -5.709      0.000      -0.335      -0.164\n",
       "Distance_Home                0.2816      0.045      6.237      0.000       0.193       0.370\n",
       "MonthlyIncome               -1.0484      0.186     -5.627      0.000      -1.414      -0.683\n",
       "EnvironmentSatisfaction     -0.3197      0.044     -7.350      0.000      -0.405      -0.234\n",
       "RelationshipSatisfaction    -0.1607      0.044     -3.639      0.000      -0.247      -0.074\n",
       "NumCompaniesWorked           0.1231      0.021      5.824      0.000       0.082       0.164\n",
       "StockOptionLevel            -0.4261      0.058     -7.354      0.000      -0.540      -0.313\n",
       "TotalWorkingYears           -0.0818      0.013     -6.141      0.000      -0.108      -0.056\n",
       "TrainingTimesLastYear       -0.1656      0.038     -4.352      0.000      -0.240      -0.091\n",
       "WorkLifeBalance             -0.2238      0.066     -3.400      0.001      -0.353      -0.095\n",
       "YearsAtCompany               0.0688      0.019      3.586      0.000       0.031       0.106\n",
       "YearsInCurrentRole          -0.0915      0.025     -3.683      0.000      -0.140      -0.043\n",
       "YearsSinceLastPromotion      0.1348      0.021      6.542      0.000       0.094       0.175\n",
       "YearsWithCurrManager        -0.0876      0.024     -3.690      0.000      -0.134      -0.041\n",
       "============================================================================================\n",
       "\"\"\""
      ]
     },
     "execution_count": 168,
     "metadata": {},
     "output_type": "execute_result"
    }
   ],
   "source": [
    "res_3=model_3.fit()\n",
    "res_3.summary()"
   ]
  },
  {
   "cell_type": "code",
   "execution_count": 215,
   "metadata": {},
   "outputs": [
    {
     "data": {
      "text/plain": [
       "Index(['const', 'JobSatisfaction', 'Distance_Home', 'EnvironmentSatisfaction',\n",
       "       'RelationshipSatisfaction', 'NumCompaniesWorked', 'StockOptionLevel',\n",
       "       'TotalWorkingYears', 'TrainingTimesLastYear', 'YearsInCurrentRole',\n",
       "       'YearsSinceLastPromotion', 'YearsWithCurrManager'],\n",
       "      dtype='object')"
      ]
     },
     "execution_count": 215,
     "metadata": {},
     "output_type": "execute_result"
    }
   ],
   "source": [
    "X_new.columns"
   ]
  },
  {
   "cell_type": "code",
   "execution_count": 216,
   "metadata": {},
   "outputs": [
    {
     "data": {
      "text/plain": [
       "Index(['const', 'JobSatisfaction', 'Distance_Home', 'EnvironmentSatisfaction',\n",
       "       'RelationshipSatisfaction', 'NumCompaniesWorked', 'StockOptionLevel',\n",
       "       'TotalWorkingYears', 'TrainingTimesLastYear', 'YearsInCurrentRole',\n",
       "       'YearsSinceLastPromotion', 'YearsWithCurrManager'],\n",
       "      dtype='object')"
      ]
     },
     "execution_count": 216,
     "metadata": {},
     "output_type": "execute_result"
    }
   ],
   "source": [
    "X.columns"
   ]
  },
  {
   "cell_type": "code",
   "execution_count": 186,
   "metadata": {},
   "outputs": [
    {
     "data": {
      "text/plain": [
       "array([[912, 321],\n",
       "       [ 84, 153]], dtype=int64)"
      ]
     },
     "execution_count": 186,
     "metadata": {},
     "output_type": "execute_result"
    }
   ],
   "source": [
    "from sklearn.metrics import confusion_matrix\n",
    "pred_3=round(res_3.predict(X))\n",
    "confusion_matrix(y,pred_3)"
   ]
  },
  {
   "cell_type": "code",
   "execution_count": 217,
   "metadata": {},
   "outputs": [
    {
     "data": {
      "text/plain": [
       "(1470, 12)"
      ]
     },
     "execution_count": 217,
     "metadata": {},
     "output_type": "execute_result"
    }
   ],
   "source": [
    "X.shape"
   ]
  },
  {
   "cell_type": "code",
   "execution_count": 218,
   "metadata": {},
   "outputs": [
    {
     "data": {
      "text/plain": [
       "(2270, 12)"
      ]
     },
     "execution_count": 218,
     "metadata": {},
     "output_type": "execute_result"
    }
   ],
   "source": [
    "X_new.shape"
   ]
  },
  {
   "cell_type": "markdown",
   "metadata": {},
   "source": [
    "#### Score _ Modele 3 Logfit resamp"
   ]
  },
  {
   "cell_type": "code",
   "execution_count": 189,
   "metadata": {},
   "outputs": [
    {
     "data": {
      "text/plain": [
       "0.6455696202531646"
      ]
     },
     "execution_count": 189,
     "metadata": {},
     "output_type": "execute_result"
    }
   ],
   "source": [
    "import sklearn.metrics as m\n",
    "m.recall_score(y,pred_3)"
   ]
  },
  {
   "cell_type": "markdown",
   "metadata": {},
   "source": [
    "### Model_4 Logistic Regression "
   ]
  },
  {
   "cell_type": "code",
   "execution_count": 192,
   "metadata": {},
   "outputs": [],
   "source": [
    "from sklearn.linear_model import LogisticRegression"
   ]
  },
  {
   "cell_type": "code",
   "execution_count": 193,
   "metadata": {},
   "outputs": [
    {
     "name": "stderr",
     "output_type": "stream",
     "text": [
      "C:\\Users\\Lenovo\\Anaconda3\\lib\\site-packages\\sklearn\\linear_model\\logistic.py:432: FutureWarning: Default solver will be changed to 'lbfgs' in 0.22. Specify a solver to silence this warning.\n",
      "  FutureWarning)\n"
     ]
    }
   ],
   "source": [
    "model_4=LogisticRegression(class_weight='balanced').fit(X_new,y_new)"
   ]
  },
  {
   "cell_type": "code",
   "execution_count": 194,
   "metadata": {},
   "outputs": [],
   "source": [
    "pred_4=model_4.predict(X)"
   ]
  },
  {
   "cell_type": "code",
   "execution_count": 195,
   "metadata": {},
   "outputs": [
    {
     "data": {
      "text/plain": [
       "array([[847, 386],\n",
       "       [ 70, 167]], dtype=int64)"
      ]
     },
     "execution_count": 195,
     "metadata": {},
     "output_type": "execute_result"
    }
   ],
   "source": [
    "confusion_matrix(y,pred_4)"
   ]
  },
  {
   "cell_type": "code",
   "execution_count": 196,
   "metadata": {},
   "outputs": [
    {
     "data": {
      "text/plain": [
       "0.7046413502109705"
      ]
     },
     "execution_count": 196,
     "metadata": {},
     "output_type": "execute_result"
    }
   ],
   "source": [
    "m.recall_score(y,pred_4)"
   ]
  },
  {
   "cell_type": "markdown",
   "metadata": {},
   "source": [
    "### Multicollinearity - model 3"
   ]
  },
  {
   "cell_type": "code",
   "execution_count": 197,
   "metadata": {},
   "outputs": [],
   "source": [
    "X_new.drop(['const','MonthlyIncome','JobInvolvement','WorkLifeBalance','YearsAtCompany','JobLevel'],axis=1,inplace=True)"
   ]
  },
  {
   "cell_type": "code",
   "execution_count": 198,
   "metadata": {},
   "outputs": [
    {
     "data": {
      "text/plain": [
       "JobSatisfaction             5.533790\n",
       "Distance_Home               3.620971\n",
       "EnvironmentSatisfaction     5.293168\n",
       "RelationshipSatisfaction    5.981403\n",
       "NumCompaniesWorked          2.378096\n",
       "StockOptionLevel            1.685864\n",
       "TotalWorkingYears           4.647455\n",
       "TrainingTimesLastYear       4.580614\n",
       "YearsInCurrentRole          5.676752\n",
       "YearsSinceLastPromotion     2.399534\n",
       "YearsWithCurrManager        5.350607\n",
       "dtype: float64"
      ]
     },
     "execution_count": 198,
     "metadata": {},
     "output_type": "execute_result"
    }
   ],
   "source": [
    "#X_new.drop(['const'],axis=1,inplace=True)\n",
    "from statsmodels.stats.outliers_influence import variance_inflation_factor as VIF\n",
    "pd.Series([VIF(X_new.values,i) for i in range(X_new.shape[1])],index=X_new.columns)"
   ]
  },
  {
   "cell_type": "code",
   "execution_count": 199,
   "metadata": {},
   "outputs": [
    {
     "data": {
      "text/plain": [
       "Index(['JobSatisfaction', 'Distance_Home', 'EnvironmentSatisfaction',\n",
       "       'RelationshipSatisfaction', 'NumCompaniesWorked', 'StockOptionLevel',\n",
       "       'TotalWorkingYears', 'TrainingTimesLastYear', 'YearsInCurrentRole',\n",
       "       'YearsSinceLastPromotion', 'YearsWithCurrManager'],\n",
       "      dtype='object')"
      ]
     },
     "execution_count": 199,
     "metadata": {},
     "output_type": "execute_result"
    }
   ],
   "source": [
    "X_new.columns"
   ]
  },
  {
   "cell_type": "code",
   "execution_count": 200,
   "metadata": {},
   "outputs": [
    {
     "name": "stderr",
     "output_type": "stream",
     "text": [
      "C:\\Users\\Lenovo\\Anaconda3\\lib\\site-packages\\numpy\\core\\fromnumeric.py:2389: FutureWarning: Method .ptp is deprecated and will be removed in a future version. Use numpy.ptp instead.\n",
      "  return ptp(axis=axis, out=out, **kwargs)\n"
     ]
    }
   ],
   "source": [
    "X_new=add_constant(X_new)\n",
    "model_3m=sm.Logit(y_new,X_new)"
   ]
  },
  {
   "cell_type": "code",
   "execution_count": 201,
   "metadata": {},
   "outputs": [
    {
     "name": "stdout",
     "output_type": "stream",
     "text": [
      "Optimization terminated successfully.\n",
      "         Current function value: 0.591871\n",
      "         Iterations 6\n"
     ]
    },
    {
     "data": {
      "text/html": [
       "<table class=\"simpletable\">\n",
       "<caption>Logit Regression Results</caption>\n",
       "<tr>\n",
       "  <th>Dep. Variable:</th>     <td>Attrition_bol</td>  <th>  No. Observations:  </th>  <td>  2270</td>  \n",
       "</tr>\n",
       "<tr>\n",
       "  <th>Model:</th>                 <td>Logit</td>      <th>  Df Residuals:      </th>  <td>  2258</td>  \n",
       "</tr>\n",
       "<tr>\n",
       "  <th>Method:</th>                 <td>MLE</td>       <th>  Df Model:          </th>  <td>    11</td>  \n",
       "</tr>\n",
       "<tr>\n",
       "  <th>Date:</th>            <td>Fri, 22 Nov 2019</td> <th>  Pseudo R-squ.:     </th>  <td>0.1415</td>  \n",
       "</tr>\n",
       "<tr>\n",
       "  <th>Time:</th>                <td>15:40:50</td>     <th>  Log-Likelihood:    </th> <td> -1343.5</td> \n",
       "</tr>\n",
       "<tr>\n",
       "  <th>converged:</th>             <td>True</td>       <th>  LL-Null:           </th> <td> -1565.0</td> \n",
       "</tr>\n",
       "<tr>\n",
       "  <th>Covariance Type:</th>     <td>nonrobust</td>    <th>  LLR p-value:       </th> <td>4.782e-88</td>\n",
       "</tr>\n",
       "</table>\n",
       "<table class=\"simpletable\">\n",
       "<tr>\n",
       "              <td></td>                <th>coef</th>     <th>std err</th>      <th>z</th>      <th>P>|z|</th>  <th>[0.025</th>    <th>0.975]</th>  \n",
       "</tr>\n",
       "<tr>\n",
       "  <th>const</th>                    <td>    2.4285</td> <td>    0.265</td> <td>    9.160</td> <td> 0.000</td> <td>    1.909</td> <td>    2.948</td>\n",
       "</tr>\n",
       "<tr>\n",
       "  <th>JobSatisfaction</th>          <td>   -0.2143</td> <td>    0.042</td> <td>   -5.083</td> <td> 0.000</td> <td>   -0.297</td> <td>   -0.132</td>\n",
       "</tr>\n",
       "<tr>\n",
       "  <th>Distance_Home</th>            <td>    0.2666</td> <td>    0.044</td> <td>    6.113</td> <td> 0.000</td> <td>    0.181</td> <td>    0.352</td>\n",
       "</tr>\n",
       "<tr>\n",
       "  <th>EnvironmentSatisfaction</th>  <td>   -0.2908</td> <td>    0.042</td> <td>   -6.923</td> <td> 0.000</td> <td>   -0.373</td> <td>   -0.208</td>\n",
       "</tr>\n",
       "<tr>\n",
       "  <th>RelationshipSatisfaction</th> <td>   -0.1415</td> <td>    0.043</td> <td>   -3.307</td> <td> 0.001</td> <td>   -0.225</td> <td>   -0.058</td>\n",
       "</tr>\n",
       "<tr>\n",
       "  <th>NumCompaniesWorked</th>       <td>    0.0932</td> <td>    0.020</td> <td>    4.664</td> <td> 0.000</td> <td>    0.054</td> <td>    0.132</td>\n",
       "</tr>\n",
       "<tr>\n",
       "  <th>StockOptionLevel</th>         <td>   -0.4489</td> <td>    0.057</td> <td>   -7.917</td> <td> 0.000</td> <td>   -0.560</td> <td>   -0.338</td>\n",
       "</tr>\n",
       "<tr>\n",
       "  <th>TotalWorkingYears</th>        <td>   -0.0828</td> <td>    0.009</td> <td>   -9.076</td> <td> 0.000</td> <td>   -0.101</td> <td>   -0.065</td>\n",
       "</tr>\n",
       "<tr>\n",
       "  <th>TrainingTimesLastYear</th>    <td>   -0.1444</td> <td>    0.037</td> <td>   -3.926</td> <td> 0.000</td> <td>   -0.217</td> <td>   -0.072</td>\n",
       "</tr>\n",
       "<tr>\n",
       "  <th>YearsInCurrentRole</th>       <td>   -0.0766</td> <td>    0.022</td> <td>   -3.419</td> <td> 0.001</td> <td>   -0.121</td> <td>   -0.033</td>\n",
       "</tr>\n",
       "<tr>\n",
       "  <th>YearsSinceLastPromotion</th>  <td>    0.1592</td> <td>    0.020</td> <td>    8.043</td> <td> 0.000</td> <td>    0.120</td> <td>    0.198</td>\n",
       "</tr>\n",
       "<tr>\n",
       "  <th>YearsWithCurrManager</th>     <td>   -0.0582</td> <td>    0.022</td> <td>   -2.657</td> <td> 0.008</td> <td>   -0.101</td> <td>   -0.015</td>\n",
       "</tr>\n",
       "</table>"
      ],
      "text/plain": [
       "<class 'statsmodels.iolib.summary.Summary'>\n",
       "\"\"\"\n",
       "                           Logit Regression Results                           \n",
       "==============================================================================\n",
       "Dep. Variable:          Attrition_bol   No. Observations:                 2270\n",
       "Model:                          Logit   Df Residuals:                     2258\n",
       "Method:                           MLE   Df Model:                           11\n",
       "Date:                Fri, 22 Nov 2019   Pseudo R-squ.:                  0.1415\n",
       "Time:                        15:40:50   Log-Likelihood:                -1343.5\n",
       "converged:                       True   LL-Null:                       -1565.0\n",
       "Covariance Type:            nonrobust   LLR p-value:                 4.782e-88\n",
       "============================================================================================\n",
       "                               coef    std err          z      P>|z|      [0.025      0.975]\n",
       "--------------------------------------------------------------------------------------------\n",
       "const                        2.4285      0.265      9.160      0.000       1.909       2.948\n",
       "JobSatisfaction             -0.2143      0.042     -5.083      0.000      -0.297      -0.132\n",
       "Distance_Home                0.2666      0.044      6.113      0.000       0.181       0.352\n",
       "EnvironmentSatisfaction     -0.2908      0.042     -6.923      0.000      -0.373      -0.208\n",
       "RelationshipSatisfaction    -0.1415      0.043     -3.307      0.001      -0.225      -0.058\n",
       "NumCompaniesWorked           0.0932      0.020      4.664      0.000       0.054       0.132\n",
       "StockOptionLevel            -0.4489      0.057     -7.917      0.000      -0.560      -0.338\n",
       "TotalWorkingYears           -0.0828      0.009     -9.076      0.000      -0.101      -0.065\n",
       "TrainingTimesLastYear       -0.1444      0.037     -3.926      0.000      -0.217      -0.072\n",
       "YearsInCurrentRole          -0.0766      0.022     -3.419      0.001      -0.121      -0.033\n",
       "YearsSinceLastPromotion      0.1592      0.020      8.043      0.000       0.120       0.198\n",
       "YearsWithCurrManager        -0.0582      0.022     -2.657      0.008      -0.101      -0.015\n",
       "============================================================================================\n",
       "\"\"\""
      ]
     },
     "execution_count": 201,
     "metadata": {},
     "output_type": "execute_result"
    }
   ],
   "source": [
    "res_3m=model_3m.fit()\n",
    "res_3m.summary()"
   ]
  },
  {
   "cell_type": "code",
   "execution_count": 202,
   "metadata": {},
   "outputs": [],
   "source": [
    "X.drop(['JobLevel','MonthlyIncome','JobInvolvement','WorkLifeBalance','YearsAtCompany'],axis=1,inplace=True)"
   ]
  },
  {
   "cell_type": "code",
   "execution_count": 203,
   "metadata": {},
   "outputs": [
    {
     "data": {
      "text/plain": [
       "array([[890, 343],\n",
       "       [ 81, 156]], dtype=int64)"
      ]
     },
     "execution_count": 203,
     "metadata": {},
     "output_type": "execute_result"
    }
   ],
   "source": [
    "pred_3m=round(res_3m.predict(X))\n",
    "confusion_matrix(y,pred_3m)"
   ]
  },
  {
   "cell_type": "code",
   "execution_count": 204,
   "metadata": {},
   "outputs": [
    {
     "name": "stdout",
     "output_type": "stream",
     "text": [
      "890 343 81 156\n"
     ]
    }
   ],
   "source": [
    "tn, fp, fn, tp = confusion_matrix(y,pred_3m).ravel()\n",
    "print(tn, fp, fn, tp)"
   ]
  },
  {
   "cell_type": "code",
   "execution_count": 205,
   "metadata": {},
   "outputs": [
    {
     "data": {
      "text/plain": [
       "(2270, 12)"
      ]
     },
     "execution_count": 205,
     "metadata": {},
     "output_type": "execute_result"
    }
   ],
   "source": [
    "X_new.shape"
   ]
  },
  {
   "cell_type": "code",
   "execution_count": 206,
   "metadata": {},
   "outputs": [
    {
     "data": {
      "text/plain": [
       "(1470, 12)"
      ]
     },
     "execution_count": 206,
     "metadata": {},
     "output_type": "execute_result"
    }
   ],
   "source": [
    "X.shape"
   ]
  },
  {
   "cell_type": "markdown",
   "metadata": {},
   "source": [
    "### Score Model 3m - resamp & multicollinearity"
   ]
  },
  {
   "cell_type": "code",
   "execution_count": 207,
   "metadata": {},
   "outputs": [
    {
     "data": {
      "text/plain": [
       "0.6582278481012658"
      ]
     },
     "execution_count": 207,
     "metadata": {},
     "output_type": "execute_result"
    }
   ],
   "source": [
    "m.recall_score(y,pred_3m)"
   ]
  },
  {
   "cell_type": "code",
   "execution_count": 208,
   "metadata": {},
   "outputs": [
    {
     "data": {
      "text/plain": [
       "0.312625250501002"
      ]
     },
     "execution_count": 208,
     "metadata": {},
     "output_type": "execute_result"
    }
   ],
   "source": [
    "m.precision_score(y,pred_3m)"
   ]
  },
  {
   "cell_type": "code",
   "execution_count": 209,
   "metadata": {},
   "outputs": [
    {
     "data": {
      "text/plain": [
       "0.42391304347826086"
      ]
     },
     "execution_count": 209,
     "metadata": {},
     "output_type": "execute_result"
    }
   ],
   "source": [
    "m.f1_score(y,pred_3m)"
   ]
  },
  {
   "cell_type": "markdown",
   "metadata": {},
   "source": [
    "### Modele Logistic Regression 4 -  multicollinearity"
   ]
  },
  {
   "cell_type": "code",
   "execution_count": 210,
   "metadata": {},
   "outputs": [
    {
     "name": "stderr",
     "output_type": "stream",
     "text": [
      "C:\\Users\\Lenovo\\Anaconda3\\lib\\site-packages\\sklearn\\linear_model\\logistic.py:432: FutureWarning: Default solver will be changed to 'lbfgs' in 0.22. Specify a solver to silence this warning.\n",
      "  FutureWarning)\n"
     ]
    }
   ],
   "source": [
    "model_4m=LogisticRegression(class_weight='balanced').fit(X_new,y_new)"
   ]
  },
  {
   "cell_type": "code",
   "execution_count": 211,
   "metadata": {},
   "outputs": [],
   "source": [
    "pred_4m=model_4m.predict(X)"
   ]
  },
  {
   "cell_type": "markdown",
   "metadata": {},
   "source": [
    "#### Score Model 4m - resamp & Multicollinearity"
   ]
  },
  {
   "cell_type": "code",
   "execution_count": 212,
   "metadata": {
    "scrolled": true
   },
   "outputs": [
    {
     "data": {
      "text/plain": [
       "array([[810, 423],\n",
       "       [ 69, 168]], dtype=int64)"
      ]
     },
     "execution_count": 212,
     "metadata": {},
     "output_type": "execute_result"
    }
   ],
   "source": [
    "confusion_matrix(y,pred_4m)"
   ]
  },
  {
   "cell_type": "code",
   "execution_count": 213,
   "metadata": {},
   "outputs": [
    {
     "data": {
      "text/plain": [
       "0.7088607594936709"
      ]
     },
     "execution_count": 213,
     "metadata": {},
     "output_type": "execute_result"
    }
   ],
   "source": [
    "m.recall_score(y,pred_4m)"
   ]
  },
  {
   "cell_type": "code",
   "execution_count": 214,
   "metadata": {},
   "outputs": [
    {
     "ename": "NameError",
     "evalue": "name 'res_new' is not defined",
     "output_type": "error",
     "traceback": [
      "\u001b[1;31m---------------------------------------------------------------------------\u001b[0m",
      "\u001b[1;31mNameError\u001b[0m                                 Traceback (most recent call last)",
      "\u001b[1;32m<ipython-input-214-7d182d4ab035>\u001b[0m in \u001b[0;36m<module>\u001b[1;34m\u001b[0m\n\u001b[0;32m      1\u001b[0m \u001b[1;32mimport\u001b[0m \u001b[0msklearn\u001b[0m\u001b[1;33m.\u001b[0m\u001b[0mmetrics\u001b[0m \u001b[1;32mas\u001b[0m \u001b[0mmetrics\u001b[0m\u001b[1;33m\u001b[0m\u001b[1;33m\u001b[0m\u001b[0m\n\u001b[0;32m      2\u001b[0m \u001b[1;31m# calculate the fpr and tpr for all thresholds of the classification\u001b[0m\u001b[1;33m\u001b[0m\u001b[1;33m\u001b[0m\u001b[1;33m\u001b[0m\u001b[0m\n\u001b[1;32m----> 3\u001b[1;33m \u001b[0mprobs\u001b[0m \u001b[1;33m=\u001b[0m \u001b[0mres_new\u001b[0m\u001b[1;33m.\u001b[0m\u001b[0mpredict\u001b[0m\u001b[1;33m(\u001b[0m\u001b[0mX_new\u001b[0m\u001b[1;33m)\u001b[0m\u001b[1;33m\u001b[0m\u001b[1;33m\u001b[0m\u001b[0m\n\u001b[0m\u001b[0;32m      4\u001b[0m \u001b[0mpreds\u001b[0m \u001b[1;33m=\u001b[0m \u001b[0mprobs\u001b[0m\u001b[1;33m\u001b[0m\u001b[1;33m\u001b[0m\u001b[0m\n\u001b[0;32m      5\u001b[0m \u001b[0mfpr\u001b[0m\u001b[1;33m,\u001b[0m \u001b[0mtpr\u001b[0m\u001b[1;33m,\u001b[0m \u001b[0mthreshold\u001b[0m \u001b[1;33m=\u001b[0m \u001b[0mmetrics\u001b[0m\u001b[1;33m.\u001b[0m\u001b[0mroc_curve\u001b[0m\u001b[1;33m(\u001b[0m\u001b[0my_new\u001b[0m\u001b[1;33m,\u001b[0m \u001b[0mpreds\u001b[0m\u001b[1;33m)\u001b[0m\u001b[1;33m\u001b[0m\u001b[1;33m\u001b[0m\u001b[0m\n",
      "\u001b[1;31mNameError\u001b[0m: name 'res_new' is not defined"
     ]
    }
   ],
   "source": [
    "import sklearn.metrics as metrics\n",
    "# calculate the fpr and tpr for all thresholds of the classification\n",
    "probs = res_new.predict(X_new)\n",
    "preds = probs\n",
    "fpr, tpr, threshold = metrics.roc_curve(y_new, preds)\n",
    "roc_auc = metrics.auc(fpr, tpr)\n",
    "# method I: plt\n",
    "import matplotlib.pyplot as plt\n",
    "plt.title('Receiver Operating Characteristic')\n",
    "plt.plot(fpr, tpr, 'b', label = 'AUC = %0.2f' % roc_auc)\n",
    "plt.legend(loc = 'lower right')\n",
    "plt.plot([0, 1], [0, 1],'r--')\n",
    "plt.xlim([0, 1])\n",
    "plt.ylim([0, 1])\n",
    "plt.ylabel('True Positive Rate')\n",
    "plt.xlabel('False Positive Rate')\n",
    "plt.show()"
   ]
  }
 ],
 "metadata": {
  "kernelspec": {
   "display_name": "Python 3",
   "language": "python",
   "name": "python3"
  },
  "language_info": {
   "codemirror_mode": {
    "name": "ipython",
    "version": 3
   },
   "file_extension": ".py",
   "mimetype": "text/x-python",
   "name": "python",
   "nbconvert_exporter": "python",
   "pygments_lexer": "ipython3",
   "version": "3.7.3"
  }
 },
 "nbformat": 4,
 "nbformat_minor": 2
}
