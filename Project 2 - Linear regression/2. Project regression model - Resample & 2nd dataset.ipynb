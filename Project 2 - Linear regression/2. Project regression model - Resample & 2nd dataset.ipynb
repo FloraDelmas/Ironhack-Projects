{
 "cells": [
  {
   "cell_type": "markdown",
   "metadata": {},
   "source": [
    "## 2. Build regression model on the employee attrition dataset"
   ]
  },
  {
   "cell_type": "markdown",
   "metadata": {},
   "source": [
    "### Create the 2nd dataframe with 23 variables \n",
    "1. Log monthly Income to have same scale\n",
    "2. Add 4 numerics columns : Cat_Age, Overtime, BusinessTravel, percentSalaryHike\n",
    "\n",
    "\n",
    "### Apply differents models on the 2st dataframe\n",
    "1. Logfit \n",
    "2. Logistic Regression \n",
    "3. Apply Multicollinearity on both models\n",
    "4. Oversampling : to have the same proportion of Yes/No (45% / 55%)\n",
    "\n",
    "\n",
    "cf. Google Slides Presentation with all the scores of differents models \n",
    "\n",
    "### Test the best model on actual employee that wants to quit and not quit "
   ]
  },
  {
   "cell_type": "code",
   "execution_count": 378,
   "metadata": {},
   "outputs": [],
   "source": [
    "import pandas as pd"
   ]
  },
  {
   "cell_type": "code",
   "execution_count": 379,
   "metadata": {},
   "outputs": [],
   "source": [
    "df=pd.read_csv('EmployeeAttritionv2.csv')"
   ]
  },
  {
   "cell_type": "code",
   "execution_count": 380,
   "metadata": {},
   "outputs": [],
   "source": [
    "df.Cat_Age=df.Cat_Age.map({'41-50':3, '31-40':2, '18-30':1, '51-60':4})"
   ]
  },
  {
   "cell_type": "code",
   "execution_count": 381,
   "metadata": {
    "scrolled": true
   },
   "outputs": [],
   "source": [
    "df.Cat_Age=df.Cat_Age.map({'41-50':3, '31-40':2, '18-30':1, '51-60':4})\n",
    "df.OverTime=df.OverTime.map({'No':0,'Yes':1}).astype('int64')\n",
    "df.BusinessTravel=df.BusinessTravel.map({'Non-Travel':0,'Travel_Frequently':2,'Travel_Rarely':1}).astype('int64')\n",
    "Percent_cat=[1,2,3]\n",
    "cutoffs = [10,15,20,25]\n",
    "df['PercentSalaryHike']=pd.cut(df['PercentSalaryHike'],cutoffs, labels=Percent_cat)"
   ]
  },
  {
   "cell_type": "code",
   "execution_count": 382,
   "metadata": {},
   "outputs": [
    {
     "data": {
      "text/html": [
       "<div>\n",
       "<style scoped>\n",
       "    .dataframe tbody tr th:only-of-type {\n",
       "        vertical-align: middle;\n",
       "    }\n",
       "\n",
       "    .dataframe tbody tr th {\n",
       "        vertical-align: top;\n",
       "    }\n",
       "\n",
       "    .dataframe thead th {\n",
       "        text-align: right;\n",
       "    }\n",
       "</style>\n",
       "<table border=\"1\" class=\"dataframe\">\n",
       "  <thead>\n",
       "    <tr style=\"text-align: right;\">\n",
       "      <th></th>\n",
       "      <th>Unnamed: 0</th>\n",
       "      <th>Gender</th>\n",
       "      <th>Age</th>\n",
       "      <th>Cat_Age</th>\n",
       "      <th>Attrition</th>\n",
       "      <th>Attrition_bol</th>\n",
       "      <th>Department</th>\n",
       "      <th>JobRole</th>\n",
       "      <th>JobInvolvement</th>\n",
       "      <th>JobLevel</th>\n",
       "      <th>...</th>\n",
       "      <th>RelationshipSatisfaction</th>\n",
       "      <th>NumCompaniesWorked</th>\n",
       "      <th>StockOptionLevel</th>\n",
       "      <th>TotalWorkingYears</th>\n",
       "      <th>TrainingTimesLastYear</th>\n",
       "      <th>WorkLifeBalance</th>\n",
       "      <th>YearsAtCompany</th>\n",
       "      <th>YearsInCurrentRole</th>\n",
       "      <th>YearsSinceLastPromotion</th>\n",
       "      <th>YearsWithCurrManager</th>\n",
       "    </tr>\n",
       "  </thead>\n",
       "  <tbody>\n",
       "    <tr>\n",
       "      <th>0</th>\n",
       "      <td>0</td>\n",
       "      <td>Female</td>\n",
       "      <td>41</td>\n",
       "      <td>NaN</td>\n",
       "      <td>Yes</td>\n",
       "      <td>1</td>\n",
       "      <td>Sales</td>\n",
       "      <td>Sales Executive</td>\n",
       "      <td>3</td>\n",
       "      <td>2</td>\n",
       "      <td>...</td>\n",
       "      <td>1</td>\n",
       "      <td>8</td>\n",
       "      <td>0</td>\n",
       "      <td>8</td>\n",
       "      <td>0</td>\n",
       "      <td>1</td>\n",
       "      <td>6</td>\n",
       "      <td>4</td>\n",
       "      <td>0</td>\n",
       "      <td>5</td>\n",
       "    </tr>\n",
       "    <tr>\n",
       "      <th>1</th>\n",
       "      <td>1</td>\n",
       "      <td>Male</td>\n",
       "      <td>49</td>\n",
       "      <td>NaN</td>\n",
       "      <td>No</td>\n",
       "      <td>0</td>\n",
       "      <td>Research &amp; Development</td>\n",
       "      <td>Research Scientist</td>\n",
       "      <td>2</td>\n",
       "      <td>2</td>\n",
       "      <td>...</td>\n",
       "      <td>4</td>\n",
       "      <td>1</td>\n",
       "      <td>1</td>\n",
       "      <td>10</td>\n",
       "      <td>3</td>\n",
       "      <td>3</td>\n",
       "      <td>10</td>\n",
       "      <td>7</td>\n",
       "      <td>1</td>\n",
       "      <td>7</td>\n",
       "    </tr>\n",
       "    <tr>\n",
       "      <th>2</th>\n",
       "      <td>2</td>\n",
       "      <td>Male</td>\n",
       "      <td>37</td>\n",
       "      <td>NaN</td>\n",
       "      <td>Yes</td>\n",
       "      <td>1</td>\n",
       "      <td>Research &amp; Development</td>\n",
       "      <td>Laboratory Technician</td>\n",
       "      <td>2</td>\n",
       "      <td>1</td>\n",
       "      <td>...</td>\n",
       "      <td>2</td>\n",
       "      <td>6</td>\n",
       "      <td>0</td>\n",
       "      <td>7</td>\n",
       "      <td>3</td>\n",
       "      <td>3</td>\n",
       "      <td>0</td>\n",
       "      <td>0</td>\n",
       "      <td>0</td>\n",
       "      <td>0</td>\n",
       "    </tr>\n",
       "    <tr>\n",
       "      <th>3</th>\n",
       "      <td>3</td>\n",
       "      <td>Female</td>\n",
       "      <td>33</td>\n",
       "      <td>NaN</td>\n",
       "      <td>No</td>\n",
       "      <td>0</td>\n",
       "      <td>Research &amp; Development</td>\n",
       "      <td>Research Scientist</td>\n",
       "      <td>3</td>\n",
       "      <td>1</td>\n",
       "      <td>...</td>\n",
       "      <td>3</td>\n",
       "      <td>1</td>\n",
       "      <td>0</td>\n",
       "      <td>8</td>\n",
       "      <td>3</td>\n",
       "      <td>3</td>\n",
       "      <td>8</td>\n",
       "      <td>7</td>\n",
       "      <td>3</td>\n",
       "      <td>0</td>\n",
       "    </tr>\n",
       "    <tr>\n",
       "      <th>4</th>\n",
       "      <td>4</td>\n",
       "      <td>Male</td>\n",
       "      <td>27</td>\n",
       "      <td>NaN</td>\n",
       "      <td>No</td>\n",
       "      <td>0</td>\n",
       "      <td>Research &amp; Development</td>\n",
       "      <td>Laboratory Technician</td>\n",
       "      <td>3</td>\n",
       "      <td>1</td>\n",
       "      <td>...</td>\n",
       "      <td>4</td>\n",
       "      <td>9</td>\n",
       "      <td>1</td>\n",
       "      <td>6</td>\n",
       "      <td>3</td>\n",
       "      <td>3</td>\n",
       "      <td>2</td>\n",
       "      <td>2</td>\n",
       "      <td>2</td>\n",
       "      <td>2</td>\n",
       "    </tr>\n",
       "  </tbody>\n",
       "</table>\n",
       "<p>5 rows × 32 columns</p>\n",
       "</div>"
      ],
      "text/plain": [
       "   Unnamed: 0  Gender  Age  Cat_Age Attrition  Attrition_bol  \\\n",
       "0           0  Female   41      NaN       Yes              1   \n",
       "1           1    Male   49      NaN        No              0   \n",
       "2           2    Male   37      NaN       Yes              1   \n",
       "3           3  Female   33      NaN        No              0   \n",
       "4           4    Male   27      NaN        No              0   \n",
       "\n",
       "               Department                JobRole  JobInvolvement  JobLevel  \\\n",
       "0                   Sales        Sales Executive               3         2   \n",
       "1  Research & Development     Research Scientist               2         2   \n",
       "2  Research & Development  Laboratory Technician               2         1   \n",
       "3  Research & Development     Research Scientist               3         1   \n",
       "4  Research & Development  Laboratory Technician               3         1   \n",
       "\n",
       "   ...  RelationshipSatisfaction  NumCompaniesWorked  StockOptionLevel  \\\n",
       "0  ...                         1                   8                 0   \n",
       "1  ...                         4                   1                 1   \n",
       "2  ...                         2                   6                 0   \n",
       "3  ...                         3                   1                 0   \n",
       "4  ...                         4                   9                 1   \n",
       "\n",
       "   TotalWorkingYears  TrainingTimesLastYear WorkLifeBalance  YearsAtCompany  \\\n",
       "0                  8                      0               1               6   \n",
       "1                 10                      3               3              10   \n",
       "2                  7                      3               3               0   \n",
       "3                  8                      3               3               8   \n",
       "4                  6                      3               3               2   \n",
       "\n",
       "   YearsInCurrentRole  YearsSinceLastPromotion YearsWithCurrManager  \n",
       "0                   4                        0                    5  \n",
       "1                   7                        1                    7  \n",
       "2                   0                        0                    0  \n",
       "3                   7                        3                    0  \n",
       "4                   2                        2                    2  \n",
       "\n",
       "[5 rows x 32 columns]"
      ]
     },
     "execution_count": 382,
     "metadata": {},
     "output_type": "execute_result"
    }
   ],
   "source": [
    "df.head()"
   ]
  },
  {
   "cell_type": "code",
   "execution_count": 383,
   "metadata": {},
   "outputs": [],
   "source": [
    "df=pd.get_dummies(df,columns=['Gender'],drop_first=True)"
   ]
  },
  {
   "cell_type": "code",
   "execution_count": 384,
   "metadata": {},
   "outputs": [],
   "source": [
    "Percent_cat=[1,2,3]\n",
    "cutoffs = [10,15,20,25]\n",
    "df['PercentSalaryHike']=pd.cut(df['PercentSalaryHike'],cutoffs, labels=Percent_cat)"
   ]
  },
  {
   "cell_type": "code",
   "execution_count": 385,
   "metadata": {},
   "outputs": [],
   "source": [
    "df['PercentSalaryHike']=df['PercentSalaryHike'].astype('int64')"
   ]
  },
  {
   "cell_type": "code",
   "execution_count": 386,
   "metadata": {},
   "outputs": [],
   "source": [
    "df.Gender_Male=df.Gender_Male.astype('int64')\n"
   ]
  },
  {
   "cell_type": "code",
   "execution_count": 387,
   "metadata": {},
   "outputs": [],
   "source": [
    "import numpy as np\n",
    "df.MonthlyIncome=np.log(df.MonthlyIncome)"
   ]
  },
  {
   "cell_type": "code",
   "execution_count": 388,
   "metadata": {
    "collapsed": true
   },
   "outputs": [
    {
     "data": {
      "text/plain": [
       "Unnamed: 0                    int64\n",
       "Age                           int64\n",
       "Cat_Age                     float64\n",
       "Attrition                    object\n",
       "Attrition_bol                 int64\n",
       "Department                   object\n",
       "JobRole                      object\n",
       "JobInvolvement                int64\n",
       "JobLevel                      int64\n",
       "JobSatisfaction               int64\n",
       "BusinessTravel                int64\n",
       "DistanceFromHome              int64\n",
       "Distance_Home                 int64\n",
       "MonthlyIncome               float64\n",
       "PercentSalaryHike             int64\n",
       "PerformanceRating             int64\n",
       "OverTime                      int64\n",
       "Education                     int64\n",
       "EducationField               object\n",
       "EnvironmentSatisfaction       int64\n",
       "MaritalStatus                object\n",
       "RelationshipSatisfaction      int64\n",
       "NumCompaniesWorked            int64\n",
       "StockOptionLevel              int64\n",
       "TotalWorkingYears             int64\n",
       "TrainingTimesLastYear         int64\n",
       "WorkLifeBalance               int64\n",
       "YearsAtCompany                int64\n",
       "YearsInCurrentRole            int64\n",
       "YearsSinceLastPromotion       int64\n",
       "YearsWithCurrManager          int64\n",
       "Gender_Male                   int64\n",
       "dtype: object"
      ]
     },
     "execution_count": 388,
     "metadata": {},
     "output_type": "execute_result"
    }
   ],
   "source": [
    "df.dtypes"
   ]
  },
  {
   "cell_type": "code",
   "execution_count": 389,
   "metadata": {},
   "outputs": [
    {
     "data": {
      "text/html": [
       "<div>\n",
       "<style scoped>\n",
       "    .dataframe tbody tr th:only-of-type {\n",
       "        vertical-align: middle;\n",
       "    }\n",
       "\n",
       "    .dataframe tbody tr th {\n",
       "        vertical-align: top;\n",
       "    }\n",
       "\n",
       "    .dataframe thead th {\n",
       "        text-align: right;\n",
       "    }\n",
       "</style>\n",
       "<table border=\"1\" class=\"dataframe\">\n",
       "  <thead>\n",
       "    <tr style=\"text-align: right;\">\n",
       "      <th></th>\n",
       "      <th>Unnamed: 0</th>\n",
       "      <th>Age</th>\n",
       "      <th>Cat_Age</th>\n",
       "      <th>Attrition</th>\n",
       "      <th>Attrition_bol</th>\n",
       "      <th>Department</th>\n",
       "      <th>JobRole</th>\n",
       "      <th>JobInvolvement</th>\n",
       "      <th>JobLevel</th>\n",
       "      <th>JobSatisfaction</th>\n",
       "      <th>...</th>\n",
       "      <th>NumCompaniesWorked</th>\n",
       "      <th>StockOptionLevel</th>\n",
       "      <th>TotalWorkingYears</th>\n",
       "      <th>TrainingTimesLastYear</th>\n",
       "      <th>WorkLifeBalance</th>\n",
       "      <th>YearsAtCompany</th>\n",
       "      <th>YearsInCurrentRole</th>\n",
       "      <th>YearsSinceLastPromotion</th>\n",
       "      <th>YearsWithCurrManager</th>\n",
       "      <th>Gender_Male</th>\n",
       "    </tr>\n",
       "  </thead>\n",
       "  <tbody>\n",
       "    <tr>\n",
       "      <th>0</th>\n",
       "      <td>0</td>\n",
       "      <td>41</td>\n",
       "      <td>NaN</td>\n",
       "      <td>Yes</td>\n",
       "      <td>1</td>\n",
       "      <td>Sales</td>\n",
       "      <td>Sales Executive</td>\n",
       "      <td>3</td>\n",
       "      <td>2</td>\n",
       "      <td>4</td>\n",
       "      <td>...</td>\n",
       "      <td>8</td>\n",
       "      <td>0</td>\n",
       "      <td>8</td>\n",
       "      <td>0</td>\n",
       "      <td>1</td>\n",
       "      <td>6</td>\n",
       "      <td>4</td>\n",
       "      <td>0</td>\n",
       "      <td>5</td>\n",
       "      <td>0</td>\n",
       "    </tr>\n",
       "    <tr>\n",
       "      <th>1</th>\n",
       "      <td>1</td>\n",
       "      <td>49</td>\n",
       "      <td>NaN</td>\n",
       "      <td>No</td>\n",
       "      <td>0</td>\n",
       "      <td>Research &amp; Development</td>\n",
       "      <td>Research Scientist</td>\n",
       "      <td>2</td>\n",
       "      <td>2</td>\n",
       "      <td>2</td>\n",
       "      <td>...</td>\n",
       "      <td>1</td>\n",
       "      <td>1</td>\n",
       "      <td>10</td>\n",
       "      <td>3</td>\n",
       "      <td>3</td>\n",
       "      <td>10</td>\n",
       "      <td>7</td>\n",
       "      <td>1</td>\n",
       "      <td>7</td>\n",
       "      <td>1</td>\n",
       "    </tr>\n",
       "    <tr>\n",
       "      <th>2</th>\n",
       "      <td>2</td>\n",
       "      <td>37</td>\n",
       "      <td>NaN</td>\n",
       "      <td>Yes</td>\n",
       "      <td>1</td>\n",
       "      <td>Research &amp; Development</td>\n",
       "      <td>Laboratory Technician</td>\n",
       "      <td>2</td>\n",
       "      <td>1</td>\n",
       "      <td>3</td>\n",
       "      <td>...</td>\n",
       "      <td>6</td>\n",
       "      <td>0</td>\n",
       "      <td>7</td>\n",
       "      <td>3</td>\n",
       "      <td>3</td>\n",
       "      <td>0</td>\n",
       "      <td>0</td>\n",
       "      <td>0</td>\n",
       "      <td>0</td>\n",
       "      <td>1</td>\n",
       "    </tr>\n",
       "    <tr>\n",
       "      <th>3</th>\n",
       "      <td>3</td>\n",
       "      <td>33</td>\n",
       "      <td>NaN</td>\n",
       "      <td>No</td>\n",
       "      <td>0</td>\n",
       "      <td>Research &amp; Development</td>\n",
       "      <td>Research Scientist</td>\n",
       "      <td>3</td>\n",
       "      <td>1</td>\n",
       "      <td>3</td>\n",
       "      <td>...</td>\n",
       "      <td>1</td>\n",
       "      <td>0</td>\n",
       "      <td>8</td>\n",
       "      <td>3</td>\n",
       "      <td>3</td>\n",
       "      <td>8</td>\n",
       "      <td>7</td>\n",
       "      <td>3</td>\n",
       "      <td>0</td>\n",
       "      <td>0</td>\n",
       "    </tr>\n",
       "    <tr>\n",
       "      <th>4</th>\n",
       "      <td>4</td>\n",
       "      <td>27</td>\n",
       "      <td>NaN</td>\n",
       "      <td>No</td>\n",
       "      <td>0</td>\n",
       "      <td>Research &amp; Development</td>\n",
       "      <td>Laboratory Technician</td>\n",
       "      <td>3</td>\n",
       "      <td>1</td>\n",
       "      <td>2</td>\n",
       "      <td>...</td>\n",
       "      <td>9</td>\n",
       "      <td>1</td>\n",
       "      <td>6</td>\n",
       "      <td>3</td>\n",
       "      <td>3</td>\n",
       "      <td>2</td>\n",
       "      <td>2</td>\n",
       "      <td>2</td>\n",
       "      <td>2</td>\n",
       "      <td>1</td>\n",
       "    </tr>\n",
       "  </tbody>\n",
       "</table>\n",
       "<p>5 rows × 32 columns</p>\n",
       "</div>"
      ],
      "text/plain": [
       "   Unnamed: 0  Age  Cat_Age Attrition  Attrition_bol              Department  \\\n",
       "0           0   41      NaN       Yes              1                   Sales   \n",
       "1           1   49      NaN        No              0  Research & Development   \n",
       "2           2   37      NaN       Yes              1  Research & Development   \n",
       "3           3   33      NaN        No              0  Research & Development   \n",
       "4           4   27      NaN        No              0  Research & Development   \n",
       "\n",
       "                 JobRole  JobInvolvement  JobLevel  JobSatisfaction  ...  \\\n",
       "0        Sales Executive               3         2                4  ...   \n",
       "1     Research Scientist               2         2                2  ...   \n",
       "2  Laboratory Technician               2         1                3  ...   \n",
       "3     Research Scientist               3         1                3  ...   \n",
       "4  Laboratory Technician               3         1                2  ...   \n",
       "\n",
       "   NumCompaniesWorked  StockOptionLevel  TotalWorkingYears  \\\n",
       "0                   8                 0                  8   \n",
       "1                   1                 1                 10   \n",
       "2                   6                 0                  7   \n",
       "3                   1                 0                  8   \n",
       "4                   9                 1                  6   \n",
       "\n",
       "   TrainingTimesLastYear  WorkLifeBalance  YearsAtCompany  YearsInCurrentRole  \\\n",
       "0                      0                1               6                   4   \n",
       "1                      3                3              10                   7   \n",
       "2                      3                3               0                   0   \n",
       "3                      3                3               8                   7   \n",
       "4                      3                3               2                   2   \n",
       "\n",
       "   YearsSinceLastPromotion YearsWithCurrManager  Gender_Male  \n",
       "0                        0                    5            0  \n",
       "1                        1                    7            1  \n",
       "2                        0                    0            1  \n",
       "3                        3                    0            0  \n",
       "4                        2                    2            1  \n",
       "\n",
       "[5 rows x 32 columns]"
      ]
     },
     "execution_count": 389,
     "metadata": {},
     "output_type": "execute_result"
    }
   ],
   "source": [
    "df.head()"
   ]
  },
  {
   "cell_type": "markdown",
   "metadata": {},
   "source": [
    "### Create X and y"
   ]
  },
  {
   "cell_type": "code",
   "execution_count": 132,
   "metadata": {},
   "outputs": [],
   "source": [
    "y_cat=df.Attrition_bol\n",
    "X_cat=df.drop(['Attrition_bol','Unnamed: 0','DistanceFromHome','Age'],axis=1)._get_numeric_data()"
   ]
  },
  {
   "cell_type": "code",
   "execution_count": 133,
   "metadata": {
    "scrolled": true
   },
   "outputs": [
    {
     "data": {
      "text/html": [
       "<div>\n",
       "<style scoped>\n",
       "    .dataframe tbody tr th:only-of-type {\n",
       "        vertical-align: middle;\n",
       "    }\n",
       "\n",
       "    .dataframe tbody tr th {\n",
       "        vertical-align: top;\n",
       "    }\n",
       "\n",
       "    .dataframe thead th {\n",
       "        text-align: right;\n",
       "    }\n",
       "</style>\n",
       "<table border=\"1\" class=\"dataframe\">\n",
       "  <thead>\n",
       "    <tr style=\"text-align: right;\">\n",
       "      <th></th>\n",
       "      <th>count</th>\n",
       "      <th>mean</th>\n",
       "      <th>std</th>\n",
       "      <th>min</th>\n",
       "      <th>25%</th>\n",
       "      <th>50%</th>\n",
       "      <th>75%</th>\n",
       "      <th>max</th>\n",
       "    </tr>\n",
       "  </thead>\n",
       "  <tbody>\n",
       "    <tr>\n",
       "      <th>Cat_Age</th>\n",
       "      <td>0.0</td>\n",
       "      <td>NaN</td>\n",
       "      <td>NaN</td>\n",
       "      <td>NaN</td>\n",
       "      <td>NaN</td>\n",
       "      <td>NaN</td>\n",
       "      <td>NaN</td>\n",
       "      <td>NaN</td>\n",
       "    </tr>\n",
       "    <tr>\n",
       "      <th>JobInvolvement</th>\n",
       "      <td>1470.0</td>\n",
       "      <td>2.729932e+00</td>\n",
       "      <td>0.711561</td>\n",
       "      <td>1.000000e+00</td>\n",
       "      <td>2.000000e+00</td>\n",
       "      <td>3.000000e+00</td>\n",
       "      <td>3.000000e+00</td>\n",
       "      <td>4.000000e+00</td>\n",
       "    </tr>\n",
       "    <tr>\n",
       "      <th>JobLevel</th>\n",
       "      <td>1470.0</td>\n",
       "      <td>2.063946e+00</td>\n",
       "      <td>1.106940</td>\n",
       "      <td>1.000000e+00</td>\n",
       "      <td>1.000000e+00</td>\n",
       "      <td>2.000000e+00</td>\n",
       "      <td>3.000000e+00</td>\n",
       "      <td>5.000000e+00</td>\n",
       "    </tr>\n",
       "    <tr>\n",
       "      <th>JobSatisfaction</th>\n",
       "      <td>1470.0</td>\n",
       "      <td>2.728571e+00</td>\n",
       "      <td>1.102846</td>\n",
       "      <td>1.000000e+00</td>\n",
       "      <td>2.000000e+00</td>\n",
       "      <td>3.000000e+00</td>\n",
       "      <td>4.000000e+00</td>\n",
       "      <td>4.000000e+00</td>\n",
       "    </tr>\n",
       "    <tr>\n",
       "      <th>BusinessTravel</th>\n",
       "      <td>1470.0</td>\n",
       "      <td>1.086395e+00</td>\n",
       "      <td>0.532170</td>\n",
       "      <td>0.000000e+00</td>\n",
       "      <td>1.000000e+00</td>\n",
       "      <td>1.000000e+00</td>\n",
       "      <td>1.000000e+00</td>\n",
       "      <td>2.000000e+00</td>\n",
       "    </tr>\n",
       "    <tr>\n",
       "      <th>Distance_Home</th>\n",
       "      <td>1470.0</td>\n",
       "      <td>1.827891e+00</td>\n",
       "      <td>1.039537</td>\n",
       "      <td>1.000000e+00</td>\n",
       "      <td>1.000000e+00</td>\n",
       "      <td>1.000000e+00</td>\n",
       "      <td>2.000000e+00</td>\n",
       "      <td>4.000000e+00</td>\n",
       "    </tr>\n",
       "    <tr>\n",
       "      <th>MonthlyIncome</th>\n",
       "      <td>1470.0</td>\n",
       "      <td>8.552515e+00</td>\n",
       "      <td>0.664450</td>\n",
       "      <td>6.916715e+00</td>\n",
       "      <td>7.976252e+00</td>\n",
       "      <td>8.500858e+00</td>\n",
       "      <td>9.033484e+00</td>\n",
       "      <td>9.903438e+00</td>\n",
       "    </tr>\n",
       "    <tr>\n",
       "      <th>PercentSalaryHike</th>\n",
       "      <td>1470.0</td>\n",
       "      <td>-9.223372e+18</td>\n",
       "      <td>0.000000</td>\n",
       "      <td>-9.223372e+18</td>\n",
       "      <td>-9.223372e+18</td>\n",
       "      <td>-9.223372e+18</td>\n",
       "      <td>-9.223372e+18</td>\n",
       "      <td>-9.223372e+18</td>\n",
       "    </tr>\n",
       "    <tr>\n",
       "      <th>PerformanceRating</th>\n",
       "      <td>1470.0</td>\n",
       "      <td>3.153741e+00</td>\n",
       "      <td>0.360824</td>\n",
       "      <td>3.000000e+00</td>\n",
       "      <td>3.000000e+00</td>\n",
       "      <td>3.000000e+00</td>\n",
       "      <td>3.000000e+00</td>\n",
       "      <td>4.000000e+00</td>\n",
       "    </tr>\n",
       "    <tr>\n",
       "      <th>OverTime</th>\n",
       "      <td>1470.0</td>\n",
       "      <td>2.829932e-01</td>\n",
       "      <td>0.450606</td>\n",
       "      <td>0.000000e+00</td>\n",
       "      <td>0.000000e+00</td>\n",
       "      <td>0.000000e+00</td>\n",
       "      <td>1.000000e+00</td>\n",
       "      <td>1.000000e+00</td>\n",
       "    </tr>\n",
       "    <tr>\n",
       "      <th>Education</th>\n",
       "      <td>1470.0</td>\n",
       "      <td>2.912925e+00</td>\n",
       "      <td>1.024165</td>\n",
       "      <td>1.000000e+00</td>\n",
       "      <td>2.000000e+00</td>\n",
       "      <td>3.000000e+00</td>\n",
       "      <td>4.000000e+00</td>\n",
       "      <td>5.000000e+00</td>\n",
       "    </tr>\n",
       "    <tr>\n",
       "      <th>EnvironmentSatisfaction</th>\n",
       "      <td>1470.0</td>\n",
       "      <td>2.721769e+00</td>\n",
       "      <td>1.093082</td>\n",
       "      <td>1.000000e+00</td>\n",
       "      <td>2.000000e+00</td>\n",
       "      <td>3.000000e+00</td>\n",
       "      <td>4.000000e+00</td>\n",
       "      <td>4.000000e+00</td>\n",
       "    </tr>\n",
       "    <tr>\n",
       "      <th>RelationshipSatisfaction</th>\n",
       "      <td>1470.0</td>\n",
       "      <td>2.712245e+00</td>\n",
       "      <td>1.081209</td>\n",
       "      <td>1.000000e+00</td>\n",
       "      <td>2.000000e+00</td>\n",
       "      <td>3.000000e+00</td>\n",
       "      <td>4.000000e+00</td>\n",
       "      <td>4.000000e+00</td>\n",
       "    </tr>\n",
       "    <tr>\n",
       "      <th>NumCompaniesWorked</th>\n",
       "      <td>1470.0</td>\n",
       "      <td>2.693197e+00</td>\n",
       "      <td>2.498009</td>\n",
       "      <td>0.000000e+00</td>\n",
       "      <td>1.000000e+00</td>\n",
       "      <td>2.000000e+00</td>\n",
       "      <td>4.000000e+00</td>\n",
       "      <td>9.000000e+00</td>\n",
       "    </tr>\n",
       "    <tr>\n",
       "      <th>StockOptionLevel</th>\n",
       "      <td>1470.0</td>\n",
       "      <td>7.938776e-01</td>\n",
       "      <td>0.852077</td>\n",
       "      <td>0.000000e+00</td>\n",
       "      <td>0.000000e+00</td>\n",
       "      <td>1.000000e+00</td>\n",
       "      <td>1.000000e+00</td>\n",
       "      <td>3.000000e+00</td>\n",
       "    </tr>\n",
       "    <tr>\n",
       "      <th>TotalWorkingYears</th>\n",
       "      <td>1470.0</td>\n",
       "      <td>1.127959e+01</td>\n",
       "      <td>7.780782</td>\n",
       "      <td>0.000000e+00</td>\n",
       "      <td>6.000000e+00</td>\n",
       "      <td>1.000000e+01</td>\n",
       "      <td>1.500000e+01</td>\n",
       "      <td>4.000000e+01</td>\n",
       "    </tr>\n",
       "    <tr>\n",
       "      <th>TrainingTimesLastYear</th>\n",
       "      <td>1470.0</td>\n",
       "      <td>2.799320e+00</td>\n",
       "      <td>1.289271</td>\n",
       "      <td>0.000000e+00</td>\n",
       "      <td>2.000000e+00</td>\n",
       "      <td>3.000000e+00</td>\n",
       "      <td>3.000000e+00</td>\n",
       "      <td>6.000000e+00</td>\n",
       "    </tr>\n",
       "    <tr>\n",
       "      <th>WorkLifeBalance</th>\n",
       "      <td>1470.0</td>\n",
       "      <td>2.761224e+00</td>\n",
       "      <td>0.706476</td>\n",
       "      <td>1.000000e+00</td>\n",
       "      <td>2.000000e+00</td>\n",
       "      <td>3.000000e+00</td>\n",
       "      <td>3.000000e+00</td>\n",
       "      <td>4.000000e+00</td>\n",
       "    </tr>\n",
       "    <tr>\n",
       "      <th>YearsAtCompany</th>\n",
       "      <td>1470.0</td>\n",
       "      <td>7.008163e+00</td>\n",
       "      <td>6.126525</td>\n",
       "      <td>0.000000e+00</td>\n",
       "      <td>3.000000e+00</td>\n",
       "      <td>5.000000e+00</td>\n",
       "      <td>9.000000e+00</td>\n",
       "      <td>4.000000e+01</td>\n",
       "    </tr>\n",
       "    <tr>\n",
       "      <th>YearsInCurrentRole</th>\n",
       "      <td>1470.0</td>\n",
       "      <td>4.229252e+00</td>\n",
       "      <td>3.623137</td>\n",
       "      <td>0.000000e+00</td>\n",
       "      <td>2.000000e+00</td>\n",
       "      <td>3.000000e+00</td>\n",
       "      <td>7.000000e+00</td>\n",
       "      <td>1.800000e+01</td>\n",
       "    </tr>\n",
       "    <tr>\n",
       "      <th>YearsSinceLastPromotion</th>\n",
       "      <td>1470.0</td>\n",
       "      <td>2.187755e+00</td>\n",
       "      <td>3.222430</td>\n",
       "      <td>0.000000e+00</td>\n",
       "      <td>0.000000e+00</td>\n",
       "      <td>1.000000e+00</td>\n",
       "      <td>3.000000e+00</td>\n",
       "      <td>1.500000e+01</td>\n",
       "    </tr>\n",
       "    <tr>\n",
       "      <th>YearsWithCurrManager</th>\n",
       "      <td>1470.0</td>\n",
       "      <td>4.123129e+00</td>\n",
       "      <td>3.568136</td>\n",
       "      <td>0.000000e+00</td>\n",
       "      <td>2.000000e+00</td>\n",
       "      <td>3.000000e+00</td>\n",
       "      <td>7.000000e+00</td>\n",
       "      <td>1.700000e+01</td>\n",
       "    </tr>\n",
       "    <tr>\n",
       "      <th>Gender_Male</th>\n",
       "      <td>1470.0</td>\n",
       "      <td>6.000000e-01</td>\n",
       "      <td>0.490065</td>\n",
       "      <td>0.000000e+00</td>\n",
       "      <td>0.000000e+00</td>\n",
       "      <td>1.000000e+00</td>\n",
       "      <td>1.000000e+00</td>\n",
       "      <td>1.000000e+00</td>\n",
       "    </tr>\n",
       "  </tbody>\n",
       "</table>\n",
       "</div>"
      ],
      "text/plain": [
       "                           count          mean       std           min  \\\n",
       "Cat_Age                      0.0           NaN       NaN           NaN   \n",
       "JobInvolvement            1470.0  2.729932e+00  0.711561  1.000000e+00   \n",
       "JobLevel                  1470.0  2.063946e+00  1.106940  1.000000e+00   \n",
       "JobSatisfaction           1470.0  2.728571e+00  1.102846  1.000000e+00   \n",
       "BusinessTravel            1470.0  1.086395e+00  0.532170  0.000000e+00   \n",
       "Distance_Home             1470.0  1.827891e+00  1.039537  1.000000e+00   \n",
       "MonthlyIncome             1470.0  8.552515e+00  0.664450  6.916715e+00   \n",
       "PercentSalaryHike         1470.0 -9.223372e+18  0.000000 -9.223372e+18   \n",
       "PerformanceRating         1470.0  3.153741e+00  0.360824  3.000000e+00   \n",
       "OverTime                  1470.0  2.829932e-01  0.450606  0.000000e+00   \n",
       "Education                 1470.0  2.912925e+00  1.024165  1.000000e+00   \n",
       "EnvironmentSatisfaction   1470.0  2.721769e+00  1.093082  1.000000e+00   \n",
       "RelationshipSatisfaction  1470.0  2.712245e+00  1.081209  1.000000e+00   \n",
       "NumCompaniesWorked        1470.0  2.693197e+00  2.498009  0.000000e+00   \n",
       "StockOptionLevel          1470.0  7.938776e-01  0.852077  0.000000e+00   \n",
       "TotalWorkingYears         1470.0  1.127959e+01  7.780782  0.000000e+00   \n",
       "TrainingTimesLastYear     1470.0  2.799320e+00  1.289271  0.000000e+00   \n",
       "WorkLifeBalance           1470.0  2.761224e+00  0.706476  1.000000e+00   \n",
       "YearsAtCompany            1470.0  7.008163e+00  6.126525  0.000000e+00   \n",
       "YearsInCurrentRole        1470.0  4.229252e+00  3.623137  0.000000e+00   \n",
       "YearsSinceLastPromotion   1470.0  2.187755e+00  3.222430  0.000000e+00   \n",
       "YearsWithCurrManager      1470.0  4.123129e+00  3.568136  0.000000e+00   \n",
       "Gender_Male               1470.0  6.000000e-01  0.490065  0.000000e+00   \n",
       "\n",
       "                                   25%           50%           75%  \\\n",
       "Cat_Age                            NaN           NaN           NaN   \n",
       "JobInvolvement            2.000000e+00  3.000000e+00  3.000000e+00   \n",
       "JobLevel                  1.000000e+00  2.000000e+00  3.000000e+00   \n",
       "JobSatisfaction           2.000000e+00  3.000000e+00  4.000000e+00   \n",
       "BusinessTravel            1.000000e+00  1.000000e+00  1.000000e+00   \n",
       "Distance_Home             1.000000e+00  1.000000e+00  2.000000e+00   \n",
       "MonthlyIncome             7.976252e+00  8.500858e+00  9.033484e+00   \n",
       "PercentSalaryHike        -9.223372e+18 -9.223372e+18 -9.223372e+18   \n",
       "PerformanceRating         3.000000e+00  3.000000e+00  3.000000e+00   \n",
       "OverTime                  0.000000e+00  0.000000e+00  1.000000e+00   \n",
       "Education                 2.000000e+00  3.000000e+00  4.000000e+00   \n",
       "EnvironmentSatisfaction   2.000000e+00  3.000000e+00  4.000000e+00   \n",
       "RelationshipSatisfaction  2.000000e+00  3.000000e+00  4.000000e+00   \n",
       "NumCompaniesWorked        1.000000e+00  2.000000e+00  4.000000e+00   \n",
       "StockOptionLevel          0.000000e+00  1.000000e+00  1.000000e+00   \n",
       "TotalWorkingYears         6.000000e+00  1.000000e+01  1.500000e+01   \n",
       "TrainingTimesLastYear     2.000000e+00  3.000000e+00  3.000000e+00   \n",
       "WorkLifeBalance           2.000000e+00  3.000000e+00  3.000000e+00   \n",
       "YearsAtCompany            3.000000e+00  5.000000e+00  9.000000e+00   \n",
       "YearsInCurrentRole        2.000000e+00  3.000000e+00  7.000000e+00   \n",
       "YearsSinceLastPromotion   0.000000e+00  1.000000e+00  3.000000e+00   \n",
       "YearsWithCurrManager      2.000000e+00  3.000000e+00  7.000000e+00   \n",
       "Gender_Male               0.000000e+00  1.000000e+00  1.000000e+00   \n",
       "\n",
       "                                   max  \n",
       "Cat_Age                            NaN  \n",
       "JobInvolvement            4.000000e+00  \n",
       "JobLevel                  5.000000e+00  \n",
       "JobSatisfaction           4.000000e+00  \n",
       "BusinessTravel            2.000000e+00  \n",
       "Distance_Home             4.000000e+00  \n",
       "MonthlyIncome             9.903438e+00  \n",
       "PercentSalaryHike        -9.223372e+18  \n",
       "PerformanceRating         4.000000e+00  \n",
       "OverTime                  1.000000e+00  \n",
       "Education                 5.000000e+00  \n",
       "EnvironmentSatisfaction   4.000000e+00  \n",
       "RelationshipSatisfaction  4.000000e+00  \n",
       "NumCompaniesWorked        9.000000e+00  \n",
       "StockOptionLevel          3.000000e+00  \n",
       "TotalWorkingYears         4.000000e+01  \n",
       "TrainingTimesLastYear     6.000000e+00  \n",
       "WorkLifeBalance           4.000000e+00  \n",
       "YearsAtCompany            4.000000e+01  \n",
       "YearsInCurrentRole        1.800000e+01  \n",
       "YearsSinceLastPromotion   1.500000e+01  \n",
       "YearsWithCurrManager      1.700000e+01  \n",
       "Gender_Male               1.000000e+00  "
      ]
     },
     "execution_count": 133,
     "metadata": {},
     "output_type": "execute_result"
    }
   ],
   "source": [
    "X_cat.describe().T"
   ]
  },
  {
   "cell_type": "code",
   "execution_count": 134,
   "metadata": {},
   "outputs": [],
   "source": [
    "import statsmodels.api as sm"
   ]
  },
  {
   "cell_type": "code",
   "execution_count": 135,
   "metadata": {},
   "outputs": [
    {
     "data": {
      "text/plain": [
       "(1470, 23)"
      ]
     },
     "execution_count": 135,
     "metadata": {},
     "output_type": "execute_result"
    }
   ],
   "source": [
    "X_cat.shape"
   ]
  },
  {
   "cell_type": "markdown",
   "metadata": {},
   "source": [
    "### Model 5 - Logfit\n",
    "With different datasets (categories)"
   ]
  },
  {
   "cell_type": "code",
   "execution_count": 98,
   "metadata": {},
   "outputs": [],
   "source": [
    "#X_cat.drop(['Education','PerformanceRating','PercentSalaryHike','Cat_Age','JobLevel'],axis=1,inplace=True)\n",
    "X_cat.drop(['Education','PerformanceRating','PercentSalaryHike','Cat_Age','JobLevel','Gender_Male'],axis=1,inplace=True)"
   ]
  },
  {
   "cell_type": "code",
   "execution_count": 143,
   "metadata": {},
   "outputs": [
    {
     "data": {
      "text/plain": [
       "Index(['Cat_Age', 'JobInvolvement', 'JobLevel', 'JobSatisfaction',\n",
       "       'BusinessTravel', 'Distance_Home', 'MonthlyIncome', 'PercentSalaryHike',\n",
       "       'PerformanceRating', 'OverTime', 'Education', 'EnvironmentSatisfaction',\n",
       "       'RelationshipSatisfaction', 'NumCompaniesWorked', 'StockOptionLevel',\n",
       "       'TotalWorkingYears', 'TrainingTimesLastYear', 'WorkLifeBalance',\n",
       "       'YearsAtCompany', 'YearsInCurrentRole', 'YearsSinceLastPromotion',\n",
       "       'YearsWithCurrManager', 'Gender_Male'],\n",
       "      dtype='object')"
      ]
     },
     "execution_count": 143,
     "metadata": {},
     "output_type": "execute_result"
    }
   ],
   "source": [
    "X_cat.columns"
   ]
  },
  {
   "cell_type": "code",
   "execution_count": 146,
   "metadata": {},
   "outputs": [],
   "source": [
    "from statsmodels.tools.tools import add_constant\n",
    "X_cat=add_constant(X_cat)"
   ]
  },
  {
   "cell_type": "code",
   "execution_count": 147,
   "metadata": {
    "collapsed": true
   },
   "outputs": [
    {
     "ename": "MissingDataError",
     "evalue": "exog contains inf or nans",
     "output_type": "error",
     "traceback": [
      "\u001b[1;31m---------------------------------------------------------------------------\u001b[0m",
      "\u001b[1;31mMissingDataError\u001b[0m                          Traceback (most recent call last)",
      "\u001b[1;32m<ipython-input-147-a2f6551f0ee2>\u001b[0m in \u001b[0;36m<module>\u001b[1;34m\u001b[0m\n\u001b[0;32m      1\u001b[0m \u001b[1;31m#X_cat.drop(['Education'],axis=1,inplace=True)\u001b[0m\u001b[1;33m\u001b[0m\u001b[1;33m\u001b[0m\u001b[1;33m\u001b[0m\u001b[0m\n\u001b[1;32m----> 2\u001b[1;33m \u001b[0mmodel_5\u001b[0m\u001b[1;33m=\u001b[0m\u001b[0msm\u001b[0m\u001b[1;33m.\u001b[0m\u001b[0mLogit\u001b[0m\u001b[1;33m(\u001b[0m\u001b[0my_cat\u001b[0m\u001b[1;33m,\u001b[0m\u001b[0mX_cat\u001b[0m\u001b[1;33m)\u001b[0m\u001b[1;33m\u001b[0m\u001b[1;33m\u001b[0m\u001b[0m\n\u001b[0m",
      "\u001b[1;32m~\\Anaconda3\\lib\\site-packages\\statsmodels\\discrete\\discrete_model.py\u001b[0m in \u001b[0;36m__init__\u001b[1;34m(self, endog, exog, **kwargs)\u001b[0m\n\u001b[0;32m    427\u001b[0m \u001b[1;33m\u001b[0m\u001b[0m\n\u001b[0;32m    428\u001b[0m     \u001b[1;32mdef\u001b[0m \u001b[0m__init__\u001b[0m\u001b[1;33m(\u001b[0m\u001b[0mself\u001b[0m\u001b[1;33m,\u001b[0m \u001b[0mendog\u001b[0m\u001b[1;33m,\u001b[0m \u001b[0mexog\u001b[0m\u001b[1;33m,\u001b[0m \u001b[1;33m**\u001b[0m\u001b[0mkwargs\u001b[0m\u001b[1;33m)\u001b[0m\u001b[1;33m:\u001b[0m\u001b[1;33m\u001b[0m\u001b[1;33m\u001b[0m\u001b[0m\n\u001b[1;32m--> 429\u001b[1;33m         \u001b[0msuper\u001b[0m\u001b[1;33m(\u001b[0m\u001b[0mBinaryModel\u001b[0m\u001b[1;33m,\u001b[0m \u001b[0mself\u001b[0m\u001b[1;33m)\u001b[0m\u001b[1;33m.\u001b[0m\u001b[0m__init__\u001b[0m\u001b[1;33m(\u001b[0m\u001b[0mendog\u001b[0m\u001b[1;33m,\u001b[0m \u001b[0mexog\u001b[0m\u001b[1;33m,\u001b[0m \u001b[1;33m**\u001b[0m\u001b[0mkwargs\u001b[0m\u001b[1;33m)\u001b[0m\u001b[1;33m\u001b[0m\u001b[1;33m\u001b[0m\u001b[0m\n\u001b[0m\u001b[0;32m    430\u001b[0m         if (not issubclass(self.__class__, MultinomialModel) and\n\u001b[0;32m    431\u001b[0m                 not np.all((self.endog >= 0) & (self.endog <= 1))):\n",
      "\u001b[1;32m~\\Anaconda3\\lib\\site-packages\\statsmodels\\discrete\\discrete_model.py\u001b[0m in \u001b[0;36m__init__\u001b[1;34m(self, endog, exog, **kwargs)\u001b[0m\n\u001b[0;32m    166\u001b[0m     \"\"\"\n\u001b[0;32m    167\u001b[0m     \u001b[1;32mdef\u001b[0m \u001b[0m__init__\u001b[0m\u001b[1;33m(\u001b[0m\u001b[0mself\u001b[0m\u001b[1;33m,\u001b[0m \u001b[0mendog\u001b[0m\u001b[1;33m,\u001b[0m \u001b[0mexog\u001b[0m\u001b[1;33m,\u001b[0m \u001b[1;33m**\u001b[0m\u001b[0mkwargs\u001b[0m\u001b[1;33m)\u001b[0m\u001b[1;33m:\u001b[0m\u001b[1;33m\u001b[0m\u001b[1;33m\u001b[0m\u001b[0m\n\u001b[1;32m--> 168\u001b[1;33m         \u001b[0msuper\u001b[0m\u001b[1;33m(\u001b[0m\u001b[0mDiscreteModel\u001b[0m\u001b[1;33m,\u001b[0m \u001b[0mself\u001b[0m\u001b[1;33m)\u001b[0m\u001b[1;33m.\u001b[0m\u001b[0m__init__\u001b[0m\u001b[1;33m(\u001b[0m\u001b[0mendog\u001b[0m\u001b[1;33m,\u001b[0m \u001b[0mexog\u001b[0m\u001b[1;33m,\u001b[0m \u001b[1;33m**\u001b[0m\u001b[0mkwargs\u001b[0m\u001b[1;33m)\u001b[0m\u001b[1;33m\u001b[0m\u001b[1;33m\u001b[0m\u001b[0m\n\u001b[0m\u001b[0;32m    169\u001b[0m         \u001b[0mself\u001b[0m\u001b[1;33m.\u001b[0m\u001b[0mraise_on_perfect_prediction\u001b[0m \u001b[1;33m=\u001b[0m \u001b[1;32mTrue\u001b[0m\u001b[1;33m\u001b[0m\u001b[1;33m\u001b[0m\u001b[0m\n\u001b[0;32m    170\u001b[0m \u001b[1;33m\u001b[0m\u001b[0m\n",
      "\u001b[1;32m~\\Anaconda3\\lib\\site-packages\\statsmodels\\base\\model.py\u001b[0m in \u001b[0;36m__init__\u001b[1;34m(self, endog, exog, **kwargs)\u001b[0m\n\u001b[0;32m    214\u001b[0m \u001b[1;33m\u001b[0m\u001b[0m\n\u001b[0;32m    215\u001b[0m     \u001b[1;32mdef\u001b[0m \u001b[0m__init__\u001b[0m\u001b[1;33m(\u001b[0m\u001b[0mself\u001b[0m\u001b[1;33m,\u001b[0m \u001b[0mendog\u001b[0m\u001b[1;33m,\u001b[0m \u001b[0mexog\u001b[0m\u001b[1;33m=\u001b[0m\u001b[1;32mNone\u001b[0m\u001b[1;33m,\u001b[0m \u001b[1;33m**\u001b[0m\u001b[0mkwargs\u001b[0m\u001b[1;33m)\u001b[0m\u001b[1;33m:\u001b[0m\u001b[1;33m\u001b[0m\u001b[1;33m\u001b[0m\u001b[0m\n\u001b[1;32m--> 216\u001b[1;33m         \u001b[0msuper\u001b[0m\u001b[1;33m(\u001b[0m\u001b[0mLikelihoodModel\u001b[0m\u001b[1;33m,\u001b[0m \u001b[0mself\u001b[0m\u001b[1;33m)\u001b[0m\u001b[1;33m.\u001b[0m\u001b[0m__init__\u001b[0m\u001b[1;33m(\u001b[0m\u001b[0mendog\u001b[0m\u001b[1;33m,\u001b[0m \u001b[0mexog\u001b[0m\u001b[1;33m,\u001b[0m \u001b[1;33m**\u001b[0m\u001b[0mkwargs\u001b[0m\u001b[1;33m)\u001b[0m\u001b[1;33m\u001b[0m\u001b[1;33m\u001b[0m\u001b[0m\n\u001b[0m\u001b[0;32m    217\u001b[0m         \u001b[0mself\u001b[0m\u001b[1;33m.\u001b[0m\u001b[0minitialize\u001b[0m\u001b[1;33m(\u001b[0m\u001b[1;33m)\u001b[0m\u001b[1;33m\u001b[0m\u001b[1;33m\u001b[0m\u001b[0m\n\u001b[0;32m    218\u001b[0m \u001b[1;33m\u001b[0m\u001b[0m\n",
      "\u001b[1;32m~\\Anaconda3\\lib\\site-packages\\statsmodels\\base\\model.py\u001b[0m in \u001b[0;36m__init__\u001b[1;34m(self, endog, exog, **kwargs)\u001b[0m\n\u001b[0;32m     66\u001b[0m         \u001b[0mhasconst\u001b[0m \u001b[1;33m=\u001b[0m \u001b[0mkwargs\u001b[0m\u001b[1;33m.\u001b[0m\u001b[0mpop\u001b[0m\u001b[1;33m(\u001b[0m\u001b[1;34m'hasconst'\u001b[0m\u001b[1;33m,\u001b[0m \u001b[1;32mNone\u001b[0m\u001b[1;33m)\u001b[0m\u001b[1;33m\u001b[0m\u001b[1;33m\u001b[0m\u001b[0m\n\u001b[0;32m     67\u001b[0m         self.data = self._handle_data(endog, exog, missing, hasconst,\n\u001b[1;32m---> 68\u001b[1;33m                                       **kwargs)\n\u001b[0m\u001b[0;32m     69\u001b[0m         \u001b[0mself\u001b[0m\u001b[1;33m.\u001b[0m\u001b[0mk_constant\u001b[0m \u001b[1;33m=\u001b[0m \u001b[0mself\u001b[0m\u001b[1;33m.\u001b[0m\u001b[0mdata\u001b[0m\u001b[1;33m.\u001b[0m\u001b[0mk_constant\u001b[0m\u001b[1;33m\u001b[0m\u001b[1;33m\u001b[0m\u001b[0m\n\u001b[0;32m     70\u001b[0m         \u001b[0mself\u001b[0m\u001b[1;33m.\u001b[0m\u001b[0mexog\u001b[0m \u001b[1;33m=\u001b[0m \u001b[0mself\u001b[0m\u001b[1;33m.\u001b[0m\u001b[0mdata\u001b[0m\u001b[1;33m.\u001b[0m\u001b[0mexog\u001b[0m\u001b[1;33m\u001b[0m\u001b[1;33m\u001b[0m\u001b[0m\n",
      "\u001b[1;32m~\\Anaconda3\\lib\\site-packages\\statsmodels\\base\\model.py\u001b[0m in \u001b[0;36m_handle_data\u001b[1;34m(self, endog, exog, missing, hasconst, **kwargs)\u001b[0m\n\u001b[0;32m     89\u001b[0m \u001b[1;33m\u001b[0m\u001b[0m\n\u001b[0;32m     90\u001b[0m     \u001b[1;32mdef\u001b[0m \u001b[0m_handle_data\u001b[0m\u001b[1;33m(\u001b[0m\u001b[0mself\u001b[0m\u001b[1;33m,\u001b[0m \u001b[0mendog\u001b[0m\u001b[1;33m,\u001b[0m \u001b[0mexog\u001b[0m\u001b[1;33m,\u001b[0m \u001b[0mmissing\u001b[0m\u001b[1;33m,\u001b[0m \u001b[0mhasconst\u001b[0m\u001b[1;33m,\u001b[0m \u001b[1;33m**\u001b[0m\u001b[0mkwargs\u001b[0m\u001b[1;33m)\u001b[0m\u001b[1;33m:\u001b[0m\u001b[1;33m\u001b[0m\u001b[1;33m\u001b[0m\u001b[0m\n\u001b[1;32m---> 91\u001b[1;33m         \u001b[0mdata\u001b[0m \u001b[1;33m=\u001b[0m \u001b[0mhandle_data\u001b[0m\u001b[1;33m(\u001b[0m\u001b[0mendog\u001b[0m\u001b[1;33m,\u001b[0m \u001b[0mexog\u001b[0m\u001b[1;33m,\u001b[0m \u001b[0mmissing\u001b[0m\u001b[1;33m,\u001b[0m \u001b[0mhasconst\u001b[0m\u001b[1;33m,\u001b[0m \u001b[1;33m**\u001b[0m\u001b[0mkwargs\u001b[0m\u001b[1;33m)\u001b[0m\u001b[1;33m\u001b[0m\u001b[1;33m\u001b[0m\u001b[0m\n\u001b[0m\u001b[0;32m     92\u001b[0m         \u001b[1;31m# kwargs arrays could have changed, easier to just attach here\u001b[0m\u001b[1;33m\u001b[0m\u001b[1;33m\u001b[0m\u001b[1;33m\u001b[0m\u001b[0m\n\u001b[0;32m     93\u001b[0m         \u001b[1;32mfor\u001b[0m \u001b[0mkey\u001b[0m \u001b[1;32min\u001b[0m \u001b[0mkwargs\u001b[0m\u001b[1;33m:\u001b[0m\u001b[1;33m\u001b[0m\u001b[1;33m\u001b[0m\u001b[0m\n",
      "\u001b[1;32m~\\Anaconda3\\lib\\site-packages\\statsmodels\\base\\data.py\u001b[0m in \u001b[0;36mhandle_data\u001b[1;34m(endog, exog, missing, hasconst, **kwargs)\u001b[0m\n\u001b[0;32m    633\u001b[0m     \u001b[0mklass\u001b[0m \u001b[1;33m=\u001b[0m \u001b[0mhandle_data_class_factory\u001b[0m\u001b[1;33m(\u001b[0m\u001b[0mendog\u001b[0m\u001b[1;33m,\u001b[0m \u001b[0mexog\u001b[0m\u001b[1;33m)\u001b[0m\u001b[1;33m\u001b[0m\u001b[1;33m\u001b[0m\u001b[0m\n\u001b[0;32m    634\u001b[0m     return klass(endog, exog=exog, missing=missing, hasconst=hasconst,\n\u001b[1;32m--> 635\u001b[1;33m                  **kwargs)\n\u001b[0m",
      "\u001b[1;32m~\\Anaconda3\\lib\\site-packages\\statsmodels\\base\\data.py\u001b[0m in \u001b[0;36m__init__\u001b[1;34m(self, endog, exog, missing, hasconst, **kwargs)\u001b[0m\n\u001b[0;32m     78\u001b[0m         \u001b[0mself\u001b[0m\u001b[1;33m.\u001b[0m\u001b[0mconst_idx\u001b[0m \u001b[1;33m=\u001b[0m \u001b[1;32mNone\u001b[0m\u001b[1;33m\u001b[0m\u001b[1;33m\u001b[0m\u001b[0m\n\u001b[0;32m     79\u001b[0m         \u001b[0mself\u001b[0m\u001b[1;33m.\u001b[0m\u001b[0mk_constant\u001b[0m \u001b[1;33m=\u001b[0m \u001b[1;36m0\u001b[0m\u001b[1;33m\u001b[0m\u001b[1;33m\u001b[0m\u001b[0m\n\u001b[1;32m---> 80\u001b[1;33m         \u001b[0mself\u001b[0m\u001b[1;33m.\u001b[0m\u001b[0m_handle_constant\u001b[0m\u001b[1;33m(\u001b[0m\u001b[0mhasconst\u001b[0m\u001b[1;33m)\u001b[0m\u001b[1;33m\u001b[0m\u001b[1;33m\u001b[0m\u001b[0m\n\u001b[0m\u001b[0;32m     81\u001b[0m         \u001b[0mself\u001b[0m\u001b[1;33m.\u001b[0m\u001b[0m_check_integrity\u001b[0m\u001b[1;33m(\u001b[0m\u001b[1;33m)\u001b[0m\u001b[1;33m\u001b[0m\u001b[1;33m\u001b[0m\u001b[0m\n\u001b[0;32m     82\u001b[0m         \u001b[0mself\u001b[0m\u001b[1;33m.\u001b[0m\u001b[0m_cache\u001b[0m \u001b[1;33m=\u001b[0m \u001b[1;33m{\u001b[0m\u001b[1;33m}\u001b[0m\u001b[1;33m\u001b[0m\u001b[1;33m\u001b[0m\u001b[0m\n",
      "\u001b[1;32m~\\Anaconda3\\lib\\site-packages\\statsmodels\\base\\data.py\u001b[0m in \u001b[0;36m_handle_constant\u001b[1;34m(self, hasconst)\u001b[0m\n\u001b[0;32m    124\u001b[0m             \u001b[0mptp_\u001b[0m \u001b[1;33m=\u001b[0m \u001b[0mnp\u001b[0m\u001b[1;33m.\u001b[0m\u001b[0mptp\u001b[0m\u001b[1;33m(\u001b[0m\u001b[0mself\u001b[0m\u001b[1;33m.\u001b[0m\u001b[0mexog\u001b[0m\u001b[1;33m,\u001b[0m \u001b[0maxis\u001b[0m\u001b[1;33m=\u001b[0m\u001b[1;36m0\u001b[0m\u001b[1;33m)\u001b[0m\u001b[1;33m\u001b[0m\u001b[1;33m\u001b[0m\u001b[0m\n\u001b[0;32m    125\u001b[0m             \u001b[1;32mif\u001b[0m \u001b[1;32mnot\u001b[0m \u001b[0mnp\u001b[0m\u001b[1;33m.\u001b[0m\u001b[0misfinite\u001b[0m\u001b[1;33m(\u001b[0m\u001b[0mptp_\u001b[0m\u001b[1;33m)\u001b[0m\u001b[1;33m.\u001b[0m\u001b[0mall\u001b[0m\u001b[1;33m(\u001b[0m\u001b[1;33m)\u001b[0m\u001b[1;33m:\u001b[0m\u001b[1;33m\u001b[0m\u001b[1;33m\u001b[0m\u001b[0m\n\u001b[1;32m--> 126\u001b[1;33m                 \u001b[1;32mraise\u001b[0m \u001b[0mMissingDataError\u001b[0m\u001b[1;33m(\u001b[0m\u001b[1;34m'exog contains inf or nans'\u001b[0m\u001b[1;33m)\u001b[0m\u001b[1;33m\u001b[0m\u001b[1;33m\u001b[0m\u001b[0m\n\u001b[0m\u001b[0;32m    127\u001b[0m             \u001b[0mconst_idx\u001b[0m \u001b[1;33m=\u001b[0m \u001b[0mnp\u001b[0m\u001b[1;33m.\u001b[0m\u001b[0mwhere\u001b[0m\u001b[1;33m(\u001b[0m\u001b[0mptp_\u001b[0m \u001b[1;33m==\u001b[0m \u001b[1;36m0\u001b[0m\u001b[1;33m)\u001b[0m\u001b[1;33m[\u001b[0m\u001b[1;36m0\u001b[0m\u001b[1;33m]\u001b[0m\u001b[1;33m.\u001b[0m\u001b[0msqueeze\u001b[0m\u001b[1;33m(\u001b[0m\u001b[1;33m)\u001b[0m\u001b[1;33m\u001b[0m\u001b[1;33m\u001b[0m\u001b[0m\n\u001b[0;32m    128\u001b[0m             \u001b[0mself\u001b[0m\u001b[1;33m.\u001b[0m\u001b[0mk_constant\u001b[0m \u001b[1;33m=\u001b[0m \u001b[0mconst_idx\u001b[0m\u001b[1;33m.\u001b[0m\u001b[0msize\u001b[0m\u001b[1;33m\u001b[0m\u001b[1;33m\u001b[0m\u001b[0m\n",
      "\u001b[1;31mMissingDataError\u001b[0m: exog contains inf or nans"
     ]
    }
   ],
   "source": [
    "#X_cat.drop(['Education'],axis=1,inplace=True)\n",
    "model_5=sm.Logit(y_cat,X_cat)"
   ]
  },
  {
   "cell_type": "code",
   "execution_count": 148,
   "metadata": {},
   "outputs": [
    {
     "data": {
      "text/plain": [
       "(1470, 23)"
      ]
     },
     "execution_count": 148,
     "metadata": {},
     "output_type": "execute_result"
    }
   ],
   "source": [
    "X_cat.shape"
   ]
  },
  {
   "cell_type": "code",
   "execution_count": 21,
   "metadata": {},
   "outputs": [
    {
     "name": "stdout",
     "output_type": "stream",
     "text": [
      "Optimization terminated successfully.\n",
      "         Current function value: 0.317788\n",
      "         Iterations 7\n"
     ]
    },
    {
     "data": {
      "text/html": [
       "<table class=\"simpletable\">\n",
       "<caption>Logit Regression Results</caption>\n",
       "<tr>\n",
       "  <th>Dep. Variable:</th>     <td>Attrition_bol</td>  <th>  No. Observations:  </th>  <td>  1470</td>  \n",
       "</tr>\n",
       "<tr>\n",
       "  <th>Model:</th>                 <td>Logit</td>      <th>  Df Residuals:      </th>  <td>  1452</td>  \n",
       "</tr>\n",
       "<tr>\n",
       "  <th>Method:</th>                 <td>MLE</td>       <th>  Df Model:          </th>  <td>    17</td>  \n",
       "</tr>\n",
       "<tr>\n",
       "  <th>Date:</th>            <td>Tue, 26 Nov 2019</td> <th>  Pseudo R-squ.:     </th>  <td>0.2805</td>  \n",
       "</tr>\n",
       "<tr>\n",
       "  <th>Time:</th>                <td>09:21:54</td>     <th>  Log-Likelihood:    </th> <td> -467.15</td> \n",
       "</tr>\n",
       "<tr>\n",
       "  <th>converged:</th>             <td>True</td>       <th>  LL-Null:           </th> <td> -649.29</td> \n",
       "</tr>\n",
       "<tr>\n",
       "  <th>Covariance Type:</th>     <td>nonrobust</td>    <th>  LLR p-value:       </th> <td>5.249e-67</td>\n",
       "</tr>\n",
       "</table>\n",
       "<table class=\"simpletable\">\n",
       "<tr>\n",
       "              <td></td>                <th>coef</th>     <th>std err</th>      <th>z</th>      <th>P>|z|</th>  <th>[0.025</th>    <th>0.975]</th>  \n",
       "</tr>\n",
       "<tr>\n",
       "  <th>const</th>                    <td>    8.7175</td> <td>    1.697</td> <td>    5.136</td> <td> 0.000</td> <td>    5.391</td> <td>   12.044</td>\n",
       "</tr>\n",
       "<tr>\n",
       "  <th>JobInvolvement</th>           <td>   -0.5852</td> <td>    0.117</td> <td>   -4.984</td> <td> 0.000</td> <td>   -0.815</td> <td>   -0.355</td>\n",
       "</tr>\n",
       "<tr>\n",
       "  <th>JobSatisfaction</th>          <td>   -0.3828</td> <td>    0.077</td> <td>   -4.976</td> <td> 0.000</td> <td>   -0.534</td> <td>   -0.232</td>\n",
       "</tr>\n",
       "<tr>\n",
       "  <th>BusinessTravel</th>           <td>    0.8781</td> <td>    0.162</td> <td>    5.407</td> <td> 0.000</td> <td>    0.560</td> <td>    1.196</td>\n",
       "</tr>\n",
       "<tr>\n",
       "  <th>Distance_Home</th>            <td>    0.3270</td> <td>    0.079</td> <td>    4.124</td> <td> 0.000</td> <td>    0.172</td> <td>    0.482</td>\n",
       "</tr>\n",
       "<tr>\n",
       "  <th>MonthlyIncome</th>            <td>   -0.7765</td> <td>    0.201</td> <td>   -3.865</td> <td> 0.000</td> <td>   -1.170</td> <td>   -0.383</td>\n",
       "</tr>\n",
       "<tr>\n",
       "  <th>OverTime</th>                 <td>    1.7505</td> <td>    0.178</td> <td>    9.816</td> <td> 0.000</td> <td>    1.401</td> <td>    2.100</td>\n",
       "</tr>\n",
       "<tr>\n",
       "  <th>EnvironmentSatisfaction</th>  <td>   -0.4083</td> <td>    0.078</td> <td>   -5.250</td> <td> 0.000</td> <td>   -0.561</td> <td>   -0.256</td>\n",
       "</tr>\n",
       "<tr>\n",
       "  <th>RelationshipSatisfaction</th> <td>   -0.2657</td> <td>    0.078</td> <td>   -3.401</td> <td> 0.001</td> <td>   -0.419</td> <td>   -0.113</td>\n",
       "</tr>\n",
       "<tr>\n",
       "  <th>NumCompaniesWorked</th>       <td>    0.1744</td> <td>    0.036</td> <td>    4.871</td> <td> 0.000</td> <td>    0.104</td> <td>    0.245</td>\n",
       "</tr>\n",
       "<tr>\n",
       "  <th>StockOptionLevel</th>         <td>   -0.5949</td> <td>    0.111</td> <td>   -5.344</td> <td> 0.000</td> <td>   -0.813</td> <td>   -0.377</td>\n",
       "</tr>\n",
       "<tr>\n",
       "  <th>TotalWorkingYears</th>        <td>   -0.0875</td> <td>    0.024</td> <td>   -3.718</td> <td> 0.000</td> <td>   -0.134</td> <td>   -0.041</td>\n",
       "</tr>\n",
       "<tr>\n",
       "  <th>TrainingTimesLastYear</th>    <td>   -0.1624</td> <td>    0.069</td> <td>   -2.361</td> <td> 0.018</td> <td>   -0.297</td> <td>   -0.028</td>\n",
       "</tr>\n",
       "<tr>\n",
       "  <th>WorkLifeBalance</th>          <td>   -0.2290</td> <td>    0.115</td> <td>   -1.995</td> <td> 0.046</td> <td>   -0.454</td> <td>   -0.004</td>\n",
       "</tr>\n",
       "<tr>\n",
       "  <th>YearsAtCompany</th>           <td>    0.0859</td> <td>    0.036</td> <td>    2.400</td> <td> 0.016</td> <td>    0.016</td> <td>    0.156</td>\n",
       "</tr>\n",
       "<tr>\n",
       "  <th>YearsInCurrentRole</th>       <td>   -0.1224</td> <td>    0.043</td> <td>   -2.849</td> <td> 0.004</td> <td>   -0.207</td> <td>   -0.038</td>\n",
       "</tr>\n",
       "<tr>\n",
       "  <th>YearsSinceLastPromotion</th>  <td>    0.1593</td> <td>    0.039</td> <td>    4.068</td> <td> 0.000</td> <td>    0.083</td> <td>    0.236</td>\n",
       "</tr>\n",
       "<tr>\n",
       "  <th>YearsWithCurrManager</th>     <td>   -0.1104</td> <td>    0.044</td> <td>   -2.508</td> <td> 0.012</td> <td>   -0.197</td> <td>   -0.024</td>\n",
       "</tr>\n",
       "</table>"
      ],
      "text/plain": [
       "<class 'statsmodels.iolib.summary.Summary'>\n",
       "\"\"\"\n",
       "                           Logit Regression Results                           \n",
       "==============================================================================\n",
       "Dep. Variable:          Attrition_bol   No. Observations:                 1470\n",
       "Model:                          Logit   Df Residuals:                     1452\n",
       "Method:                           MLE   Df Model:                           17\n",
       "Date:                Tue, 26 Nov 2019   Pseudo R-squ.:                  0.2805\n",
       "Time:                        09:21:54   Log-Likelihood:                -467.15\n",
       "converged:                       True   LL-Null:                       -649.29\n",
       "Covariance Type:            nonrobust   LLR p-value:                 5.249e-67\n",
       "============================================================================================\n",
       "                               coef    std err          z      P>|z|      [0.025      0.975]\n",
       "--------------------------------------------------------------------------------------------\n",
       "const                        8.7175      1.697      5.136      0.000       5.391      12.044\n",
       "JobInvolvement              -0.5852      0.117     -4.984      0.000      -0.815      -0.355\n",
       "JobSatisfaction             -0.3828      0.077     -4.976      0.000      -0.534      -0.232\n",
       "BusinessTravel               0.8781      0.162      5.407      0.000       0.560       1.196\n",
       "Distance_Home                0.3270      0.079      4.124      0.000       0.172       0.482\n",
       "MonthlyIncome               -0.7765      0.201     -3.865      0.000      -1.170      -0.383\n",
       "OverTime                     1.7505      0.178      9.816      0.000       1.401       2.100\n",
       "EnvironmentSatisfaction     -0.4083      0.078     -5.250      0.000      -0.561      -0.256\n",
       "RelationshipSatisfaction    -0.2657      0.078     -3.401      0.001      -0.419      -0.113\n",
       "NumCompaniesWorked           0.1744      0.036      4.871      0.000       0.104       0.245\n",
       "StockOptionLevel            -0.5949      0.111     -5.344      0.000      -0.813      -0.377\n",
       "TotalWorkingYears           -0.0875      0.024     -3.718      0.000      -0.134      -0.041\n",
       "TrainingTimesLastYear       -0.1624      0.069     -2.361      0.018      -0.297      -0.028\n",
       "WorkLifeBalance             -0.2290      0.115     -1.995      0.046      -0.454      -0.004\n",
       "YearsAtCompany               0.0859      0.036      2.400      0.016       0.016       0.156\n",
       "YearsInCurrentRole          -0.1224      0.043     -2.849      0.004      -0.207      -0.038\n",
       "YearsSinceLastPromotion      0.1593      0.039      4.068      0.000       0.083       0.236\n",
       "YearsWithCurrManager        -0.1104      0.044     -2.508      0.012      -0.197      -0.024\n",
       "============================================================================================\n",
       "\"\"\""
      ]
     },
     "execution_count": 21,
     "metadata": {},
     "output_type": "execute_result"
    }
   ],
   "source": [
    "res_5=model_5.fit()\n",
    "res_5.summary()"
   ]
  },
  {
   "cell_type": "code",
   "execution_count": 22,
   "metadata": {},
   "outputs": [],
   "source": [
    "from sklearn.metrics import confusion_matrix"
   ]
  },
  {
   "cell_type": "code",
   "execution_count": 23,
   "metadata": {},
   "outputs": [
    {
     "data": {
      "text/plain": [
       "(1470, 18)"
      ]
     },
     "execution_count": 23,
     "metadata": {},
     "output_type": "execute_result"
    }
   ],
   "source": [
    "X_cat.shape"
   ]
  },
  {
   "cell_type": "code",
   "execution_count": 25,
   "metadata": {
    "scrolled": true
   },
   "outputs": [
    {
     "data": {
      "text/plain": [
       "array([[1207,   26],\n",
       "       [ 145,   92]], dtype=int64)"
      ]
     },
     "execution_count": 25,
     "metadata": {},
     "output_type": "execute_result"
    }
   ],
   "source": [
    "pred_5=round(res_5.predict(X_cat))\n",
    "confusion_matrix(y_cat,pred_5)"
   ]
  },
  {
   "cell_type": "markdown",
   "metadata": {},
   "source": [
    "#### Score_model Logfit"
   ]
  },
  {
   "cell_type": "code",
   "execution_count": 28,
   "metadata": {},
   "outputs": [
    {
     "data": {
      "text/plain": [
       "0.3881856540084388"
      ]
     },
     "execution_count": 28,
     "metadata": {},
     "output_type": "execute_result"
    }
   ],
   "source": [
    "import sklearn.metrics as m\n",
    "m.recall_score(y_cat,pred_5)"
   ]
  },
  {
   "cell_type": "code",
   "execution_count": 29,
   "metadata": {
    "scrolled": true
   },
   "outputs": [
    {
     "data": {
      "text/plain": [
       "0    1233\n",
       "1     237\n",
       "Name: Attrition_bol, dtype: int64"
      ]
     },
     "execution_count": 29,
     "metadata": {},
     "output_type": "execute_result"
    }
   ],
   "source": [
    "y_cat.value_counts()"
   ]
  },
  {
   "cell_type": "markdown",
   "metadata": {},
   "source": [
    "### Model 6 - Logistic Regression "
   ]
  },
  {
   "cell_type": "code",
   "execution_count": 30,
   "metadata": {},
   "outputs": [],
   "source": [
    "from sklearn.linear_model import LogisticRegression"
   ]
  },
  {
   "cell_type": "code",
   "execution_count": 31,
   "metadata": {},
   "outputs": [],
   "source": [
    "? LogisticRegression"
   ]
  },
  {
   "cell_type": "code",
   "execution_count": 32,
   "metadata": {},
   "outputs": [
    {
     "name": "stderr",
     "output_type": "stream",
     "text": [
      "C:\\Users\\Lenovo\\Anaconda3\\lib\\site-packages\\sklearn\\linear_model\\logistic.py:432: FutureWarning: Default solver will be changed to 'lbfgs' in 0.22. Specify a solver to silence this warning.\n",
      "  FutureWarning)\n"
     ]
    }
   ],
   "source": [
    "model_6=LogisticRegression(class_weight='balanced').fit(X_cat,y_cat)"
   ]
  },
  {
   "cell_type": "code",
   "execution_count": 33,
   "metadata": {},
   "outputs": [],
   "source": [
    "pred_6=model_6.predict(X_cat)"
   ]
  },
  {
   "cell_type": "code",
   "execution_count": 35,
   "metadata": {
    "scrolled": true
   },
   "outputs": [
    {
     "data": {
      "text/plain": [
       "array([[937, 296],\n",
       "       [ 54, 183]], dtype=int64)"
      ]
     },
     "execution_count": 35,
     "metadata": {},
     "output_type": "execute_result"
    }
   ],
   "source": [
    "confusion_matrix(y_cat,pred_6)"
   ]
  },
  {
   "cell_type": "markdown",
   "metadata": {},
   "source": [
    "#### Score Modele LogisticRegression"
   ]
  },
  {
   "cell_type": "code",
   "execution_count": 38,
   "metadata": {},
   "outputs": [
    {
     "data": {
      "text/plain": [
       "0.7721518987341772"
      ]
     },
     "execution_count": 38,
     "metadata": {},
     "output_type": "execute_result"
    }
   ],
   "source": [
    "m.recall_score(y_cat,pred_6)"
   ]
  },
  {
   "cell_type": "code",
   "execution_count": 39,
   "metadata": {
    "scrolled": true
   },
   "outputs": [
    {
     "data": {
      "text/plain": [
       "array([[ 2.59597641, -0.44580097, -0.3196188 ,  0.84155988,  0.28132972,\n",
       "        -0.29118607,  1.56205407, -0.32776728, -0.17219393,  0.15553555,\n",
       "        -0.47902223, -0.09390153, -0.13415351, -0.14823178,  0.108073  ,\n",
       "        -0.12409462,  0.14298147, -0.12864372]])"
      ]
     },
     "execution_count": 39,
     "metadata": {},
     "output_type": "execute_result"
    }
   ],
   "source": [
    "model_6.coef_ "
   ]
  },
  {
   "cell_type": "code",
   "execution_count": null,
   "metadata": {},
   "outputs": [],
   "source": [
    "import sklearn.metrics as metrics\n",
    "# calculate the fpr and tpr for all thresholds of the classification\n",
    "probs = model_6.predict(X_cat)\n",
    "preds = probs\n",
    "fpr, tpr, threshold = metrics.roc_curve(y_cat, preds)\n",
    "roc_auc = metrics.auc(fpr, tpr)\n",
    "# method I: plt\n",
    "import matplotlib.pyplot as plt\n",
    "plt.title('Receiver Operating Characteristic')\n",
    "plt.plot(fpr, tpr, 'b', label = 'AUC = %0.2f' % roc_auc)\n",
    "plt.legend(loc = 'lower right')\n",
    "plt.plot([0, 1], [0, 1],'r--')\n",
    "plt.xlim([0, 1])\n",
    "plt.ylim([0, 1])\n",
    "plt.ylabel('True Positive Rate')\n",
    "plt.xlabel('False Positive Rate')\n",
    "plt.show()"
   ]
  },
  {
   "cell_type": "markdown",
   "metadata": {},
   "source": [
    "### Multicollinearity (Model 5 & 6)"
   ]
  },
  {
   "cell_type": "code",
   "execution_count": 40,
   "metadata": {},
   "outputs": [],
   "source": [
    "from statsmodels.stats.outliers_influence import variance_inflation_factor as VIF"
   ]
  },
  {
   "cell_type": "code",
   "execution_count": 41,
   "metadata": {
    "scrolled": true
   },
   "outputs": [],
   "source": [
    "X_cat.drop(['YearsWithCurrManager'],axis=1,inplace=True)"
   ]
  },
  {
   "cell_type": "code",
   "execution_count": 42,
   "metadata": {},
   "outputs": [
    {
     "data": {
      "text/plain": [
       "const                       377.531712\n",
       "JobInvolvement                1.006822\n",
       "JobSatisfaction               1.005632\n",
       "BusinessTravel                1.006350\n",
       "Distance_Home                 1.006918\n",
       "MonthlyIncome                 2.253246\n",
       "OverTime                      1.020607\n",
       "EnvironmentSatisfaction       1.008672\n",
       "RelationshipSatisfaction      1.013940\n",
       "NumCompaniesWorked            1.230949\n",
       "StockOptionLevel              1.010663\n",
       "TotalWorkingYears             3.059702\n",
       "TrainingTimesLastYear         1.015503\n",
       "WorkLifeBalance               1.010384\n",
       "YearsAtCompany                3.707354\n",
       "YearsInCurrentRole            2.463300\n",
       "YearsSinceLastPromotion       1.666613\n",
       "dtype: float64"
      ]
     },
     "execution_count": 42,
     "metadata": {},
     "output_type": "execute_result"
    }
   ],
   "source": [
    "#X_cat.drop(['const','MonthlyIncome','JobInvolvement','WorkLifeBalance','YearsAtCompany'],axis=1,inplace=True)\n",
    "pd.Series([VIF(X_cat.values,i) for i in range(X_cat.shape[1])],index=X_cat.columns)"
   ]
  },
  {
   "cell_type": "code",
   "execution_count": 43,
   "metadata": {},
   "outputs": [
    {
     "data": {
      "text/plain": [
       "(1470, 17)"
      ]
     },
     "execution_count": 43,
     "metadata": {},
     "output_type": "execute_result"
    }
   ],
   "source": [
    "X_cat.shape\n",
    "## 2 columns more : Business travel and Overtime"
   ]
  },
  {
   "cell_type": "markdown",
   "metadata": {},
   "source": [
    "### Model 5 - Multicollinearity"
   ]
  },
  {
   "cell_type": "code",
   "execution_count": 44,
   "metadata": {
    "scrolled": false
   },
   "outputs": [
    {
     "name": "stdout",
     "output_type": "stream",
     "text": [
      "Optimization terminated successfully.\n",
      "         Current function value: 0.319883\n",
      "         Iterations 7\n"
     ]
    },
    {
     "name": "stderr",
     "output_type": "stream",
     "text": [
      "C:\\Users\\Lenovo\\Anaconda3\\lib\\site-packages\\numpy\\core\\fromnumeric.py:2389: FutureWarning: Method .ptp is deprecated and will be removed in a future version. Use numpy.ptp instead.\n",
      "  return ptp(axis=axis, out=out, **kwargs)\n"
     ]
    },
    {
     "data": {
      "text/html": [
       "<table class=\"simpletable\">\n",
       "<caption>Logit Regression Results</caption>\n",
       "<tr>\n",
       "  <th>Dep. Variable:</th>     <td>Attrition_bol</td>  <th>  No. Observations:  </th>  <td>  1470</td>  \n",
       "</tr>\n",
       "<tr>\n",
       "  <th>Model:</th>                 <td>Logit</td>      <th>  Df Residuals:      </th>  <td>  1453</td>  \n",
       "</tr>\n",
       "<tr>\n",
       "  <th>Method:</th>                 <td>MLE</td>       <th>  Df Model:          </th>  <td>    16</td>  \n",
       "</tr>\n",
       "<tr>\n",
       "  <th>Date:</th>            <td>Tue, 26 Nov 2019</td> <th>  Pseudo R-squ.:     </th>  <td>0.2758</td>  \n",
       "</tr>\n",
       "<tr>\n",
       "  <th>Time:</th>                <td>09:25:44</td>     <th>  Log-Likelihood:    </th> <td> -470.23</td> \n",
       "</tr>\n",
       "<tr>\n",
       "  <th>converged:</th>             <td>True</td>       <th>  LL-Null:           </th> <td> -649.29</td> \n",
       "</tr>\n",
       "<tr>\n",
       "  <th>Covariance Type:</th>     <td>nonrobust</td>    <th>  LLR p-value:       </th> <td>2.088e-66</td>\n",
       "</tr>\n",
       "</table>\n",
       "<table class=\"simpletable\">\n",
       "<tr>\n",
       "              <td></td>                <th>coef</th>     <th>std err</th>      <th>z</th>      <th>P>|z|</th>  <th>[0.025</th>    <th>0.975]</th>  \n",
       "</tr>\n",
       "<tr>\n",
       "  <th>const</th>                    <td>    8.5502</td> <td>    1.687</td> <td>    5.069</td> <td> 0.000</td> <td>    5.244</td> <td>   11.856</td>\n",
       "</tr>\n",
       "<tr>\n",
       "  <th>JobInvolvement</th>           <td>   -0.6058</td> <td>    0.117</td> <td>   -5.193</td> <td> 0.000</td> <td>   -0.834</td> <td>   -0.377</td>\n",
       "</tr>\n",
       "<tr>\n",
       "  <th>JobSatisfaction</th>          <td>   -0.3753</td> <td>    0.076</td> <td>   -4.920</td> <td> 0.000</td> <td>   -0.525</td> <td>   -0.226</td>\n",
       "</tr>\n",
       "<tr>\n",
       "  <th>BusinessTravel</th>           <td>    0.8775</td> <td>    0.162</td> <td>    5.431</td> <td> 0.000</td> <td>    0.561</td> <td>    1.194</td>\n",
       "</tr>\n",
       "<tr>\n",
       "  <th>Distance_Home</th>            <td>    0.3279</td> <td>    0.079</td> <td>    4.150</td> <td> 0.000</td> <td>    0.173</td> <td>    0.483</td>\n",
       "</tr>\n",
       "<tr>\n",
       "  <th>MonthlyIncome</th>            <td>   -0.7679</td> <td>    0.199</td> <td>   -3.850</td> <td> 0.000</td> <td>   -1.159</td> <td>   -0.377</td>\n",
       "</tr>\n",
       "<tr>\n",
       "  <th>OverTime</th>                 <td>    1.7576</td> <td>    0.178</td> <td>    9.882</td> <td> 0.000</td> <td>    1.409</td> <td>    2.106</td>\n",
       "</tr>\n",
       "<tr>\n",
       "  <th>EnvironmentSatisfaction</th>  <td>   -0.3991</td> <td>    0.077</td> <td>   -5.167</td> <td> 0.000</td> <td>   -0.551</td> <td>   -0.248</td>\n",
       "</tr>\n",
       "<tr>\n",
       "  <th>RelationshipSatisfaction</th> <td>   -0.2608</td> <td>    0.078</td> <td>   -3.355</td> <td> 0.001</td> <td>   -0.413</td> <td>   -0.108</td>\n",
       "</tr>\n",
       "<tr>\n",
       "  <th>NumCompaniesWorked</th>       <td>    0.1746</td> <td>    0.036</td> <td>    4.895</td> <td> 0.000</td> <td>    0.105</td> <td>    0.245</td>\n",
       "</tr>\n",
       "<tr>\n",
       "  <th>StockOptionLevel</th>         <td>   -0.5887</td> <td>    0.111</td> <td>   -5.321</td> <td> 0.000</td> <td>   -0.806</td> <td>   -0.372</td>\n",
       "</tr>\n",
       "<tr>\n",
       "  <th>TotalWorkingYears</th>        <td>   -0.0870</td> <td>    0.023</td> <td>   -3.716</td> <td> 0.000</td> <td>   -0.133</td> <td>   -0.041</td>\n",
       "</tr>\n",
       "<tr>\n",
       "  <th>TrainingTimesLastYear</th>    <td>   -0.1534</td> <td>    0.069</td> <td>   -2.238</td> <td> 0.025</td> <td>   -0.288</td> <td>   -0.019</td>\n",
       "</tr>\n",
       "<tr>\n",
       "  <th>WorkLifeBalance</th>          <td>   -0.2241</td> <td>    0.114</td> <td>   -1.961</td> <td> 0.050</td> <td>   -0.448</td> <td>   -0.000</td>\n",
       "</tr>\n",
       "<tr>\n",
       "  <th>YearsAtCompany</th>           <td>    0.0454</td> <td>    0.033</td> <td>    1.389</td> <td> 0.165</td> <td>   -0.019</td> <td>    0.109</td>\n",
       "</tr>\n",
       "<tr>\n",
       "  <th>YearsInCurrentRole</th>       <td>   -0.1455</td> <td>    0.042</td> <td>   -3.500</td> <td> 0.000</td> <td>   -0.227</td> <td>   -0.064</td>\n",
       "</tr>\n",
       "<tr>\n",
       "  <th>YearsSinceLastPromotion</th>  <td>    0.1524</td> <td>    0.039</td> <td>    3.931</td> <td> 0.000</td> <td>    0.076</td> <td>    0.228</td>\n",
       "</tr>\n",
       "</table>"
      ],
      "text/plain": [
       "<class 'statsmodels.iolib.summary.Summary'>\n",
       "\"\"\"\n",
       "                           Logit Regression Results                           \n",
       "==============================================================================\n",
       "Dep. Variable:          Attrition_bol   No. Observations:                 1470\n",
       "Model:                          Logit   Df Residuals:                     1453\n",
       "Method:                           MLE   Df Model:                           16\n",
       "Date:                Tue, 26 Nov 2019   Pseudo R-squ.:                  0.2758\n",
       "Time:                        09:25:44   Log-Likelihood:                -470.23\n",
       "converged:                       True   LL-Null:                       -649.29\n",
       "Covariance Type:            nonrobust   LLR p-value:                 2.088e-66\n",
       "============================================================================================\n",
       "                               coef    std err          z      P>|z|      [0.025      0.975]\n",
       "--------------------------------------------------------------------------------------------\n",
       "const                        8.5502      1.687      5.069      0.000       5.244      11.856\n",
       "JobInvolvement              -0.6058      0.117     -5.193      0.000      -0.834      -0.377\n",
       "JobSatisfaction             -0.3753      0.076     -4.920      0.000      -0.525      -0.226\n",
       "BusinessTravel               0.8775      0.162      5.431      0.000       0.561       1.194\n",
       "Distance_Home                0.3279      0.079      4.150      0.000       0.173       0.483\n",
       "MonthlyIncome               -0.7679      0.199     -3.850      0.000      -1.159      -0.377\n",
       "OverTime                     1.7576      0.178      9.882      0.000       1.409       2.106\n",
       "EnvironmentSatisfaction     -0.3991      0.077     -5.167      0.000      -0.551      -0.248\n",
       "RelationshipSatisfaction    -0.2608      0.078     -3.355      0.001      -0.413      -0.108\n",
       "NumCompaniesWorked           0.1746      0.036      4.895      0.000       0.105       0.245\n",
       "StockOptionLevel            -0.5887      0.111     -5.321      0.000      -0.806      -0.372\n",
       "TotalWorkingYears           -0.0870      0.023     -3.716      0.000      -0.133      -0.041\n",
       "TrainingTimesLastYear       -0.1534      0.069     -2.238      0.025      -0.288      -0.019\n",
       "WorkLifeBalance             -0.2241      0.114     -1.961      0.050      -0.448      -0.000\n",
       "YearsAtCompany               0.0454      0.033      1.389      0.165      -0.019       0.109\n",
       "YearsInCurrentRole          -0.1455      0.042     -3.500      0.000      -0.227      -0.064\n",
       "YearsSinceLastPromotion      0.1524      0.039      3.931      0.000       0.076       0.228\n",
       "============================================================================================\n",
       "\"\"\""
      ]
     },
     "execution_count": 44,
     "metadata": {},
     "output_type": "execute_result"
    }
   ],
   "source": [
    "X_cat=add_constant(X_cat)\n",
    "model_5m=sm.Logit(y_cat,X_cat)\n",
    "\n",
    "res_5m=model_5m.fit()\n",
    "res_5m.summary()"
   ]
  },
  {
   "cell_type": "code",
   "execution_count": 46,
   "metadata": {},
   "outputs": [
    {
     "data": {
      "text/plain": [
       "array([[1204,   29],\n",
       "       [ 147,   90]], dtype=int64)"
      ]
     },
     "execution_count": 46,
     "metadata": {},
     "output_type": "execute_result"
    }
   ],
   "source": [
    "pred_5m=round(res_5m.predict(X_cat))\n",
    "confusion_matrix(y_cat,pred_5m)"
   ]
  },
  {
   "cell_type": "markdown",
   "metadata": {},
   "source": [
    "#### Score Model Logit & Multicollinearity"
   ]
  },
  {
   "cell_type": "code",
   "execution_count": 48,
   "metadata": {},
   "outputs": [
    {
     "data": {
      "text/plain": [
       "0.379746835443038"
      ]
     },
     "execution_count": 48,
     "metadata": {},
     "output_type": "execute_result"
    }
   ],
   "source": [
    "m.recall_score(y_cat,pred_5m)"
   ]
  },
  {
   "cell_type": "code",
   "execution_count": 50,
   "metadata": {},
   "outputs": [
    {
     "data": {
      "text/plain": [
       "0.7563025210084033"
      ]
     },
     "execution_count": 50,
     "metadata": {},
     "output_type": "execute_result"
    }
   ],
   "source": [
    "m.precision_score(y_cat,pred_5m)"
   ]
  },
  {
   "cell_type": "code",
   "execution_count": 51,
   "metadata": {},
   "outputs": [
    {
     "data": {
      "text/plain": [
       "0.5056179775280899"
      ]
     },
     "execution_count": 51,
     "metadata": {},
     "output_type": "execute_result"
    }
   ],
   "source": [
    "m.f1_score(y_cat,pred_5m)"
   ]
  },
  {
   "cell_type": "code",
   "execution_count": null,
   "metadata": {},
   "outputs": [],
   "source": [
    "import sklearn.metrics as metrics\n",
    "# calculate the fpr and tpr for all thresholds of the classification\n",
    "probs = res_5m.predict(X_cat)\n",
    "preds = probs\n",
    "fpr, tpr, threshold = metrics.roc_curve(y_cat, preds)\n",
    "roc_auc = metrics.auc(fpr, tpr)\n",
    "# method I: plt\n",
    "import matplotlib.pyplot as plt\n",
    "plt.title('Receiver Operating Characteristic')\n",
    "plt.plot(fpr, tpr, 'b', label = 'AUC = %0.2f' % roc_auc)\n",
    "plt.legend(loc = 'lower right')\n",
    "plt.plot([0, 1], [0, 1],'r--')\n",
    "plt.xlim([0, 1])\n",
    "plt.ylim([0, 1])\n",
    "plt.ylabel('True Positive Rate')\n",
    "plt.xlabel('False Positive Rate')\n",
    "plt.show()"
   ]
  },
  {
   "cell_type": "markdown",
   "metadata": {},
   "source": [
    "### Modele 6 - LogisticRegression & Multicollinearity"
   ]
  },
  {
   "cell_type": "code",
   "execution_count": 52,
   "metadata": {},
   "outputs": [
    {
     "name": "stderr",
     "output_type": "stream",
     "text": [
      "C:\\Users\\Lenovo\\Anaconda3\\lib\\site-packages\\sklearn\\linear_model\\logistic.py:432: FutureWarning: Default solver will be changed to 'lbfgs' in 0.22. Specify a solver to silence this warning.\n",
      "  FutureWarning)\n"
     ]
    }
   ],
   "source": [
    "model_6m=LogisticRegression(class_weight='balanced').fit(X_cat,y_cat)"
   ]
  },
  {
   "cell_type": "code",
   "execution_count": 53,
   "metadata": {},
   "outputs": [],
   "source": [
    "pred_6m=model_6m.predict(X_cat)"
   ]
  },
  {
   "cell_type": "markdown",
   "metadata": {},
   "source": [
    "#### Score Modele "
   ]
  },
  {
   "cell_type": "code",
   "execution_count": 55,
   "metadata": {},
   "outputs": [
    {
     "data": {
      "text/plain": [
       "array([[955, 278],\n",
       "       [ 54, 183]], dtype=int64)"
      ]
     },
     "execution_count": 55,
     "metadata": {},
     "output_type": "execute_result"
    }
   ],
   "source": [
    "confusion_matrix(y_cat,pred_6m)"
   ]
  },
  {
   "cell_type": "code",
   "execution_count": 56,
   "metadata": {},
   "outputs": [
    {
     "data": {
      "text/plain": [
       "0.7721518987341772"
      ]
     },
     "execution_count": 56,
     "metadata": {},
     "output_type": "execute_result"
    }
   ],
   "source": [
    "m.recall_score(y_cat,pred_6m)"
   ]
  },
  {
   "cell_type": "code",
   "execution_count": null,
   "metadata": {},
   "outputs": [],
   "source": [
    "import sklearn.metrics as metrics\n",
    "# calculate the fpr and tpr for all thresholds of the classification\n",
    "probs = model_6m.predict(X_cat)\n",
    "preds = probs\n",
    "fpr, tpr, threshold = metrics.roc_curve(y_cat, preds)\n",
    "roc_auc = metrics.auc(fpr, tpr)\n",
    "# method I: plt\n",
    "import matplotlib.pyplot as plt\n",
    "plt.title('Receiver Operating Characteristic')\n",
    "plt.plot(fpr, tpr, 'b', label = 'AUC = %0.2f' % roc_auc)\n",
    "plt.legend(loc = 'lower right')\n",
    "plt.plot([0, 1], [0, 1],'r--')\n",
    "plt.xlim([0, 1])\n",
    "plt.ylim([0, 1])\n",
    "plt.ylabel('True Positive Rate')\n",
    "plt.xlabel('False Positive Rate')\n",
    "plt.show()"
   ]
  },
  {
   "cell_type": "markdown",
   "metadata": {},
   "source": [
    "#### Modele Logistic Regression - with different parameters"
   ]
  },
  {
   "cell_type": "code",
   "execution_count": 57,
   "metadata": {},
   "outputs": [
    {
     "name": "stdout",
     "output_type": "stream",
     "text": [
      "[LibLinear]"
     ]
    }
   ],
   "source": [
    "model=LogisticRegression(class_weight='balanced',verbose=50,solver='liblinear').fit(X_cat,y_cat)"
   ]
  },
  {
   "cell_type": "code",
   "execution_count": 58,
   "metadata": {},
   "outputs": [],
   "source": [
    "pred=model.predict(X_cat)"
   ]
  },
  {
   "cell_type": "code",
   "execution_count": 60,
   "metadata": {},
   "outputs": [
    {
     "data": {
      "text/plain": [
       "array([[955, 278],\n",
       "       [ 54, 183]], dtype=int64)"
      ]
     },
     "execution_count": 60,
     "metadata": {},
     "output_type": "execute_result"
    }
   ],
   "source": [
    "confusion_matrix(y_cat,pred)"
   ]
  },
  {
   "cell_type": "code",
   "execution_count": 62,
   "metadata": {},
   "outputs": [
    {
     "data": {
      "text/plain": [
       "0.7721518987341772"
      ]
     },
     "execution_count": 62,
     "metadata": {},
     "output_type": "execute_result"
    }
   ],
   "source": [
    "m.recall_score(y_cat,pred)"
   ]
  },
  {
   "cell_type": "markdown",
   "metadata": {},
   "source": [
    "# Resampling\n",
    "Modele 7 & 8 with oversampling "
   ]
  },
  {
   "cell_type": "code",
   "execution_count": 63,
   "metadata": {},
   "outputs": [
    {
     "data": {
      "text/plain": [
       "(1470, 32)"
      ]
     },
     "execution_count": 63,
     "metadata": {},
     "output_type": "execute_result"
    }
   ],
   "source": [
    "df.shape"
   ]
  },
  {
   "cell_type": "code",
   "execution_count": 64,
   "metadata": {},
   "outputs": [],
   "source": [
    "dfyes=df.loc[df.Attrition=='Yes']"
   ]
  },
  {
   "cell_type": "code",
   "execution_count": 65,
   "metadata": {},
   "outputs": [],
   "source": [
    "df_sample=dfyes.sample(n=800,random_state=1,replace=True)"
   ]
  },
  {
   "cell_type": "code",
   "execution_count": 66,
   "metadata": {},
   "outputs": [],
   "source": [
    "df_new=df.append(df_sample)"
   ]
  },
  {
   "cell_type": "code",
   "execution_count": 67,
   "metadata": {},
   "outputs": [
    {
     "data": {
      "text/plain": [
       "(2270, 32)"
      ]
     },
     "execution_count": 67,
     "metadata": {},
     "output_type": "execute_result"
    }
   ],
   "source": [
    "df_new.shape"
   ]
  },
  {
   "cell_type": "code",
   "execution_count": 68,
   "metadata": {},
   "outputs": [
    {
     "data": {
      "text/plain": [
       "No     1233\n",
       "Yes    1037\n",
       "Name: Attrition, dtype: int64"
      ]
     },
     "execution_count": 68,
     "metadata": {},
     "output_type": "execute_result"
    }
   ],
   "source": [
    "df_new.Attrition.value_counts()"
   ]
  },
  {
   "cell_type": "code",
   "execution_count": 69,
   "metadata": {},
   "outputs": [],
   "source": [
    "y_new=df_new.Attrition_bol\n",
    "X_new=df_new.drop(['Attrition_bol','Unnamed: 0','DistanceFromHome','Age'],axis=1)._get_numeric_data()"
   ]
  },
  {
   "cell_type": "code",
   "execution_count": 70,
   "metadata": {},
   "outputs": [
    {
     "data": {
      "text/html": [
       "<div>\n",
       "<style scoped>\n",
       "    .dataframe tbody tr th:only-of-type {\n",
       "        vertical-align: middle;\n",
       "    }\n",
       "\n",
       "    .dataframe tbody tr th {\n",
       "        vertical-align: top;\n",
       "    }\n",
       "\n",
       "    .dataframe thead th {\n",
       "        text-align: right;\n",
       "    }\n",
       "</style>\n",
       "<table border=\"1\" class=\"dataframe\">\n",
       "  <thead>\n",
       "    <tr style=\"text-align: right;\">\n",
       "      <th></th>\n",
       "      <th>count</th>\n",
       "      <th>mean</th>\n",
       "      <th>std</th>\n",
       "      <th>min</th>\n",
       "      <th>25%</th>\n",
       "      <th>50%</th>\n",
       "      <th>75%</th>\n",
       "      <th>max</th>\n",
       "    </tr>\n",
       "  </thead>\n",
       "  <tbody>\n",
       "    <tr>\n",
       "      <th>Cat_Age</th>\n",
       "      <td>0.0</td>\n",
       "      <td>NaN</td>\n",
       "      <td>NaN</td>\n",
       "      <td>NaN</td>\n",
       "      <td>NaN</td>\n",
       "      <td>NaN</td>\n",
       "      <td>NaN</td>\n",
       "      <td>NaN</td>\n",
       "    </tr>\n",
       "    <tr>\n",
       "      <th>JobInvolvement</th>\n",
       "      <td>2270.0</td>\n",
       "      <td>2.664317e+00</td>\n",
       "      <td>0.736928</td>\n",
       "      <td>1.000000e+00</td>\n",
       "      <td>2.000000e+00</td>\n",
       "      <td>3.000000e+00</td>\n",
       "      <td>3.000000e+00</td>\n",
       "      <td>4.000000e+00</td>\n",
       "    </tr>\n",
       "    <tr>\n",
       "      <th>JobLevel</th>\n",
       "      <td>2270.0</td>\n",
       "      <td>1.934802e+00</td>\n",
       "      <td>1.076278</td>\n",
       "      <td>1.000000e+00</td>\n",
       "      <td>1.000000e+00</td>\n",
       "      <td>2.000000e+00</td>\n",
       "      <td>2.000000e+00</td>\n",
       "      <td>5.000000e+00</td>\n",
       "    </tr>\n",
       "    <tr>\n",
       "      <th>JobSatisfaction</th>\n",
       "      <td>2270.0</td>\n",
       "      <td>2.660793e+00</td>\n",
       "      <td>1.111027</td>\n",
       "      <td>1.000000e+00</td>\n",
       "      <td>2.000000e+00</td>\n",
       "      <td>3.000000e+00</td>\n",
       "      <td>4.000000e+00</td>\n",
       "      <td>4.000000e+00</td>\n",
       "    </tr>\n",
       "    <tr>\n",
       "      <th>BusinessTravel</th>\n",
       "      <td>2270.0</td>\n",
       "      <td>1.147577e+00</td>\n",
       "      <td>0.539151</td>\n",
       "      <td>0.000000e+00</td>\n",
       "      <td>1.000000e+00</td>\n",
       "      <td>1.000000e+00</td>\n",
       "      <td>1.000000e+00</td>\n",
       "      <td>2.000000e+00</td>\n",
       "    </tr>\n",
       "    <tr>\n",
       "      <th>Distance_Home</th>\n",
       "      <td>2270.0</td>\n",
       "      <td>1.921145e+00</td>\n",
       "      <td>1.076387</td>\n",
       "      <td>1.000000e+00</td>\n",
       "      <td>1.000000e+00</td>\n",
       "      <td>2.000000e+00</td>\n",
       "      <td>3.000000e+00</td>\n",
       "      <td>4.000000e+00</td>\n",
       "    </tr>\n",
       "    <tr>\n",
       "      <th>MonthlyIncome</th>\n",
       "      <td>2270.0</td>\n",
       "      <td>8.455123e+00</td>\n",
       "      <td>0.676229</td>\n",
       "      <td>6.916715e+00</td>\n",
       "      <td>7.884953e+00</td>\n",
       "      <td>8.420352e+00</td>\n",
       "      <td>8.929700e+00</td>\n",
       "      <td>9.903438e+00</td>\n",
       "    </tr>\n",
       "    <tr>\n",
       "      <th>PercentSalaryHike</th>\n",
       "      <td>2270.0</td>\n",
       "      <td>-9.223372e+18</td>\n",
       "      <td>0.000000</td>\n",
       "      <td>-9.223372e+18</td>\n",
       "      <td>-9.223372e+18</td>\n",
       "      <td>-9.223372e+18</td>\n",
       "      <td>-9.223372e+18</td>\n",
       "      <td>-9.223372e+18</td>\n",
       "    </tr>\n",
       "    <tr>\n",
       "      <th>PerformanceRating</th>\n",
       "      <td>2270.0</td>\n",
       "      <td>3.156388e+00</td>\n",
       "      <td>0.363303</td>\n",
       "      <td>3.000000e+00</td>\n",
       "      <td>3.000000e+00</td>\n",
       "      <td>3.000000e+00</td>\n",
       "      <td>3.000000e+00</td>\n",
       "      <td>4.000000e+00</td>\n",
       "    </tr>\n",
       "    <tr>\n",
       "      <th>OverTime</th>\n",
       "      <td>2270.0</td>\n",
       "      <td>3.757709e-01</td>\n",
       "      <td>0.484428</td>\n",
       "      <td>0.000000e+00</td>\n",
       "      <td>0.000000e+00</td>\n",
       "      <td>0.000000e+00</td>\n",
       "      <td>1.000000e+00</td>\n",
       "      <td>1.000000e+00</td>\n",
       "    </tr>\n",
       "    <tr>\n",
       "      <th>Education</th>\n",
       "      <td>2270.0</td>\n",
       "      <td>2.881938e+00</td>\n",
       "      <td>1.028539</td>\n",
       "      <td>1.000000e+00</td>\n",
       "      <td>2.000000e+00</td>\n",
       "      <td>3.000000e+00</td>\n",
       "      <td>4.000000e+00</td>\n",
       "      <td>5.000000e+00</td>\n",
       "    </tr>\n",
       "    <tr>\n",
       "      <th>EnvironmentSatisfaction</th>\n",
       "      <td>2270.0</td>\n",
       "      <td>2.624229e+00</td>\n",
       "      <td>1.125150</td>\n",
       "      <td>1.000000e+00</td>\n",
       "      <td>2.000000e+00</td>\n",
       "      <td>3.000000e+00</td>\n",
       "      <td>4.000000e+00</td>\n",
       "      <td>4.000000e+00</td>\n",
       "    </tr>\n",
       "    <tr>\n",
       "      <th>RelationshipSatisfaction</th>\n",
       "      <td>2270.0</td>\n",
       "      <td>2.680176e+00</td>\n",
       "      <td>1.093232</td>\n",
       "      <td>1.000000e+00</td>\n",
       "      <td>2.000000e+00</td>\n",
       "      <td>3.000000e+00</td>\n",
       "      <td>4.000000e+00</td>\n",
       "      <td>4.000000e+00</td>\n",
       "    </tr>\n",
       "    <tr>\n",
       "      <th>NumCompaniesWorked</th>\n",
       "      <td>2270.0</td>\n",
       "      <td>2.729515e+00</td>\n",
       "      <td>2.537156</td>\n",
       "      <td>0.000000e+00</td>\n",
       "      <td>1.000000e+00</td>\n",
       "      <td>1.000000e+00</td>\n",
       "      <td>4.000000e+00</td>\n",
       "      <td>9.000000e+00</td>\n",
       "    </tr>\n",
       "    <tr>\n",
       "      <th>StockOptionLevel</th>\n",
       "      <td>2270.0</td>\n",
       "      <td>7.022026e-01</td>\n",
       "      <td>0.857058</td>\n",
       "      <td>0.000000e+00</td>\n",
       "      <td>0.000000e+00</td>\n",
       "      <td>0.000000e+00</td>\n",
       "      <td>1.000000e+00</td>\n",
       "      <td>3.000000e+00</td>\n",
       "    </tr>\n",
       "    <tr>\n",
       "      <th>TotalWorkingYears</th>\n",
       "      <td>2270.0</td>\n",
       "      <td>1.021938e+01</td>\n",
       "      <td>7.589012</td>\n",
       "      <td>0.000000e+00</td>\n",
       "      <td>5.000000e+00</td>\n",
       "      <td>9.000000e+00</td>\n",
       "      <td>1.300000e+01</td>\n",
       "      <td>4.000000e+01</td>\n",
       "    </tr>\n",
       "    <tr>\n",
       "      <th>TrainingTimesLastYear</th>\n",
       "      <td>2270.0</td>\n",
       "      <td>2.733040e+00</td>\n",
       "      <td>1.285273</td>\n",
       "      <td>0.000000e+00</td>\n",
       "      <td>2.000000e+00</td>\n",
       "      <td>3.000000e+00</td>\n",
       "      <td>3.000000e+00</td>\n",
       "      <td>6.000000e+00</td>\n",
       "    </tr>\n",
       "    <tr>\n",
       "      <th>WorkLifeBalance</th>\n",
       "      <td>2270.0</td>\n",
       "      <td>2.718943e+00</td>\n",
       "      <td>0.737668</td>\n",
       "      <td>1.000000e+00</td>\n",
       "      <td>2.000000e+00</td>\n",
       "      <td>3.000000e+00</td>\n",
       "      <td>3.000000e+00</td>\n",
       "      <td>4.000000e+00</td>\n",
       "    </tr>\n",
       "    <tr>\n",
       "      <th>YearsAtCompany</th>\n",
       "      <td>2270.0</td>\n",
       "      <td>6.430396e+00</td>\n",
       "      <td>6.088538</td>\n",
       "      <td>0.000000e+00</td>\n",
       "      <td>2.000000e+00</td>\n",
       "      <td>5.000000e+00</td>\n",
       "      <td>9.000000e+00</td>\n",
       "      <td>4.000000e+01</td>\n",
       "    </tr>\n",
       "    <tr>\n",
       "      <th>YearsInCurrentRole</th>\n",
       "      <td>2270.0</td>\n",
       "      <td>3.843612e+00</td>\n",
       "      <td>3.539831</td>\n",
       "      <td>0.000000e+00</td>\n",
       "      <td>2.000000e+00</td>\n",
       "      <td>2.000000e+00</td>\n",
       "      <td>7.000000e+00</td>\n",
       "      <td>1.800000e+01</td>\n",
       "    </tr>\n",
       "    <tr>\n",
       "      <th>YearsSinceLastPromotion</th>\n",
       "      <td>2270.0</td>\n",
       "      <td>2.148018e+00</td>\n",
       "      <td>3.235591</td>\n",
       "      <td>0.000000e+00</td>\n",
       "      <td>0.000000e+00</td>\n",
       "      <td>1.000000e+00</td>\n",
       "      <td>2.000000e+00</td>\n",
       "      <td>1.500000e+01</td>\n",
       "    </tr>\n",
       "    <tr>\n",
       "      <th>YearsWithCurrManager</th>\n",
       "      <td>2270.0</td>\n",
       "      <td>3.768282e+00</td>\n",
       "      <td>3.485417</td>\n",
       "      <td>0.000000e+00</td>\n",
       "      <td>1.000000e+00</td>\n",
       "      <td>2.000000e+00</td>\n",
       "      <td>7.000000e+00</td>\n",
       "      <td>1.700000e+01</td>\n",
       "    </tr>\n",
       "    <tr>\n",
       "      <th>Gender_Male</th>\n",
       "      <td>2270.0</td>\n",
       "      <td>6.039648e-01</td>\n",
       "      <td>0.489180</td>\n",
       "      <td>0.000000e+00</td>\n",
       "      <td>0.000000e+00</td>\n",
       "      <td>1.000000e+00</td>\n",
       "      <td>1.000000e+00</td>\n",
       "      <td>1.000000e+00</td>\n",
       "    </tr>\n",
       "  </tbody>\n",
       "</table>\n",
       "</div>"
      ],
      "text/plain": [
       "                           count          mean       std           min  \\\n",
       "Cat_Age                      0.0           NaN       NaN           NaN   \n",
       "JobInvolvement            2270.0  2.664317e+00  0.736928  1.000000e+00   \n",
       "JobLevel                  2270.0  1.934802e+00  1.076278  1.000000e+00   \n",
       "JobSatisfaction           2270.0  2.660793e+00  1.111027  1.000000e+00   \n",
       "BusinessTravel            2270.0  1.147577e+00  0.539151  0.000000e+00   \n",
       "Distance_Home             2270.0  1.921145e+00  1.076387  1.000000e+00   \n",
       "MonthlyIncome             2270.0  8.455123e+00  0.676229  6.916715e+00   \n",
       "PercentSalaryHike         2270.0 -9.223372e+18  0.000000 -9.223372e+18   \n",
       "PerformanceRating         2270.0  3.156388e+00  0.363303  3.000000e+00   \n",
       "OverTime                  2270.0  3.757709e-01  0.484428  0.000000e+00   \n",
       "Education                 2270.0  2.881938e+00  1.028539  1.000000e+00   \n",
       "EnvironmentSatisfaction   2270.0  2.624229e+00  1.125150  1.000000e+00   \n",
       "RelationshipSatisfaction  2270.0  2.680176e+00  1.093232  1.000000e+00   \n",
       "NumCompaniesWorked        2270.0  2.729515e+00  2.537156  0.000000e+00   \n",
       "StockOptionLevel          2270.0  7.022026e-01  0.857058  0.000000e+00   \n",
       "TotalWorkingYears         2270.0  1.021938e+01  7.589012  0.000000e+00   \n",
       "TrainingTimesLastYear     2270.0  2.733040e+00  1.285273  0.000000e+00   \n",
       "WorkLifeBalance           2270.0  2.718943e+00  0.737668  1.000000e+00   \n",
       "YearsAtCompany            2270.0  6.430396e+00  6.088538  0.000000e+00   \n",
       "YearsInCurrentRole        2270.0  3.843612e+00  3.539831  0.000000e+00   \n",
       "YearsSinceLastPromotion   2270.0  2.148018e+00  3.235591  0.000000e+00   \n",
       "YearsWithCurrManager      2270.0  3.768282e+00  3.485417  0.000000e+00   \n",
       "Gender_Male               2270.0  6.039648e-01  0.489180  0.000000e+00   \n",
       "\n",
       "                                   25%           50%           75%  \\\n",
       "Cat_Age                            NaN           NaN           NaN   \n",
       "JobInvolvement            2.000000e+00  3.000000e+00  3.000000e+00   \n",
       "JobLevel                  1.000000e+00  2.000000e+00  2.000000e+00   \n",
       "JobSatisfaction           2.000000e+00  3.000000e+00  4.000000e+00   \n",
       "BusinessTravel            1.000000e+00  1.000000e+00  1.000000e+00   \n",
       "Distance_Home             1.000000e+00  2.000000e+00  3.000000e+00   \n",
       "MonthlyIncome             7.884953e+00  8.420352e+00  8.929700e+00   \n",
       "PercentSalaryHike        -9.223372e+18 -9.223372e+18 -9.223372e+18   \n",
       "PerformanceRating         3.000000e+00  3.000000e+00  3.000000e+00   \n",
       "OverTime                  0.000000e+00  0.000000e+00  1.000000e+00   \n",
       "Education                 2.000000e+00  3.000000e+00  4.000000e+00   \n",
       "EnvironmentSatisfaction   2.000000e+00  3.000000e+00  4.000000e+00   \n",
       "RelationshipSatisfaction  2.000000e+00  3.000000e+00  4.000000e+00   \n",
       "NumCompaniesWorked        1.000000e+00  1.000000e+00  4.000000e+00   \n",
       "StockOptionLevel          0.000000e+00  0.000000e+00  1.000000e+00   \n",
       "TotalWorkingYears         5.000000e+00  9.000000e+00  1.300000e+01   \n",
       "TrainingTimesLastYear     2.000000e+00  3.000000e+00  3.000000e+00   \n",
       "WorkLifeBalance           2.000000e+00  3.000000e+00  3.000000e+00   \n",
       "YearsAtCompany            2.000000e+00  5.000000e+00  9.000000e+00   \n",
       "YearsInCurrentRole        2.000000e+00  2.000000e+00  7.000000e+00   \n",
       "YearsSinceLastPromotion   0.000000e+00  1.000000e+00  2.000000e+00   \n",
       "YearsWithCurrManager      1.000000e+00  2.000000e+00  7.000000e+00   \n",
       "Gender_Male               0.000000e+00  1.000000e+00  1.000000e+00   \n",
       "\n",
       "                                   max  \n",
       "Cat_Age                            NaN  \n",
       "JobInvolvement            4.000000e+00  \n",
       "JobLevel                  5.000000e+00  \n",
       "JobSatisfaction           4.000000e+00  \n",
       "BusinessTravel            2.000000e+00  \n",
       "Distance_Home             4.000000e+00  \n",
       "MonthlyIncome             9.903438e+00  \n",
       "PercentSalaryHike        -9.223372e+18  \n",
       "PerformanceRating         4.000000e+00  \n",
       "OverTime                  1.000000e+00  \n",
       "Education                 5.000000e+00  \n",
       "EnvironmentSatisfaction   4.000000e+00  \n",
       "RelationshipSatisfaction  4.000000e+00  \n",
       "NumCompaniesWorked        9.000000e+00  \n",
       "StockOptionLevel          3.000000e+00  \n",
       "TotalWorkingYears         4.000000e+01  \n",
       "TrainingTimesLastYear     6.000000e+00  \n",
       "WorkLifeBalance           4.000000e+00  \n",
       "YearsAtCompany            4.000000e+01  \n",
       "YearsInCurrentRole        1.800000e+01  \n",
       "YearsSinceLastPromotion   1.500000e+01  \n",
       "YearsWithCurrManager      1.700000e+01  \n",
       "Gender_Male               1.000000e+00  "
      ]
     },
     "execution_count": 70,
     "metadata": {},
     "output_type": "execute_result"
    }
   ],
   "source": [
    "X_new.describe().T"
   ]
  },
  {
   "cell_type": "markdown",
   "metadata": {},
   "source": [
    "### Modele 7 Logfit"
   ]
  },
  {
   "cell_type": "code",
   "execution_count": 71,
   "metadata": {},
   "outputs": [],
   "source": [
    "X_new.drop(['Education','PerformanceRating','PercentSalaryHike','Cat_Age'],axis=1,inplace=True)\n",
    "#drop[,]\n",
    "#X_new.drop(['Education','PerformanceRating','PercentSalaryHike','Cat_Age','JobLevel','Gender_Male'],axis=1,inplace=True)"
   ]
  },
  {
   "cell_type": "code",
   "execution_count": 72,
   "metadata": {},
   "outputs": [
    {
     "name": "stderr",
     "output_type": "stream",
     "text": [
      "C:\\Users\\Lenovo\\Anaconda3\\lib\\site-packages\\numpy\\core\\fromnumeric.py:2389: FutureWarning: Method .ptp is deprecated and will be removed in a future version. Use numpy.ptp instead.\n",
      "  return ptp(axis=axis, out=out, **kwargs)\n"
     ]
    }
   ],
   "source": [
    "X_new=add_constant(X_new)\n",
    "model_3=sm.Logit(y_new,X_new)"
   ]
  },
  {
   "cell_type": "code",
   "execution_count": 73,
   "metadata": {},
   "outputs": [
    {
     "name": "stdout",
     "output_type": "stream",
     "text": [
      "Optimization terminated successfully.\n",
      "         Current function value: 0.489820\n",
      "         Iterations 6\n"
     ]
    },
    {
     "data": {
      "text/html": [
       "<table class=\"simpletable\">\n",
       "<caption>Logit Regression Results</caption>\n",
       "<tr>\n",
       "  <th>Dep. Variable:</th>     <td>Attrition_bol</td>  <th>  No. Observations:  </th>   <td>  2270</td>  \n",
       "</tr>\n",
       "<tr>\n",
       "  <th>Model:</th>                 <td>Logit</td>      <th>  Df Residuals:      </th>   <td>  2250</td>  \n",
       "</tr>\n",
       "<tr>\n",
       "  <th>Method:</th>                 <td>MLE</td>       <th>  Df Model:          </th>   <td>    19</td>  \n",
       "</tr>\n",
       "<tr>\n",
       "  <th>Date:</th>            <td>Tue, 26 Nov 2019</td> <th>  Pseudo R-squ.:     </th>   <td>0.2895</td>  \n",
       "</tr>\n",
       "<tr>\n",
       "  <th>Time:</th>                <td>09:28:11</td>     <th>  Log-Likelihood:    </th>  <td> -1111.9</td> \n",
       "</tr>\n",
       "<tr>\n",
       "  <th>converged:</th>             <td>True</td>       <th>  LL-Null:           </th>  <td> -1565.0</td> \n",
       "</tr>\n",
       "<tr>\n",
       "  <th>Covariance Type:</th>     <td>nonrobust</td>    <th>  LLR p-value:       </th> <td>5.481e-180</td>\n",
       "</tr>\n",
       "</table>\n",
       "<table class=\"simpletable\">\n",
       "<tr>\n",
       "              <td></td>                <th>coef</th>     <th>std err</th>      <th>z</th>      <th>P>|z|</th>  <th>[0.025</th>    <th>0.975]</th>  \n",
       "</tr>\n",
       "<tr>\n",
       "  <th>const</th>                    <td>   12.8169</td> <td>    1.560</td> <td>    8.216</td> <td> 0.000</td> <td>    9.759</td> <td>   15.875</td>\n",
       "</tr>\n",
       "<tr>\n",
       "  <th>JobInvolvement</th>           <td>   -0.5263</td> <td>    0.075</td> <td>   -7.023</td> <td> 0.000</td> <td>   -0.673</td> <td>   -0.379</td>\n",
       "</tr>\n",
       "<tr>\n",
       "  <th>JobLevel</th>                 <td>    0.5770</td> <td>    0.137</td> <td>    4.203</td> <td> 0.000</td> <td>    0.308</td> <td>    0.846</td>\n",
       "</tr>\n",
       "<tr>\n",
       "  <th>JobSatisfaction</th>          <td>   -0.3573</td> <td>    0.049</td> <td>   -7.328</td> <td> 0.000</td> <td>   -0.453</td> <td>   -0.262</td>\n",
       "</tr>\n",
       "<tr>\n",
       "  <th>BusinessTravel</th>           <td>    0.9048</td> <td>    0.103</td> <td>    8.799</td> <td> 0.000</td> <td>    0.703</td> <td>    1.106</td>\n",
       "</tr>\n",
       "<tr>\n",
       "  <th>Distance_Home</th>            <td>    0.3157</td> <td>    0.050</td> <td>    6.336</td> <td> 0.000</td> <td>    0.218</td> <td>    0.413</td>\n",
       "</tr>\n",
       "<tr>\n",
       "  <th>MonthlyIncome</th>            <td>   -1.2740</td> <td>    0.203</td> <td>   -6.276</td> <td> 0.000</td> <td>   -1.672</td> <td>   -0.876</td>\n",
       "</tr>\n",
       "<tr>\n",
       "  <th>OverTime</th>                 <td>    1.6782</td> <td>    0.113</td> <td>   14.831</td> <td> 0.000</td> <td>    1.456</td> <td>    1.900</td>\n",
       "</tr>\n",
       "<tr>\n",
       "  <th>EnvironmentSatisfaction</th>  <td>   -0.4044</td> <td>    0.048</td> <td>   -8.405</td> <td> 0.000</td> <td>   -0.499</td> <td>   -0.310</td>\n",
       "</tr>\n",
       "<tr>\n",
       "  <th>RelationshipSatisfaction</th> <td>   -0.2084</td> <td>    0.048</td> <td>   -4.325</td> <td> 0.000</td> <td>   -0.303</td> <td>   -0.114</td>\n",
       "</tr>\n",
       "<tr>\n",
       "  <th>NumCompaniesWorked</th>       <td>    0.1625</td> <td>    0.023</td> <td>    6.982</td> <td> 0.000</td> <td>    0.117</td> <td>    0.208</td>\n",
       "</tr>\n",
       "<tr>\n",
       "  <th>StockOptionLevel</th>         <td>   -0.4742</td> <td>    0.064</td> <td>   -7.388</td> <td> 0.000</td> <td>   -0.600</td> <td>   -0.348</td>\n",
       "</tr>\n",
       "<tr>\n",
       "  <th>TotalWorkingYears</th>        <td>   -0.1069</td> <td>    0.015</td> <td>   -7.212</td> <td> 0.000</td> <td>   -0.136</td> <td>   -0.078</td>\n",
       "</tr>\n",
       "<tr>\n",
       "  <th>TrainingTimesLastYear</th>    <td>   -0.1624</td> <td>    0.042</td> <td>   -3.910</td> <td> 0.000</td> <td>   -0.244</td> <td>   -0.081</td>\n",
       "</tr>\n",
       "<tr>\n",
       "  <th>WorkLifeBalance</th>          <td>   -0.2535</td> <td>    0.071</td> <td>   -3.570</td> <td> 0.000</td> <td>   -0.393</td> <td>   -0.114</td>\n",
       "</tr>\n",
       "<tr>\n",
       "  <th>YearsAtCompany</th>           <td>    0.0914</td> <td>    0.021</td> <td>    4.280</td> <td> 0.000</td> <td>    0.050</td> <td>    0.133</td>\n",
       "</tr>\n",
       "<tr>\n",
       "  <th>YearsInCurrentRole</th>       <td>   -0.0885</td> <td>    0.027</td> <td>   -3.233</td> <td> 0.001</td> <td>   -0.142</td> <td>   -0.035</td>\n",
       "</tr>\n",
       "<tr>\n",
       "  <th>YearsSinceLastPromotion</th>  <td>    0.1457</td> <td>    0.023</td> <td>    6.425</td> <td> 0.000</td> <td>    0.101</td> <td>    0.190</td>\n",
       "</tr>\n",
       "<tr>\n",
       "  <th>YearsWithCurrManager</th>     <td>   -0.0971</td> <td>    0.026</td> <td>   -3.698</td> <td> 0.000</td> <td>   -0.149</td> <td>   -0.046</td>\n",
       "</tr>\n",
       "<tr>\n",
       "  <th>Gender_Male</th>              <td>    0.2776</td> <td>    0.109</td> <td>    2.551</td> <td> 0.011</td> <td>    0.064</td> <td>    0.491</td>\n",
       "</tr>\n",
       "</table>"
      ],
      "text/plain": [
       "<class 'statsmodels.iolib.summary.Summary'>\n",
       "\"\"\"\n",
       "                           Logit Regression Results                           \n",
       "==============================================================================\n",
       "Dep. Variable:          Attrition_bol   No. Observations:                 2270\n",
       "Model:                          Logit   Df Residuals:                     2250\n",
       "Method:                           MLE   Df Model:                           19\n",
       "Date:                Tue, 26 Nov 2019   Pseudo R-squ.:                  0.2895\n",
       "Time:                        09:28:11   Log-Likelihood:                -1111.9\n",
       "converged:                       True   LL-Null:                       -1565.0\n",
       "Covariance Type:            nonrobust   LLR p-value:                5.481e-180\n",
       "============================================================================================\n",
       "                               coef    std err          z      P>|z|      [0.025      0.975]\n",
       "--------------------------------------------------------------------------------------------\n",
       "const                       12.8169      1.560      8.216      0.000       9.759      15.875\n",
       "JobInvolvement              -0.5263      0.075     -7.023      0.000      -0.673      -0.379\n",
       "JobLevel                     0.5770      0.137      4.203      0.000       0.308       0.846\n",
       "JobSatisfaction             -0.3573      0.049     -7.328      0.000      -0.453      -0.262\n",
       "BusinessTravel               0.9048      0.103      8.799      0.000       0.703       1.106\n",
       "Distance_Home                0.3157      0.050      6.336      0.000       0.218       0.413\n",
       "MonthlyIncome               -1.2740      0.203     -6.276      0.000      -1.672      -0.876\n",
       "OverTime                     1.6782      0.113     14.831      0.000       1.456       1.900\n",
       "EnvironmentSatisfaction     -0.4044      0.048     -8.405      0.000      -0.499      -0.310\n",
       "RelationshipSatisfaction    -0.2084      0.048     -4.325      0.000      -0.303      -0.114\n",
       "NumCompaniesWorked           0.1625      0.023      6.982      0.000       0.117       0.208\n",
       "StockOptionLevel            -0.4742      0.064     -7.388      0.000      -0.600      -0.348\n",
       "TotalWorkingYears           -0.1069      0.015     -7.212      0.000      -0.136      -0.078\n",
       "TrainingTimesLastYear       -0.1624      0.042     -3.910      0.000      -0.244      -0.081\n",
       "WorkLifeBalance             -0.2535      0.071     -3.570      0.000      -0.393      -0.114\n",
       "YearsAtCompany               0.0914      0.021      4.280      0.000       0.050       0.133\n",
       "YearsInCurrentRole          -0.0885      0.027     -3.233      0.001      -0.142      -0.035\n",
       "YearsSinceLastPromotion      0.1457      0.023      6.425      0.000       0.101       0.190\n",
       "YearsWithCurrManager        -0.0971      0.026     -3.698      0.000      -0.149      -0.046\n",
       "Gender_Male                  0.2776      0.109      2.551      0.011       0.064       0.491\n",
       "============================================================================================\n",
       "\"\"\""
      ]
     },
     "execution_count": 73,
     "metadata": {},
     "output_type": "execute_result"
    }
   ],
   "source": [
    "res_3=model_3.fit()\n",
    "res_3.summary()"
   ]
  },
  {
   "cell_type": "code",
   "execution_count": 149,
   "metadata": {
    "scrolled": true
   },
   "outputs": [
    {
     "data": {
      "text/plain": [
       "Index(['const', 'JobInvolvement', 'JobLevel', 'JobSatisfaction',\n",
       "       'BusinessTravel', 'Distance_Home', 'MonthlyIncome', 'OverTime',\n",
       "       'EnvironmentSatisfaction', 'RelationshipSatisfaction',\n",
       "       'NumCompaniesWorked', 'StockOptionLevel', 'TotalWorkingYears',\n",
       "       'TrainingTimesLastYear', 'WorkLifeBalance', 'YearsAtCompany',\n",
       "       'YearsInCurrentRole', 'YearsSinceLastPromotion', 'YearsWithCurrManager',\n",
       "       'Gender_Male'],\n",
       "      dtype='object')"
      ]
     },
     "execution_count": 149,
     "metadata": {},
     "output_type": "execute_result"
    }
   ],
   "source": [
    "X_new.columns"
   ]
  },
  {
   "cell_type": "code",
   "execution_count": 150,
   "metadata": {},
   "outputs": [
    {
     "data": {
      "text/plain": [
       "Index(['Cat_Age', 'JobInvolvement', 'JobLevel', 'JobSatisfaction',\n",
       "       'BusinessTravel', 'Distance_Home', 'MonthlyIncome', 'PercentSalaryHike',\n",
       "       'PerformanceRating', 'OverTime', 'Education', 'EnvironmentSatisfaction',\n",
       "       'RelationshipSatisfaction', 'NumCompaniesWorked', 'StockOptionLevel',\n",
       "       'TotalWorkingYears', 'TrainingTimesLastYear', 'WorkLifeBalance',\n",
       "       'YearsAtCompany', 'YearsInCurrentRole', 'YearsSinceLastPromotion',\n",
       "       'YearsWithCurrManager', 'Gender_Male'],\n",
       "      dtype='object')"
      ]
     },
     "execution_count": 150,
     "metadata": {},
     "output_type": "execute_result"
    }
   ],
   "source": [
    "X_cat.columns"
   ]
  },
  {
   "cell_type": "code",
   "execution_count": 153,
   "metadata": {},
   "outputs": [],
   "source": [
    "X_cat.drop(['Cat_Age','PercentSalaryHike','PerformanceRating','Education'],axis=1,inplace=True)"
   ]
  },
  {
   "cell_type": "code",
   "execution_count": 156,
   "metadata": {},
   "outputs": [],
   "source": [
    "X_cat=add_constant(X_cat)"
   ]
  },
  {
   "cell_type": "code",
   "execution_count": 158,
   "metadata": {},
   "outputs": [
    {
     "data": {
      "text/plain": [
       "array([[983, 250],\n",
       "       [ 61, 176]], dtype=int64)"
      ]
     },
     "execution_count": 158,
     "metadata": {},
     "output_type": "execute_result"
    }
   ],
   "source": [
    "from sklearn.metrics import confusion_matrix\n",
    "pred_3=round(res_3.predict(X_cat))\n",
    "confusion_matrix(y_cat,pred_3)"
   ]
  },
  {
   "cell_type": "code",
   "execution_count": 159,
   "metadata": {},
   "outputs": [
    {
     "data": {
      "text/plain": [
       "(1470, 20)"
      ]
     },
     "execution_count": 159,
     "metadata": {},
     "output_type": "execute_result"
    }
   ],
   "source": [
    "X_cat.shape"
   ]
  },
  {
   "cell_type": "code",
   "execution_count": 160,
   "metadata": {},
   "outputs": [
    {
     "data": {
      "text/plain": [
       "(2270, 20)"
      ]
     },
     "execution_count": 160,
     "metadata": {},
     "output_type": "execute_result"
    }
   ],
   "source": [
    "X_new.shape"
   ]
  },
  {
   "cell_type": "markdown",
   "metadata": {},
   "source": [
    "#### Score Modele 7 Logfit resamp"
   ]
  },
  {
   "cell_type": "code",
   "execution_count": 162,
   "metadata": {},
   "outputs": [
    {
     "data": {
      "text/plain": [
       "0.7426160337552743"
      ]
     },
     "execution_count": 162,
     "metadata": {},
     "output_type": "execute_result"
    }
   ],
   "source": [
    "import sklearn.metrics as m\n",
    "m.recall_score(y_cat,pred_3)"
   ]
  },
  {
   "cell_type": "markdown",
   "metadata": {},
   "source": [
    "### Model 7 Logistic Regression "
   ]
  },
  {
   "cell_type": "code",
   "execution_count": 163,
   "metadata": {},
   "outputs": [],
   "source": [
    "from sklearn.linear_model import LogisticRegression"
   ]
  },
  {
   "cell_type": "code",
   "execution_count": 164,
   "metadata": {},
   "outputs": [
    {
     "name": "stderr",
     "output_type": "stream",
     "text": [
      "C:\\Users\\Lenovo\\Anaconda3\\lib\\site-packages\\sklearn\\linear_model\\logistic.py:432: FutureWarning: Default solver will be changed to 'lbfgs' in 0.22. Specify a solver to silence this warning.\n",
      "  FutureWarning)\n"
     ]
    }
   ],
   "source": [
    "model_4=LogisticRegression(class_weight='balanced').fit(X_new,y_new)"
   ]
  },
  {
   "cell_type": "code",
   "execution_count": 165,
   "metadata": {},
   "outputs": [],
   "source": [
    "pred_4=model_4.predict(X_cat)"
   ]
  },
  {
   "cell_type": "code",
   "execution_count": 167,
   "metadata": {},
   "outputs": [
    {
     "data": {
      "text/plain": [
       "array([[936, 297],\n",
       "       [ 54, 183]], dtype=int64)"
      ]
     },
     "execution_count": 167,
     "metadata": {},
     "output_type": "execute_result"
    }
   ],
   "source": [
    "confusion_matrix(y_cat,pred_4)"
   ]
  },
  {
   "cell_type": "code",
   "execution_count": 169,
   "metadata": {},
   "outputs": [
    {
     "data": {
      "text/plain": [
       "0.7721518987341772"
      ]
     },
     "execution_count": 169,
     "metadata": {},
     "output_type": "execute_result"
    }
   ],
   "source": [
    "m.recall_score(y_cat,pred_4)"
   ]
  },
  {
   "cell_type": "markdown",
   "metadata": {},
   "source": [
    "### Multicollinearity  - model 7 & 8"
   ]
  },
  {
   "cell_type": "code",
   "execution_count": 170,
   "metadata": {},
   "outputs": [],
   "source": [
    "X_new.drop(['const','MonthlyIncome','JobInvolvement','WorkLifeBalance','YearsAtCompany','JobLevel'],axis=1,inplace=True)"
   ]
  },
  {
   "cell_type": "code",
   "execution_count": 171,
   "metadata": {},
   "outputs": [
    {
     "data": {
      "text/plain": [
       "JobSatisfaction             5.921947\n",
       "BusinessTravel              4.966742\n",
       "Distance_Home               3.732790\n",
       "OverTime                    1.634729\n",
       "EnvironmentSatisfaction     5.571457\n",
       "RelationshipSatisfaction    6.227620\n",
       "NumCompaniesWorked          2.391903\n",
       "StockOptionLevel            1.689755\n",
       "TotalWorkingYears           4.648921\n",
       "TrainingTimesLastYear       4.852662\n",
       "YearsInCurrentRole          5.693978\n",
       "YearsSinceLastPromotion     2.400627\n",
       "YearsWithCurrManager        5.359695\n",
       "Gender_Male                 2.455254\n",
       "dtype: float64"
      ]
     },
     "execution_count": 171,
     "metadata": {},
     "output_type": "execute_result"
    }
   ],
   "source": [
    "#X_new.drop(['const'],axis=1,inplace=True)\n",
    "from statsmodels.stats.outliers_influence import variance_inflation_factor as VIF\n",
    "pd.Series([VIF(X_new.values,i) for i in range(X_new.shape[1])],index=X_new.columns)"
   ]
  },
  {
   "cell_type": "code",
   "execution_count": 172,
   "metadata": {},
   "outputs": [
    {
     "data": {
      "text/plain": [
       "Index(['JobSatisfaction', 'BusinessTravel', 'Distance_Home', 'OverTime',\n",
       "       'EnvironmentSatisfaction', 'RelationshipSatisfaction',\n",
       "       'NumCompaniesWorked', 'StockOptionLevel', 'TotalWorkingYears',\n",
       "       'TrainingTimesLastYear', 'YearsInCurrentRole',\n",
       "       'YearsSinceLastPromotion', 'YearsWithCurrManager', 'Gender_Male'],\n",
       "      dtype='object')"
      ]
     },
     "execution_count": 172,
     "metadata": {},
     "output_type": "execute_result"
    }
   ],
   "source": [
    "X_new.columns"
   ]
  },
  {
   "cell_type": "code",
   "execution_count": 173,
   "metadata": {},
   "outputs": [
    {
     "name": "stderr",
     "output_type": "stream",
     "text": [
      "C:\\Users\\Lenovo\\Anaconda3\\lib\\site-packages\\numpy\\core\\fromnumeric.py:2389: FutureWarning: Method .ptp is deprecated and will be removed in a future version. Use numpy.ptp instead.\n",
      "  return ptp(axis=axis, out=out, **kwargs)\n"
     ]
    }
   ],
   "source": [
    "X_new=add_constant(X_new)\n",
    "model_3m=sm.Logit(y_new,X_new)"
   ]
  },
  {
   "cell_type": "code",
   "execution_count": 174,
   "metadata": {},
   "outputs": [
    {
     "name": "stdout",
     "output_type": "stream",
     "text": [
      "Optimization terminated successfully.\n",
      "         Current function value: 0.520416\n",
      "         Iterations 6\n"
     ]
    },
    {
     "data": {
      "text/html": [
       "<table class=\"simpletable\">\n",
       "<caption>Logit Regression Results</caption>\n",
       "<tr>\n",
       "  <th>Dep. Variable:</th>     <td>Attrition_bol</td>  <th>  No. Observations:  </th>   <td>  2270</td>  \n",
       "</tr>\n",
       "<tr>\n",
       "  <th>Model:</th>                 <td>Logit</td>      <th>  Df Residuals:      </th>   <td>  2255</td>  \n",
       "</tr>\n",
       "<tr>\n",
       "  <th>Method:</th>                 <td>MLE</td>       <th>  Df Model:          </th>   <td>    14</td>  \n",
       "</tr>\n",
       "<tr>\n",
       "  <th>Date:</th>            <td>Tue, 26 Nov 2019</td> <th>  Pseudo R-squ.:     </th>   <td>0.2451</td>  \n",
       "</tr>\n",
       "<tr>\n",
       "  <th>Time:</th>                <td>19:04:51</td>     <th>  Log-Likelihood:    </th>  <td> -1181.3</td> \n",
       "</tr>\n",
       "<tr>\n",
       "  <th>converged:</th>             <td>True</td>       <th>  LL-Null:           </th>  <td> -1565.0</td> \n",
       "</tr>\n",
       "<tr>\n",
       "  <th>Covariance Type:</th>     <td>nonrobust</td>    <th>  LLR p-value:       </th> <td>1.111e-154</td>\n",
       "</tr>\n",
       "</table>\n",
       "<table class=\"simpletable\">\n",
       "<tr>\n",
       "              <td></td>                <th>coef</th>     <th>std err</th>      <th>z</th>      <th>P>|z|</th>  <th>[0.025</th>    <th>0.975]</th>  \n",
       "</tr>\n",
       "<tr>\n",
       "  <th>const</th>                    <td>    1.2085</td> <td>    0.307</td> <td>    3.935</td> <td> 0.000</td> <td>    0.607</td> <td>    1.810</td>\n",
       "</tr>\n",
       "<tr>\n",
       "  <th>JobSatisfaction</th>          <td>   -0.3147</td> <td>    0.047</td> <td>   -6.746</td> <td> 0.000</td> <td>   -0.406</td> <td>   -0.223</td>\n",
       "</tr>\n",
       "<tr>\n",
       "  <th>BusinessTravel</th>           <td>    0.8681</td> <td>    0.099</td> <td>    8.789</td> <td> 0.000</td> <td>    0.674</td> <td>    1.062</td>\n",
       "</tr>\n",
       "<tr>\n",
       "  <th>Distance_Home</th>            <td>    0.2887</td> <td>    0.048</td> <td>    6.001</td> <td> 0.000</td> <td>    0.194</td> <td>    0.383</td>\n",
       "</tr>\n",
       "<tr>\n",
       "  <th>OverTime</th>                 <td>    1.5588</td> <td>    0.108</td> <td>   14.411</td> <td> 0.000</td> <td>    1.347</td> <td>    1.771</td>\n",
       "</tr>\n",
       "<tr>\n",
       "  <th>EnvironmentSatisfaction</th>  <td>   -0.3734</td> <td>    0.046</td> <td>   -8.072</td> <td> 0.000</td> <td>   -0.464</td> <td>   -0.283</td>\n",
       "</tr>\n",
       "<tr>\n",
       "  <th>RelationshipSatisfaction</th> <td>   -0.1935</td> <td>    0.047</td> <td>   -4.156</td> <td> 0.000</td> <td>   -0.285</td> <td>   -0.102</td>\n",
       "</tr>\n",
       "<tr>\n",
       "  <th>NumCompaniesWorked</th>       <td>    0.1217</td> <td>    0.022</td> <td>    5.577</td> <td> 0.000</td> <td>    0.079</td> <td>    0.165</td>\n",
       "</tr>\n",
       "<tr>\n",
       "  <th>StockOptionLevel</th>         <td>   -0.5023</td> <td>    0.062</td> <td>   -8.038</td> <td> 0.000</td> <td>   -0.625</td> <td>   -0.380</td>\n",
       "</tr>\n",
       "<tr>\n",
       "  <th>TotalWorkingYears</th>        <td>   -0.0936</td> <td>    0.010</td> <td>   -9.289</td> <td> 0.000</td> <td>   -0.113</td> <td>   -0.074</td>\n",
       "</tr>\n",
       "<tr>\n",
       "  <th>TrainingTimesLastYear</th>    <td>   -0.1467</td> <td>    0.040</td> <td>   -3.676</td> <td> 0.000</td> <td>   -0.225</td> <td>   -0.068</td>\n",
       "</tr>\n",
       "<tr>\n",
       "  <th>YearsInCurrentRole</th>       <td>   -0.0616</td> <td>    0.024</td> <td>   -2.561</td> <td> 0.010</td> <td>   -0.109</td> <td>   -0.014</td>\n",
       "</tr>\n",
       "<tr>\n",
       "  <th>YearsSinceLastPromotion</th>  <td>    0.1703</td> <td>    0.021</td> <td>    7.943</td> <td> 0.000</td> <td>    0.128</td> <td>    0.212</td>\n",
       "</tr>\n",
       "<tr>\n",
       "  <th>YearsWithCurrManager</th>     <td>   -0.0579</td> <td>    0.024</td> <td>   -2.427</td> <td> 0.015</td> <td>   -0.105</td> <td>   -0.011</td>\n",
       "</tr>\n",
       "<tr>\n",
       "  <th>Gender_Male</th>              <td>    0.2829</td> <td>    0.105</td> <td>    2.695</td> <td> 0.007</td> <td>    0.077</td> <td>    0.489</td>\n",
       "</tr>\n",
       "</table>"
      ],
      "text/plain": [
       "<class 'statsmodels.iolib.summary.Summary'>\n",
       "\"\"\"\n",
       "                           Logit Regression Results                           \n",
       "==============================================================================\n",
       "Dep. Variable:          Attrition_bol   No. Observations:                 2270\n",
       "Model:                          Logit   Df Residuals:                     2255\n",
       "Method:                           MLE   Df Model:                           14\n",
       "Date:                Tue, 26 Nov 2019   Pseudo R-squ.:                  0.2451\n",
       "Time:                        19:04:51   Log-Likelihood:                -1181.3\n",
       "converged:                       True   LL-Null:                       -1565.0\n",
       "Covariance Type:            nonrobust   LLR p-value:                1.111e-154\n",
       "============================================================================================\n",
       "                               coef    std err          z      P>|z|      [0.025      0.975]\n",
       "--------------------------------------------------------------------------------------------\n",
       "const                        1.2085      0.307      3.935      0.000       0.607       1.810\n",
       "JobSatisfaction             -0.3147      0.047     -6.746      0.000      -0.406      -0.223\n",
       "BusinessTravel               0.8681      0.099      8.789      0.000       0.674       1.062\n",
       "Distance_Home                0.2887      0.048      6.001      0.000       0.194       0.383\n",
       "OverTime                     1.5588      0.108     14.411      0.000       1.347       1.771\n",
       "EnvironmentSatisfaction     -0.3734      0.046     -8.072      0.000      -0.464      -0.283\n",
       "RelationshipSatisfaction    -0.1935      0.047     -4.156      0.000      -0.285      -0.102\n",
       "NumCompaniesWorked           0.1217      0.022      5.577      0.000       0.079       0.165\n",
       "StockOptionLevel            -0.5023      0.062     -8.038      0.000      -0.625      -0.380\n",
       "TotalWorkingYears           -0.0936      0.010     -9.289      0.000      -0.113      -0.074\n",
       "TrainingTimesLastYear       -0.1467      0.040     -3.676      0.000      -0.225      -0.068\n",
       "YearsInCurrentRole          -0.0616      0.024     -2.561      0.010      -0.109      -0.014\n",
       "YearsSinceLastPromotion      0.1703      0.021      7.943      0.000       0.128       0.212\n",
       "YearsWithCurrManager        -0.0579      0.024     -2.427      0.015      -0.105      -0.011\n",
       "Gender_Male                  0.2829      0.105      2.695      0.007       0.077       0.489\n",
       "============================================================================================\n",
       "\"\"\""
      ]
     },
     "execution_count": 174,
     "metadata": {},
     "output_type": "execute_result"
    }
   ],
   "source": [
    "res_3m=model_3m.fit()\n",
    "res_3m.summary()"
   ]
  },
  {
   "cell_type": "code",
   "execution_count": 175,
   "metadata": {},
   "outputs": [],
   "source": [
    "X_cat.drop(['JobLevel','MonthlyIncome','JobInvolvement','WorkLifeBalance','YearsAtCompany'],axis=1,inplace=True)"
   ]
  },
  {
   "cell_type": "code",
   "execution_count": 177,
   "metadata": {},
   "outputs": [
    {
     "data": {
      "text/plain": [
       "array([[983, 250],\n",
       "       [ 62, 175]], dtype=int64)"
      ]
     },
     "execution_count": 177,
     "metadata": {},
     "output_type": "execute_result"
    }
   ],
   "source": [
    "pred_3m=round(res_3m.predict(X_cat))\n",
    "confusion_matrix(y_cat,pred_3m)"
   ]
  },
  {
   "cell_type": "code",
   "execution_count": 179,
   "metadata": {},
   "outputs": [
    {
     "name": "stdout",
     "output_type": "stream",
     "text": [
      "983 250 62 175\n"
     ]
    }
   ],
   "source": [
    "tn, fp, fn, tp = confusion_matrix(y_cat,pred_3m).ravel()\n",
    "print(tn, fp, fn, tp)"
   ]
  },
  {
   "cell_type": "code",
   "execution_count": 180,
   "metadata": {},
   "outputs": [
    {
     "data": {
      "text/plain": [
       "(2270, 15)"
      ]
     },
     "execution_count": 180,
     "metadata": {},
     "output_type": "execute_result"
    }
   ],
   "source": [
    "X_new.shape"
   ]
  },
  {
   "cell_type": "code",
   "execution_count": 181,
   "metadata": {},
   "outputs": [
    {
     "data": {
      "text/plain": [
       "(1470, 15)"
      ]
     },
     "execution_count": 181,
     "metadata": {},
     "output_type": "execute_result"
    }
   ],
   "source": [
    "X_cat.shape"
   ]
  },
  {
   "cell_type": "markdown",
   "metadata": {},
   "source": [
    "### Score Model 7 - resamp & multicollinearity"
   ]
  },
  {
   "cell_type": "code",
   "execution_count": 183,
   "metadata": {},
   "outputs": [
    {
     "data": {
      "text/plain": [
       "0.7383966244725738"
      ]
     },
     "execution_count": 183,
     "metadata": {},
     "output_type": "execute_result"
    }
   ],
   "source": [
    "m.recall_score(y_cat,pred_3m)"
   ]
  },
  {
   "cell_type": "code",
   "execution_count": 184,
   "metadata": {},
   "outputs": [
    {
     "data": {
      "text/plain": [
       "0.4117647058823529"
      ]
     },
     "execution_count": 184,
     "metadata": {},
     "output_type": "execute_result"
    }
   ],
   "source": [
    "m.precision_score(y_cat,pred_3m)"
   ]
  },
  {
   "cell_type": "code",
   "execution_count": 185,
   "metadata": {},
   "outputs": [
    {
     "data": {
      "text/plain": [
       "0.5287009063444109"
      ]
     },
     "execution_count": 185,
     "metadata": {},
     "output_type": "execute_result"
    }
   ],
   "source": [
    "m.f1_score(y_cat,pred_3m)"
   ]
  },
  {
   "cell_type": "markdown",
   "metadata": {},
   "source": [
    "### Modele Logistic Regression 8 -  multicollinearity"
   ]
  },
  {
   "cell_type": "code",
   "execution_count": 270,
   "metadata": {},
   "outputs": [
    {
     "name": "stderr",
     "output_type": "stream",
     "text": [
      "C:\\Users\\Lenovo\\Anaconda3\\lib\\site-packages\\sklearn\\linear_model\\logistic.py:432: FutureWarning: Default solver will be changed to 'lbfgs' in 0.22. Specify a solver to silence this warning.\n",
      "  FutureWarning)\n"
     ]
    }
   ],
   "source": [
    "model_4m=LogisticRegression(class_weight='balanced').fit(X_new,y_new)"
   ]
  },
  {
   "cell_type": "code",
   "execution_count": 368,
   "metadata": {},
   "outputs": [],
   "source": [
    "pred_4m=model_4m.predict(X_cat.drop('RelationshipSatisfaction',axis=1))"
   ]
  },
  {
   "cell_type": "markdown",
   "metadata": {},
   "source": [
    "#### Score Model 8m - resamp & Multicollinearity"
   ]
  },
  {
   "cell_type": "code",
   "execution_count": 370,
   "metadata": {
    "scrolled": true
   },
   "outputs": [
    {
     "data": {
      "text/plain": [
       "array([[916, 317],\n",
       "       [ 52, 185]], dtype=int64)"
      ]
     },
     "execution_count": 370,
     "metadata": {},
     "output_type": "execute_result"
    }
   ],
   "source": [
    "confusion_matrix(y_cat,pred_4m)"
   ]
  },
  {
   "cell_type": "code",
   "execution_count": 242,
   "metadata": {},
   "outputs": [
    {
     "data": {
      "text/plain": [
       "0.36852589641434264"
      ]
     },
     "execution_count": 242,
     "metadata": {},
     "output_type": "execute_result"
    }
   ],
   "source": [
    "m.precision_score(y_cat,pred_4m)"
   ]
  },
  {
   "cell_type": "code",
   "execution_count": 243,
   "metadata": {},
   "outputs": [
    {
     "data": {
      "text/plain": [
       "0.5006765899864681"
      ]
     },
     "execution_count": 243,
     "metadata": {},
     "output_type": "execute_result"
    }
   ],
   "source": [
    "m.f1_score(y_cat,pred_4m)"
   ]
  },
  {
   "cell_type": "code",
   "execution_count": 245,
   "metadata": {},
   "outputs": [
    {
     "data": {
      "text/plain": [
       "0.7805907172995781"
      ]
     },
     "execution_count": 245,
     "metadata": {},
     "output_type": "execute_result"
    }
   ],
   "source": [
    "m.recall_score(y_cat,pred_4m)"
   ]
  },
  {
   "cell_type": "code",
   "execution_count": 256,
   "metadata": {},
   "outputs": [
    {
     "data": {
      "text/plain": [
       "Index(['const', 'JobSatisfaction', 'BusinessTravel', 'Distance_Home',\n",
       "       'OverTime', 'EnvironmentSatisfaction', 'NumCompaniesWorked',\n",
       "       'StockOptionLevel', 'TotalWorkingYears', 'TrainingTimesLastYear',\n",
       "       'YearsInCurrentRole', 'YearsSinceLastPromotion', 'YearsWithCurrManager',\n",
       "       'Gender_Male'],\n",
       "      dtype='object')"
      ]
     },
     "execution_count": 256,
     "metadata": {},
     "output_type": "execute_result"
    }
   ],
   "source": [
    "X_new.columns"
   ]
  },
  {
   "cell_type": "code",
   "execution_count": 257,
   "metadata": {
    "scrolled": true
   },
   "outputs": [
    {
     "data": {
      "text/plain": [
       "array([[ 0.42384906, -0.30709248,  0.85346647,  0.2779329 ,  1.50065374,\n",
       "        -0.36327005,  0.11472078, -0.46936084, -0.09090821, -0.14152053,\n",
       "        -0.05579168,  0.16018699, -0.05478241,  0.24783071]])"
      ]
     },
     "execution_count": 257,
     "metadata": {},
     "output_type": "execute_result"
    }
   ],
   "source": [
    "model_4m.coef_ "
   ]
  },
  {
   "cell_type": "code",
   "execution_count": 258,
   "metadata": {},
   "outputs": [],
   "source": [
    "data = {'Variable':['const', 'JobSatisfaction', 'BusinessTravel', 'Distance_Home',\n",
    "       'OverTime', 'EnvironmentSatisfaction', 'NumCompaniesWorked',\n",
    "       'StockOptionLevel', 'TotalWorkingYears', 'TrainingTimesLastYear',\n",
    "       'YearsInCurrentRole', 'YearsSinceLastPromotion', 'YearsWithCurrManager',\n",
    "       'Gender_Male'], 'Coefficient':[ 0.42384906, -0.30709248,  0.85346647,  0.2779329 ,  1.50065374,\n",
    "        -0.36327005,  0.11472078, -0.46936084, -0.09090821, -0.14152053,\n",
    "        -0.05579168,  0.16018699, -0.05478241,  0.24783071]} "
   ]
  },
  {
   "cell_type": "code",
   "execution_count": 261,
   "metadata": {},
   "outputs": [
    {
     "data": {
      "text/html": [
       "<div>\n",
       "<style scoped>\n",
       "    .dataframe tbody tr th:only-of-type {\n",
       "        vertical-align: middle;\n",
       "    }\n",
       "\n",
       "    .dataframe tbody tr th {\n",
       "        vertical-align: top;\n",
       "    }\n",
       "\n",
       "    .dataframe thead th {\n",
       "        text-align: right;\n",
       "    }\n",
       "</style>\n",
       "<table border=\"1\" class=\"dataframe\">\n",
       "  <thead>\n",
       "    <tr style=\"text-align: right;\">\n",
       "      <th></th>\n",
       "      <th>Variable</th>\n",
       "      <th>Coefficient</th>\n",
       "    </tr>\n",
       "  </thead>\n",
       "  <tbody>\n",
       "    <tr>\n",
       "      <th>0</th>\n",
       "      <td>const</td>\n",
       "      <td>0.423849</td>\n",
       "    </tr>\n",
       "    <tr>\n",
       "      <th>1</th>\n",
       "      <td>JobSatisfaction</td>\n",
       "      <td>-0.307092</td>\n",
       "    </tr>\n",
       "    <tr>\n",
       "      <th>2</th>\n",
       "      <td>BusinessTravel</td>\n",
       "      <td>0.853466</td>\n",
       "    </tr>\n",
       "    <tr>\n",
       "      <th>3</th>\n",
       "      <td>Distance_Home</td>\n",
       "      <td>0.277933</td>\n",
       "    </tr>\n",
       "    <tr>\n",
       "      <th>4</th>\n",
       "      <td>OverTime</td>\n",
       "      <td>1.500654</td>\n",
       "    </tr>\n",
       "    <tr>\n",
       "      <th>5</th>\n",
       "      <td>EnvironmentSatisfaction</td>\n",
       "      <td>-0.363270</td>\n",
       "    </tr>\n",
       "    <tr>\n",
       "      <th>6</th>\n",
       "      <td>NumCompaniesWorked</td>\n",
       "      <td>0.114721</td>\n",
       "    </tr>\n",
       "    <tr>\n",
       "      <th>7</th>\n",
       "      <td>StockOptionLevel</td>\n",
       "      <td>-0.469361</td>\n",
       "    </tr>\n",
       "    <tr>\n",
       "      <th>8</th>\n",
       "      <td>TotalWorkingYears</td>\n",
       "      <td>-0.090908</td>\n",
       "    </tr>\n",
       "    <tr>\n",
       "      <th>9</th>\n",
       "      <td>TrainingTimesLastYear</td>\n",
       "      <td>-0.141521</td>\n",
       "    </tr>\n",
       "    <tr>\n",
       "      <th>10</th>\n",
       "      <td>YearsInCurrentRole</td>\n",
       "      <td>-0.055792</td>\n",
       "    </tr>\n",
       "    <tr>\n",
       "      <th>11</th>\n",
       "      <td>YearsSinceLastPromotion</td>\n",
       "      <td>0.160187</td>\n",
       "    </tr>\n",
       "    <tr>\n",
       "      <th>12</th>\n",
       "      <td>YearsWithCurrManager</td>\n",
       "      <td>-0.054782</td>\n",
       "    </tr>\n",
       "    <tr>\n",
       "      <th>13</th>\n",
       "      <td>Gender_Male</td>\n",
       "      <td>0.247831</td>\n",
       "    </tr>\n",
       "  </tbody>\n",
       "</table>\n",
       "</div>"
      ],
      "text/plain": [
       "                   Variable  Coefficient\n",
       "0                     const     0.423849\n",
       "1           JobSatisfaction    -0.307092\n",
       "2            BusinessTravel     0.853466\n",
       "3             Distance_Home     0.277933\n",
       "4                  OverTime     1.500654\n",
       "5   EnvironmentSatisfaction    -0.363270\n",
       "6        NumCompaniesWorked     0.114721\n",
       "7          StockOptionLevel    -0.469361\n",
       "8         TotalWorkingYears    -0.090908\n",
       "9     TrainingTimesLastYear    -0.141521\n",
       "10       YearsInCurrentRole    -0.055792\n",
       "11  YearsSinceLastPromotion     0.160187\n",
       "12     YearsWithCurrManager    -0.054782\n",
       "13              Gender_Male     0.247831"
      ]
     },
     "execution_count": 261,
     "metadata": {},
     "output_type": "execute_result"
    }
   ],
   "source": [
    "df=pd.DataFrame(data)\n",
    "df"
   ]
  },
  {
   "cell_type": "code",
   "execution_count": 194,
   "metadata": {},
   "outputs": [
    {
     "data": {
      "text/plain": [
       "array([0.63297675])"
      ]
     },
     "execution_count": 194,
     "metadata": {},
     "output_type": "execute_result"
    }
   ],
   "source": [
    "model_4m.intercept_"
   ]
  },
  {
   "cell_type": "code",
   "execution_count": null,
   "metadata": {},
   "outputs": [],
   "source": [
    "import sklearn.metrics as metrics\n",
    "# calculate the fpr and tpr for all thresholds of the classification\n",
    "probs = res_3m.predict(X_new)\n",
    "preds = probs\n",
    "fpr, tpr, threshold = metrics.roc_curve(y_new, preds)\n",
    "roc_auc = metrics.auc(fpr, tpr)\n",
    "# method I: plt\n",
    "import matplotlib.pyplot as plt\n",
    "plt.title('Receiver Operating Characteristic')\n",
    "plt.plot(fpr, tpr, 'b', label = 'AUC = %0.2f' % roc_auc)\n",
    "plt.legend(loc = 'lower right')\n",
    "plt.plot([0, 1], [0, 1],'r--')\n",
    "plt.xlim([0, 1])\n",
    "plt.ylim([0, 1])\n",
    "plt.ylabel('True Positive Rate')\n",
    "plt.xlabel('False Positive Rate')\n",
    "plt.show()"
   ]
  },
  {
   "cell_type": "code",
   "execution_count": 195,
   "metadata": {
    "collapsed": true
   },
   "outputs": [
    {
     "ename": "KeyError",
     "evalue": "'x'",
     "output_type": "error",
     "traceback": [
      "\u001b[1;31m---------------------------------------------------------------------------\u001b[0m",
      "\u001b[1;31mKeyError\u001b[0m                                  Traceback (most recent call last)",
      "\u001b[1;32m~\\Anaconda3\\lib\\site-packages\\pandas\\core\\indexes\\base.py\u001b[0m in \u001b[0;36mget_loc\u001b[1;34m(self, key, method, tolerance)\u001b[0m\n\u001b[0;32m   2656\u001b[0m             \u001b[1;32mtry\u001b[0m\u001b[1;33m:\u001b[0m\u001b[1;33m\u001b[0m\u001b[1;33m\u001b[0m\u001b[0m\n\u001b[1;32m-> 2657\u001b[1;33m                 \u001b[1;32mreturn\u001b[0m \u001b[0mself\u001b[0m\u001b[1;33m.\u001b[0m\u001b[0m_engine\u001b[0m\u001b[1;33m.\u001b[0m\u001b[0mget_loc\u001b[0m\u001b[1;33m(\u001b[0m\u001b[0mkey\u001b[0m\u001b[1;33m)\u001b[0m\u001b[1;33m\u001b[0m\u001b[1;33m\u001b[0m\u001b[0m\n\u001b[0m\u001b[0;32m   2658\u001b[0m             \u001b[1;32mexcept\u001b[0m \u001b[0mKeyError\u001b[0m\u001b[1;33m:\u001b[0m\u001b[1;33m\u001b[0m\u001b[1;33m\u001b[0m\u001b[0m\n",
      "\u001b[1;32mpandas/_libs/index.pyx\u001b[0m in \u001b[0;36mpandas._libs.index.IndexEngine.get_loc\u001b[1;34m()\u001b[0m\n",
      "\u001b[1;32mpandas/_libs/index.pyx\u001b[0m in \u001b[0;36mpandas._libs.index.IndexEngine.get_loc\u001b[1;34m()\u001b[0m\n",
      "\u001b[1;32mpandas/_libs/hashtable_class_helper.pxi\u001b[0m in \u001b[0;36mpandas._libs.hashtable.PyObjectHashTable.get_item\u001b[1;34m()\u001b[0m\n",
      "\u001b[1;32mpandas/_libs/hashtable_class_helper.pxi\u001b[0m in \u001b[0;36mpandas._libs.hashtable.PyObjectHashTable.get_item\u001b[1;34m()\u001b[0m\n",
      "\u001b[1;31mKeyError\u001b[0m: 'x'",
      "\nDuring handling of the above exception, another exception occurred:\n",
      "\u001b[1;31mKeyError\u001b[0m                                  Traceback (most recent call last)",
      "\u001b[1;32m<ipython-input-195-ad36c5f5faa3>\u001b[0m in \u001b[0;36m<module>\u001b[1;34m\u001b[0m\n\u001b[0;32m      1\u001b[0m \u001b[1;32mfrom\u001b[0m \u001b[0mscipy\u001b[0m\u001b[1;33m.\u001b[0m\u001b[0mspecial\u001b[0m \u001b[1;32mimport\u001b[0m \u001b[0mexpit\u001b[0m\u001b[1;33m\u001b[0m\u001b[1;33m\u001b[0m\u001b[0m\n\u001b[0;32m      2\u001b[0m \u001b[1;33m\u001b[0m\u001b[0m\n\u001b[1;32m----> 3\u001b[1;33m \u001b[0msigmoid_function\u001b[0m \u001b[1;33m=\u001b[0m \u001b[0mexpit\u001b[0m\u001b[1;33m(\u001b[0m\u001b[0mdf\u001b[0m\u001b[1;33m[\u001b[0m\u001b[1;34m'x'\u001b[0m\u001b[1;33m]\u001b[0m \u001b[1;33m*\u001b[0m \u001b[0mlr\u001b[0m\u001b[1;33m.\u001b[0m\u001b[0mcoef_\u001b[0m\u001b[1;33m[\u001b[0m\u001b[1;36m0\u001b[0m\u001b[1;33m]\u001b[0m\u001b[1;33m[\u001b[0m\u001b[1;36m0\u001b[0m\u001b[1;33m]\u001b[0m \u001b[1;33m+\u001b[0m \u001b[0mlr\u001b[0m\u001b[1;33m.\u001b[0m\u001b[0mintercept_\u001b[0m\u001b[1;33m[\u001b[0m\u001b[1;36m0\u001b[0m\u001b[1;33m]\u001b[0m\u001b[1;33m)\u001b[0m\u001b[1;33m.\u001b[0m\u001b[0mravel\u001b[0m\u001b[1;33m(\u001b[0m\u001b[1;33m)\u001b[0m\u001b[1;33m\u001b[0m\u001b[1;33m\u001b[0m\u001b[0m\n\u001b[0m\u001b[0;32m      4\u001b[0m \u001b[0mplt\u001b[0m\u001b[1;33m.\u001b[0m\u001b[0mplot\u001b[0m\u001b[1;33m(\u001b[0m\u001b[0mdf\u001b[0m\u001b[1;33m[\u001b[0m\u001b[1;34m''\u001b[0m\u001b[1;33m]\u001b[0m\u001b[1;33m,\u001b[0m \u001b[0msigmoid_function\u001b[0m\u001b[1;33m)\u001b[0m\u001b[1;33m\u001b[0m\u001b[1;33m\u001b[0m\u001b[0m\n\u001b[0;32m      5\u001b[0m \u001b[0mplt\u001b[0m\u001b[1;33m.\u001b[0m\u001b[0mscatter\u001b[0m\u001b[1;33m(\u001b[0m\u001b[0mdf\u001b[0m\u001b[1;33m[\u001b[0m\u001b[1;34m'X_cat'\u001b[0m\u001b[1;33m]\u001b[0m\u001b[1;33m,\u001b[0m \u001b[0mdf\u001b[0m\u001b[1;33m[\u001b[0m\u001b[1;34m'y'\u001b[0m\u001b[1;33m]\u001b[0m\u001b[1;33m,\u001b[0m \u001b[0mc\u001b[0m\u001b[1;33m=\u001b[0m\u001b[0mdf\u001b[0m\u001b[1;33m[\u001b[0m\u001b[1;34m'y'\u001b[0m\u001b[1;33m]\u001b[0m\u001b[1;33m,\u001b[0m \u001b[0mcmap\u001b[0m\u001b[1;33m=\u001b[0m\u001b[1;34m'rainbow'\u001b[0m\u001b[1;33m,\u001b[0m \u001b[0medgecolors\u001b[0m\u001b[1;33m=\u001b[0m\u001b[1;34m'b'\u001b[0m\u001b[1;33m)\u001b[0m\u001b[1;33m\u001b[0m\u001b[1;33m\u001b[0m\u001b[0m\n",
      "\u001b[1;32m~\\Anaconda3\\lib\\site-packages\\pandas\\core\\frame.py\u001b[0m in \u001b[0;36m__getitem__\u001b[1;34m(self, key)\u001b[0m\n\u001b[0;32m   2925\u001b[0m             \u001b[1;32mif\u001b[0m \u001b[0mself\u001b[0m\u001b[1;33m.\u001b[0m\u001b[0mcolumns\u001b[0m\u001b[1;33m.\u001b[0m\u001b[0mnlevels\u001b[0m \u001b[1;33m>\u001b[0m \u001b[1;36m1\u001b[0m\u001b[1;33m:\u001b[0m\u001b[1;33m\u001b[0m\u001b[1;33m\u001b[0m\u001b[0m\n\u001b[0;32m   2926\u001b[0m                 \u001b[1;32mreturn\u001b[0m \u001b[0mself\u001b[0m\u001b[1;33m.\u001b[0m\u001b[0m_getitem_multilevel\u001b[0m\u001b[1;33m(\u001b[0m\u001b[0mkey\u001b[0m\u001b[1;33m)\u001b[0m\u001b[1;33m\u001b[0m\u001b[1;33m\u001b[0m\u001b[0m\n\u001b[1;32m-> 2927\u001b[1;33m             \u001b[0mindexer\u001b[0m \u001b[1;33m=\u001b[0m \u001b[0mself\u001b[0m\u001b[1;33m.\u001b[0m\u001b[0mcolumns\u001b[0m\u001b[1;33m.\u001b[0m\u001b[0mget_loc\u001b[0m\u001b[1;33m(\u001b[0m\u001b[0mkey\u001b[0m\u001b[1;33m)\u001b[0m\u001b[1;33m\u001b[0m\u001b[1;33m\u001b[0m\u001b[0m\n\u001b[0m\u001b[0;32m   2928\u001b[0m             \u001b[1;32mif\u001b[0m \u001b[0mis_integer\u001b[0m\u001b[1;33m(\u001b[0m\u001b[0mindexer\u001b[0m\u001b[1;33m)\u001b[0m\u001b[1;33m:\u001b[0m\u001b[1;33m\u001b[0m\u001b[1;33m\u001b[0m\u001b[0m\n\u001b[0;32m   2929\u001b[0m                 \u001b[0mindexer\u001b[0m \u001b[1;33m=\u001b[0m \u001b[1;33m[\u001b[0m\u001b[0mindexer\u001b[0m\u001b[1;33m]\u001b[0m\u001b[1;33m\u001b[0m\u001b[1;33m\u001b[0m\u001b[0m\n",
      "\u001b[1;32m~\\Anaconda3\\lib\\site-packages\\pandas\\core\\indexes\\base.py\u001b[0m in \u001b[0;36mget_loc\u001b[1;34m(self, key, method, tolerance)\u001b[0m\n\u001b[0;32m   2657\u001b[0m                 \u001b[1;32mreturn\u001b[0m \u001b[0mself\u001b[0m\u001b[1;33m.\u001b[0m\u001b[0m_engine\u001b[0m\u001b[1;33m.\u001b[0m\u001b[0mget_loc\u001b[0m\u001b[1;33m(\u001b[0m\u001b[0mkey\u001b[0m\u001b[1;33m)\u001b[0m\u001b[1;33m\u001b[0m\u001b[1;33m\u001b[0m\u001b[0m\n\u001b[0;32m   2658\u001b[0m             \u001b[1;32mexcept\u001b[0m \u001b[0mKeyError\u001b[0m\u001b[1;33m:\u001b[0m\u001b[1;33m\u001b[0m\u001b[1;33m\u001b[0m\u001b[0m\n\u001b[1;32m-> 2659\u001b[1;33m                 \u001b[1;32mreturn\u001b[0m \u001b[0mself\u001b[0m\u001b[1;33m.\u001b[0m\u001b[0m_engine\u001b[0m\u001b[1;33m.\u001b[0m\u001b[0mget_loc\u001b[0m\u001b[1;33m(\u001b[0m\u001b[0mself\u001b[0m\u001b[1;33m.\u001b[0m\u001b[0m_maybe_cast_indexer\u001b[0m\u001b[1;33m(\u001b[0m\u001b[0mkey\u001b[0m\u001b[1;33m)\u001b[0m\u001b[1;33m)\u001b[0m\u001b[1;33m\u001b[0m\u001b[1;33m\u001b[0m\u001b[0m\n\u001b[0m\u001b[0;32m   2660\u001b[0m         \u001b[0mindexer\u001b[0m \u001b[1;33m=\u001b[0m \u001b[0mself\u001b[0m\u001b[1;33m.\u001b[0m\u001b[0mget_indexer\u001b[0m\u001b[1;33m(\u001b[0m\u001b[1;33m[\u001b[0m\u001b[0mkey\u001b[0m\u001b[1;33m]\u001b[0m\u001b[1;33m,\u001b[0m \u001b[0mmethod\u001b[0m\u001b[1;33m=\u001b[0m\u001b[0mmethod\u001b[0m\u001b[1;33m,\u001b[0m \u001b[0mtolerance\u001b[0m\u001b[1;33m=\u001b[0m\u001b[0mtolerance\u001b[0m\u001b[1;33m)\u001b[0m\u001b[1;33m\u001b[0m\u001b[1;33m\u001b[0m\u001b[0m\n\u001b[0;32m   2661\u001b[0m         \u001b[1;32mif\u001b[0m \u001b[0mindexer\u001b[0m\u001b[1;33m.\u001b[0m\u001b[0mndim\u001b[0m \u001b[1;33m>\u001b[0m \u001b[1;36m1\u001b[0m \u001b[1;32mor\u001b[0m \u001b[0mindexer\u001b[0m\u001b[1;33m.\u001b[0m\u001b[0msize\u001b[0m \u001b[1;33m>\u001b[0m \u001b[1;36m1\u001b[0m\u001b[1;33m:\u001b[0m\u001b[1;33m\u001b[0m\u001b[1;33m\u001b[0m\u001b[0m\n",
      "\u001b[1;32mpandas/_libs/index.pyx\u001b[0m in \u001b[0;36mpandas._libs.index.IndexEngine.get_loc\u001b[1;34m()\u001b[0m\n",
      "\u001b[1;32mpandas/_libs/index.pyx\u001b[0m in \u001b[0;36mpandas._libs.index.IndexEngine.get_loc\u001b[1;34m()\u001b[0m\n",
      "\u001b[1;32mpandas/_libs/hashtable_class_helper.pxi\u001b[0m in \u001b[0;36mpandas._libs.hashtable.PyObjectHashTable.get_item\u001b[1;34m()\u001b[0m\n",
      "\u001b[1;32mpandas/_libs/hashtable_class_helper.pxi\u001b[0m in \u001b[0;36mpandas._libs.hashtable.PyObjectHashTable.get_item\u001b[1;34m()\u001b[0m\n",
      "\u001b[1;31mKeyError\u001b[0m: 'x'"
     ]
    }
   ],
   "source": [
    "from scipy.special import expit\n",
    "\n",
    "sigmoid_function = expit(df['x'] * lr.coef_[0][0] + lr.intercept_[0]).ravel()\n",
    "plt.plot(df[''], sigmoid_function)\n",
    "plt.scatter(df['X_cat'], df['y'], c=df['y'], cmap='rainbow', edgecolors='b')"
   ]
  },
  {
   "cell_type": "markdown",
   "metadata": {},
   "source": [
    "### Select the best model and test it on real employee"
   ]
  },
  {
   "cell_type": "code",
   "execution_count": 316,
   "metadata": {},
   "outputs": [
    {
     "data": {
      "text/html": [
       "<div>\n",
       "<style scoped>\n",
       "    .dataframe tbody tr th:only-of-type {\n",
       "        vertical-align: middle;\n",
       "    }\n",
       "\n",
       "    .dataframe tbody tr th {\n",
       "        vertical-align: top;\n",
       "    }\n",
       "\n",
       "    .dataframe thead th {\n",
       "        text-align: right;\n",
       "    }\n",
       "</style>\n",
       "<table border=\"1\" class=\"dataframe\">\n",
       "  <thead>\n",
       "    <tr style=\"text-align: right;\">\n",
       "      <th></th>\n",
       "      <th>min</th>\n",
       "      <th>max</th>\n",
       "    </tr>\n",
       "  </thead>\n",
       "  <tbody>\n",
       "    <tr>\n",
       "      <th>const</th>\n",
       "      <td>1.0</td>\n",
       "      <td>1.0</td>\n",
       "    </tr>\n",
       "    <tr>\n",
       "      <th>JobSatisfaction</th>\n",
       "      <td>1.0</td>\n",
       "      <td>4.0</td>\n",
       "    </tr>\n",
       "    <tr>\n",
       "      <th>BusinessTravel</th>\n",
       "      <td>0.0</td>\n",
       "      <td>2.0</td>\n",
       "    </tr>\n",
       "    <tr>\n",
       "      <th>Distance_Home</th>\n",
       "      <td>1.0</td>\n",
       "      <td>4.0</td>\n",
       "    </tr>\n",
       "    <tr>\n",
       "      <th>OverTime</th>\n",
       "      <td>0.0</td>\n",
       "      <td>1.0</td>\n",
       "    </tr>\n",
       "    <tr>\n",
       "      <th>EnvironmentSatisfaction</th>\n",
       "      <td>1.0</td>\n",
       "      <td>4.0</td>\n",
       "    </tr>\n",
       "    <tr>\n",
       "      <th>RelationshipSatisfaction</th>\n",
       "      <td>1.0</td>\n",
       "      <td>4.0</td>\n",
       "    </tr>\n",
       "    <tr>\n",
       "      <th>NumCompaniesWorked</th>\n",
       "      <td>0.0</td>\n",
       "      <td>9.0</td>\n",
       "    </tr>\n",
       "    <tr>\n",
       "      <th>StockOptionLevel</th>\n",
       "      <td>0.0</td>\n",
       "      <td>3.0</td>\n",
       "    </tr>\n",
       "    <tr>\n",
       "      <th>TotalWorkingYears</th>\n",
       "      <td>0.0</td>\n",
       "      <td>40.0</td>\n",
       "    </tr>\n",
       "    <tr>\n",
       "      <th>TrainingTimesLastYear</th>\n",
       "      <td>0.0</td>\n",
       "      <td>6.0</td>\n",
       "    </tr>\n",
       "    <tr>\n",
       "      <th>YearsInCurrentRole</th>\n",
       "      <td>0.0</td>\n",
       "      <td>18.0</td>\n",
       "    </tr>\n",
       "    <tr>\n",
       "      <th>YearsSinceLastPromotion</th>\n",
       "      <td>0.0</td>\n",
       "      <td>15.0</td>\n",
       "    </tr>\n",
       "    <tr>\n",
       "      <th>YearsWithCurrManager</th>\n",
       "      <td>0.0</td>\n",
       "      <td>17.0</td>\n",
       "    </tr>\n",
       "    <tr>\n",
       "      <th>Gender_Male</th>\n",
       "      <td>0.0</td>\n",
       "      <td>1.0</td>\n",
       "    </tr>\n",
       "  </tbody>\n",
       "</table>\n",
       "</div>"
      ],
      "text/plain": [
       "                          min   max\n",
       "const                     1.0   1.0\n",
       "JobSatisfaction           1.0   4.0\n",
       "BusinessTravel            0.0   2.0\n",
       "Distance_Home             1.0   4.0\n",
       "OverTime                  0.0   1.0\n",
       "EnvironmentSatisfaction   1.0   4.0\n",
       "RelationshipSatisfaction  1.0   4.0\n",
       "NumCompaniesWorked        0.0   9.0\n",
       "StockOptionLevel          0.0   3.0\n",
       "TotalWorkingYears         0.0  40.0\n",
       "TrainingTimesLastYear     0.0   6.0\n",
       "YearsInCurrentRole        0.0  18.0\n",
       "YearsSinceLastPromotion   0.0  15.0\n",
       "YearsWithCurrManager      0.0  17.0\n",
       "Gender_Male               0.0   1.0"
      ]
     },
     "execution_count": 316,
     "metadata": {},
     "output_type": "execute_result"
    }
   ],
   "source": [
    "des=X_cat.describe().T\n",
    "des[['min','max']]"
   ]
  },
  {
   "cell_type": "code",
   "execution_count": 292,
   "metadata": {},
   "outputs": [],
   "source": [
    "columns=['const', 'JobSatisfaction', 'BusinessTravel', 'Distance_Home',\n",
    "       'OverTime', 'EnvironmentSatisfaction',\n",
    "       'NumCompaniesWorked', 'StockOptionLevel', 'TotalWorkingYears',\n",
    "       'TrainingTimesLastYear', 'YearsInCurrentRole',\n",
    "       'YearsSinceLastPromotion', 'YearsWithCurrManager', 'Gender_Male']"
   ]
  },
  {
   "cell_type": "markdown",
   "metadata": {},
   "source": [
    "Louis - actually he wants to quit it is current company "
   ]
  },
  {
   "cell_type": "code",
   "execution_count": 347,
   "metadata": {},
   "outputs": [],
   "source": [
    "test_Louis=pd.DataFrame({'const':[1], 'JobSatisfaction':[2], 'BusinessTravel':[0], 'Distance_Home':[1],\n",
    "       'OverTime':[1], 'EnvironmentSatisfaction':[3],\n",
    "       'NumCompaniesWorked':[1], 'StockOptionLevel':[0], 'TotalWorkingYears':[2],\n",
    "       'TrainingTimesLastYear':[2], 'YearsInCurrentRole':[3],\n",
    "       'YearsSinceLastPromotion':[2], 'YearsWithCurrManager':[3], 'Gender_Male':[1]},columns=columns)"
   ]
  },
  {
   "cell_type": "code",
   "execution_count": 348,
   "metadata": {},
   "outputs": [],
   "source": [
    "pred_test=model_4m.predict(test_Louis)"
   ]
  },
  {
   "cell_type": "code",
   "execution_count": 349,
   "metadata": {},
   "outputs": [
    {
     "name": "stdout",
     "output_type": "stream",
     "text": [
      "Louis wants to quit Bpifrance! \n"
     ]
    }
   ],
   "source": [
    "if pred_test[0] == 1: \n",
    "    print('Louis wants to quit Bpifrance! ')\n",
    "else:\n",
    "    print('Good news! Louis wants to stay in the company!')"
   ]
  },
  {
   "cell_type": "markdown",
   "metadata": {},
   "source": [
    "Sarah - doesn't want to quit"
   ]
  },
  {
   "cell_type": "code",
   "execution_count": 365,
   "metadata": {},
   "outputs": [],
   "source": [
    "test_Sarah=pd.DataFrame({'const':[1], 'JobSatisfaction':[3], 'BusinessTravel':[1], 'Distance_Home':[2],\n",
    "       'OverTime':[0], 'EnvironmentSatisfaction':[3],\n",
    "       'NumCompaniesWorked':[2], 'StockOptionLevel':[0], 'TotalWorkingYears':[5],\n",
    "       'TrainingTimesLastYear':[3], 'YearsInCurrentRole':[1],\n",
    "       'YearsSinceLastPromotion':[1], 'YearsWithCurrManager':[1], 'Gender_Male':[0]}, columns=columns)"
   ]
  },
  {
   "cell_type": "code",
   "execution_count": 366,
   "metadata": {},
   "outputs": [],
   "source": [
    "pred_test=model_4m.predict(test_Sarah)"
   ]
  },
  {
   "cell_type": "code",
   "execution_count": 367,
   "metadata": {},
   "outputs": [
    {
     "name": "stdout",
     "output_type": "stream",
     "text": [
      "Good news! Sarah wants to stay in the company!\n"
     ]
    }
   ],
   "source": [
    "if pred_test[0] == 1: \n",
    "    print('Sarah wants to quit Bpifrance! ')\n",
    "else:\n",
    "    print('Good news! Sarah wants to stay in the company!')"
   ]
  }
 ],
 "metadata": {
  "kernelspec": {
   "display_name": "Python 3",
   "language": "python",
   "name": "python3"
  },
  "language_info": {
   "codemirror_mode": {
    "name": "ipython",
    "version": 3
   },
   "file_extension": ".py",
   "mimetype": "text/x-python",
   "name": "python",
   "nbconvert_exporter": "python",
   "pygments_lexer": "ipython3",
   "version": "3.7.3"
  }
 },
 "nbformat": 4,
 "nbformat_minor": 2
}
